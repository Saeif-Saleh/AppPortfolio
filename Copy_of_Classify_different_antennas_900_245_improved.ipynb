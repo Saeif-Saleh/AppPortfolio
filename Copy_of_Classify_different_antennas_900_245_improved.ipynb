{
  "nbformat": 4,
  "nbformat_minor": 0,
  "metadata": {
    "colab": {
      "name": "Copy of Classify_different_antennas_900_245.ipynb",
      "provenance": [],
      "toc_visible": true,
      "machine_shape": "hm",
      "mount_file_id": "1OR23bwrW9uss0BH_lphf-9DZW-ayYPis",
      "authorship_tag": "ABX9TyPH5SXceJPlyYYnd4wxpZrc",
      "include_colab_link": true
    },
    "kernelspec": {
      "name": "python3",
      "display_name": "Python 3"
    },
    "accelerator": "GPU"
  },
  "cells": [
    {
      "cell_type": "markdown",
      "metadata": {
        "id": "view-in-github",
        "colab_type": "text"
      },
      "source": [
        "<a href=\"https://colab.research.google.com/github/Saeif-Saleh/AppPortfolio/blob/master/Copy_of_Classify_different_antennas_900_245_improved.ipynb\" target=\"_parent\"><img src=\"https://colab.research.google.com/assets/colab-badge.svg\" alt=\"Open In Colab\"/></a>"
      ]
    },
    {
      "cell_type": "code",
      "metadata": {
        "id": "Rggh1H0Ok922",
        "colab_type": "code",
        "outputId": "cabd8521-eefb-427a-a52c-de5cbc26420d",
        "colab": {
          "base_uri": "https://localhost:8080/",
          "height": 306
        }
      },
      "source": [
        "!nvidia-smi\n",
        "# !pip install --upgrade tensorflow\n"
      ],
      "execution_count": 1,
      "outputs": [
        {
          "output_type": "stream",
          "text": [
            "Tue Mar  3 21:49:52 2020       \n",
            "+-----------------------------------------------------------------------------+\n",
            "| NVIDIA-SMI 440.48.02    Driver Version: 418.67       CUDA Version: 10.1     |\n",
            "|-------------------------------+----------------------+----------------------+\n",
            "| GPU  Name        Persistence-M| Bus-Id        Disp.A | Volatile Uncorr. ECC |\n",
            "| Fan  Temp  Perf  Pwr:Usage/Cap|         Memory-Usage | GPU-Util  Compute M. |\n",
            "|===============================+======================+======================|\n",
            "|   0  Tesla P100-PCIE...  Off  | 00000000:00:04.0 Off |                    0 |\n",
            "| N/A   41C    P0    29W / 250W |      0MiB / 16280MiB |      0%      Default |\n",
            "+-------------------------------+----------------------+----------------------+\n",
            "                                                                               \n",
            "+-----------------------------------------------------------------------------+\n",
            "| Processes:                                                       GPU Memory |\n",
            "|  GPU       PID   Type   Process name                             Usage      |\n",
            "|=============================================================================|\n",
            "|  No running processes found                                                 |\n",
            "+-----------------------------------------------------------------------------+\n"
          ],
          "name": "stdout"
        }
      ]
    },
    {
      "cell_type": "code",
      "metadata": {
        "id": "4mLiQr6FlwAw",
        "colab_type": "code",
        "colab": {}
      },
      "source": [
        "import scipy.io\n",
        "import numpy as np"
      ],
      "execution_count": 0,
      "outputs": []
    },
    {
      "cell_type": "code",
      "metadata": {
        "id": "wjJErQpGl2dh",
        "colab_type": "code",
        "colab": {}
      },
      "source": [
        "matlab_data=scipy.io.loadmat('/content/drive/My Drive/thesis_data/R900_245_4.mat')"
      ],
      "execution_count": 0,
      "outputs": []
    },
    {
      "cell_type": "code",
      "metadata": {
        "id": "t5zXRcErl-lg",
        "colab_type": "code",
        "outputId": "f14c2c10-7406-459b-cc28-9fb26d5584f7",
        "colab": {
          "base_uri": "https://localhost:8080/",
          "height": 34
        }
      },
      "source": [
        "print(list(matlab_data.keys())[3:])"
      ],
      "execution_count": 4,
      "outputs": [
        {
          "output_type": "stream",
          "text": [
            "['R900_T2450_test', 'R900_T2450_train', 'R900_T500_test', 'R900_T500_train', 'R900_T900_test', 'R900_T900_train', 'R900_lime_test', 'R900_lime_train']\n"
          ],
          "name": "stdout"
        }
      ]
    },
    {
      "cell_type": "code",
      "metadata": {
        "id": "ErDxJVc_mCX-",
        "colab_type": "code",
        "colab": {}
      },
      "source": [
        "train_900=matlab_data['R900_T900_train']\n",
        "train_2450=matlab_data['R900_T2450_train']\n",
        "train_500=matlab_data['R900_T500_train']\n"
      ],
      "execution_count": 0,
      "outputs": []
    },
    {
      "cell_type": "code",
      "metadata": {
        "id": "gtybbgZsn-VF",
        "colab_type": "code",
        "outputId": "1d86a7af-9ef1-43cb-cab6-884292310c55",
        "colab": {
          "base_uri": "https://localhost:8080/",
          "height": 68
        }
      },
      "source": [
        "print(train_900.shape)\n",
        "print(train_2450.shape)\n",
        "print(train_500.shape)"
      ],
      "execution_count": 21,
      "outputs": [
        {
          "output_type": "stream",
          "text": [
            "(79094137, 2)\n",
            "(78204989, 2)\n",
            "(80362202, 2)\n"
          ],
          "name": "stdout"
        }
      ]
    },
    {
      "cell_type": "code",
      "metadata": {
        "id": "FkcmqluJoOaS",
        "colab_type": "code",
        "colab": {}
      },
      "source": [
        "# test_900=matlab_data['R900_T900_test']\n",
        "# test_2450=matlab_data['R900_T2450_test']\n",
        "# test_500=matlab_data['R900_T500_test']\n"
      ],
      "execution_count": 0,
      "outputs": []
    },
    {
      "cell_type": "code",
      "metadata": {
        "id": "oGlulEazoYhh",
        "colab_type": "code",
        "colab": {}
      },
      "source": [
        "# print(test_900.shape)\n",
        "# print(test_2450.shape)\n",
        "# print(test_500.shape)"
      ],
      "execution_count": 0,
      "outputs": []
    },
    {
      "cell_type": "code",
      "metadata": {
        "id": "F1Kr_u8u0v8n",
        "colab_type": "code",
        "outputId": "c9587e50-8c07-42d4-e10d-5eb9e6c37556",
        "colab": {
          "base_uri": "https://localhost:8080/",
          "height": 68
        }
      },
      "source": [
        "print(train_900.shape)\n",
        "print(train_2450.shape)\n",
        "print(train_500.shape)"
      ],
      "execution_count": 24,
      "outputs": [
        {
          "output_type": "stream",
          "text": [
            "(79094137, 2)\n",
            "(78204989, 2)\n",
            "(80362202, 2)\n"
          ],
          "name": "stdout"
        }
      ]
    },
    {
      "cell_type": "code",
      "metadata": {
        "id": "QpzINBYLofEo",
        "colab_type": "code",
        "colab": {}
      },
      "source": [
        "#Slicing data to be divisible by 2**n \n",
        "# train_900=train_900[1000000:5194304]\n",
        "# train_2450=train_2450[1000000:5194304]\n",
        "# train_500=train_500[1000000:5194304]\n",
        "\n",
        "train_900=train_900[:41943040]\n",
        "train_2450=train_2450[:41943040]\n",
        "train_500=train_500[:41943040]\n",
        "\n",
        "\n",
        "\n"
      ],
      "execution_count": 0,
      "outputs": []
    },
    {
      "cell_type": "code",
      "metadata": {
        "id": "HjLFd5czapbI",
        "colab_type": "code",
        "colab": {}
      },
      "source": [
        "# test_900=test_900[1000000:9388608]\n",
        "# test_2450=test_2450[1000000:9388608]\n",
        "# test_500=test_500[1000000:9388608]\n",
        "\n"
      ],
      "execution_count": 0,
      "outputs": []
    },
    {
      "cell_type": "code",
      "metadata": {
        "id": "X1IOmmriGZFx",
        "colab_type": "code",
        "colab": {}
      },
      "source": [
        ""
      ],
      "execution_count": 0,
      "outputs": []
    },
    {
      "cell_type": "code",
      "metadata": {
        "id": "4fLypDHWqf0W",
        "colab_type": "code",
        "outputId": "75b06eb6-8939-49f5-cc83-de9b0a5c07b0",
        "colab": {
          "base_uri": "https://localhost:8080/",
          "height": 34
        }
      },
      "source": [
        "#Concatenate training and test data\n",
        "train_x=np.concatenate((train_900,train_2450,train_500),axis=0)\n",
        "# test_x=np.concatenate((test_900,test_2450,test_500),axis=0)\n",
        "print(train_x.shape)\n",
        "# print(test_x.shape)\n"
      ],
      "execution_count": 26,
      "outputs": [
        {
          "output_type": "stream",
          "text": [
            "(125829120, 2)\n"
          ],
          "name": "stdout"
        }
      ]
    },
    {
      "cell_type": "code",
      "metadata": {
        "id": "Y_fu6zdXpVX5",
        "colab_type": "code",
        "colab": {}
      },
      "source": [
        "import tensorflow as tf\n",
        "from tensorflow import keras\n",
        "from tensorflow.keras import layers\n",
        "from keras import regularizers"
      ],
      "execution_count": 0,
      "outputs": []
    },
    {
      "cell_type": "code",
      "metadata": {
        "id": "oThxJdsGsOav",
        "colab_type": "code",
        "colab": {}
      },
      "source": [
        "n_classes=3\n",
        "sample_size=128"
      ],
      "execution_count": 0,
      "outputs": []
    },
    {
      "cell_type": "code",
      "metadata": {
        "id": "xWUqsrhqsCdT",
        "colab_type": "code",
        "colab": {}
      },
      "source": [
        "train_x=train_x.reshape(-1,2,sample_size)\n",
        "# test_x=test_x.reshape(-1,2,sample_size)"
      ],
      "execution_count": 0,
      "outputs": []
    },
    {
      "cell_type": "code",
      "metadata": {
        "id": "M3oOMomesUjH",
        "colab_type": "code",
        "colab": {}
      },
      "source": [
        "#Creating train_y\n",
        "train_y=np.zeros(len(train_x))\n",
        "seprator=int(len(train_y)/n_classes)\n",
        "train_y[0:seprator]=0\n",
        "train_y[seprator:2*seprator]=1\n",
        "train_y[2*seprator:3*seprator]=2\n",
        "# train_y[3*seprator:]=3\n",
        "#Creating test_y\n",
        "# test_y=np.zeros(len(test_x))\n",
        "# seprator=int(len(test_y)/n_classes)\n",
        "# test_y[0:seprator]=0\n",
        "# test_y[seprator:2*seprator]=1\n",
        "# test_y[2*seprator:3*seprator]=2\n",
        "# # test_y[3*seprator:]=3\n"
      ],
      "execution_count": 0,
      "outputs": []
    },
    {
      "cell_type": "code",
      "metadata": {
        "id": "5PyB6URgsavB",
        "colab_type": "code",
        "colab": {}
      },
      "source": [
        "train_y=tf.keras.utils.to_categorical(\n",
        "    train_y,\n",
        "    num_classes=n_classes,\n",
        "    dtype='float32'\n",
        ")\n",
        "# test_y=tf.keras.utils.to_categorical(\n",
        "#     test_y,\n",
        "#     num_classes=n_classes,\n",
        "#     dtype='float32'\n",
        "# )"
      ],
      "execution_count": 0,
      "outputs": []
    },
    {
      "cell_type": "code",
      "metadata": {
        "id": "5X5zkY54oleA",
        "colab_type": "code",
        "outputId": "0b98e9d4-3ca9-4583-91d8-bc328e723214",
        "colab": {
          "base_uri": "https://localhost:8080/",
          "height": 51
        }
      },
      "source": [
        "print(train_x.shape)\n",
        "print(train_y.shape)"
      ],
      "execution_count": 32,
      "outputs": [
        {
          "output_type": "stream",
          "text": [
            "(983040, 2, 128)\n",
            "(983040, 3)\n"
          ],
          "name": "stdout"
        }
      ]
    },
    {
      "cell_type": "code",
      "metadata": {
        "id": "y4T7ZE2lsdfw",
        "colab_type": "code",
        "colab": {}
      },
      "source": [
        "img_rows=sample_size\n",
        "img_cols=2\n",
        "train_x = train_x.reshape(-1, img_rows, img_cols, 1)\n",
        "# test_x=test_x.reshape(-1,img_rows,img_cols,1)\n",
        "input_shape = (img_rows, img_cols, 1)"
      ],
      "execution_count": 0,
      "outputs": []
    },
    {
      "cell_type": "code",
      "metadata": {
        "id": "wF8JqJule3QZ",
        "colab_type": "code",
        "outputId": "12bc141d-b12f-491a-ecdd-66acc83499e7",
        "colab": {
          "base_uri": "https://localhost:8080/",
          "height": 68
        }
      },
      "source": [
        "print(input_shape)\n",
        "print(train_x.shape)\n",
        "print(train_y.shape)"
      ],
      "execution_count": 34,
      "outputs": [
        {
          "output_type": "stream",
          "text": [
            "(128, 2, 1)\n",
            "(983040, 128, 2, 1)\n",
            "(983040, 3)\n"
          ],
          "name": "stdout"
        }
      ]
    },
    {
      "cell_type": "code",
      "metadata": {
        "id": "BrchRLVFaL8V",
        "colab_type": "code",
        "colab": {}
      },
      "source": [
        "from sklearn.model_selection import train_test_split\n",
        "train_x, test_x, train_y, test_y = train_test_split(train_x, train_y, test_size=0.25, shuffle= True)"
      ],
      "execution_count": 0,
      "outputs": []
    },
    {
      "cell_type": "code",
      "metadata": {
        "id": "Ghu6plYElUTd",
        "colab_type": "code",
        "colab": {}
      },
      "source": [
        "train_x, valid_x, train_y,valid_y = train_test_split(train_x, train_y, test_size=0.20, shuffle= True)"
      ],
      "execution_count": 0,
      "outputs": []
    },
    {
      "cell_type": "code",
      "metadata": {
        "id": "3oJDu4amX-O9",
        "colab_type": "code",
        "colab": {}
      },
      "source": [
        "def create_model():\n",
        "  model = tf.keras.models.Sequential()\n",
        "  model.add(tf.keras.layers.BatchNormalization(input_shape=input_shape))\n",
        "  model.add(tf.keras.layers.Conv2D(64, (1, 2), padding='same', activation='elu'))\n",
        "\n",
        "  model.add(tf.keras.layers.Dropout(0.25))\n",
        "\n",
        "  model.add(tf.keras.layers.BatchNormalization(input_shape=input_shape))\n",
        "  model.add(tf.keras.layers.Conv2D(128, (1, 2), padding='same', activation='elu'))\n",
        "\n",
        "  model.add(tf.keras.layers.Dropout(0.25))\n",
        "\n",
        "  model.add(tf.keras.layers.BatchNormalization(input_shape=input_shape))\n",
        "  model.add(tf.keras.layers.Conv2D(256, (1, 2), padding='same', activation='elu'))\n",
        "\n",
        "  model.add(tf.keras.layers.Dropout(0.25))\n",
        "\n",
        "  model.add(tf.keras.layers.Flatten())\n",
        "  model.add(tf.keras.layers.Dense(256))\n",
        "  model.add(tf.keras.layers.Activation('elu'))\n",
        "  model.add(tf.keras.layers.Dropout(0.5))\n",
        "  model.add(tf.keras.layers.Dense(3))\n",
        "  model.add(tf.keras.layers.Activation('softmax'))\n",
        "  return model"
      ],
      "execution_count": 0,
      "outputs": []
    },
    {
      "cell_type": "code",
      "metadata": {
        "id": "aptEWkYSsnqB",
        "colab_type": "code",
        "outputId": "46cdb2ff-1e15-4d5e-8681-4ebbcc1d9b8d",
        "colab": {
          "base_uri": "https://localhost:8080/",
          "height": 374
        }
      },
      "source": [
        "\n",
        "conv_model=create_model()\n",
        "conv_model.compile(loss='categorical_crossentropy', optimizer='adam', metrics=['accuracy'])\n",
        "# Fit the model\n",
        "history=conv_model.fit(train_x, train_y, validation_data=(valid_x,valid_y), epochs=10)"
      ],
      "execution_count": 40,
      "outputs": [
        {
          "output_type": "stream",
          "text": [
            "Train on 589824 samples, validate on 147456 samples\n",
            "Epoch 1/10\n",
            "589824/589824 [==============================] - 183s 310us/sample - loss: 0.3631 - acc: 0.8351 - val_loss: 0.1850 - val_acc: 0.9177\n",
            "Epoch 2/10\n",
            "589824/589824 [==============================] - 177s 300us/sample - loss: 0.2709 - acc: 0.8754 - val_loss: 0.1831 - val_acc: 0.9202\n",
            "Epoch 3/10\n",
            "589824/589824 [==============================] - 177s 300us/sample - loss: 0.2462 - acc: 0.8858 - val_loss: 0.2842 - val_acc: 0.9273\n",
            "Epoch 4/10\n",
            "589824/589824 [==============================] - 177s 300us/sample - loss: 0.2230 - acc: 0.8976 - val_loss: 0.1764 - val_acc: 0.9240\n",
            "Epoch 5/10\n",
            "589824/589824 [==============================] - 178s 302us/sample - loss: 0.2100 - acc: 0.9019 - val_loss: 0.1708 - val_acc: 0.9250\n",
            "Epoch 6/10\n",
            "589824/589824 [==============================] - 177s 300us/sample - loss: 0.2011 - acc: 0.9061 - val_loss: 0.1842 - val_acc: 0.9312\n",
            "Epoch 7/10\n",
            "589824/589824 [==============================] - 177s 300us/sample - loss: 0.1968 - acc: 0.9085 - val_loss: 0.1530 - val_acc: 0.9288\n",
            "Epoch 8/10\n",
            "589824/589824 [==============================] - 178s 301us/sample - loss: 0.1937 - acc: 0.9097 - val_loss: 0.1593 - val_acc: 0.9275\n",
            "Epoch 9/10\n",
            "589824/589824 [==============================] - 177s 301us/sample - loss: 0.1917 - acc: 0.9112 - val_loss: 0.1598 - val_acc: 0.9327\n",
            "Epoch 10/10\n",
            "589824/589824 [==============================] - 178s 302us/sample - loss: 0.1915 - acc: 0.9113 - val_loss: 0.1577 - val_acc: 0.9277\n"
          ],
          "name": "stdout"
        }
      ]
    },
    {
      "cell_type": "code",
      "metadata": {
        "id": "DaCqX_KSP-uM",
        "colab_type": "code",
        "outputId": "80afde12-cb4f-456e-ca57-4a64956e072f",
        "colab": {
          "base_uri": "https://localhost:8080/",
          "height": 295
        }
      },
      "source": [
        "import matplotlib.pyplot as plt\n",
        "plt.plot(history.history['acc'])\n",
        "plt.plot(history.history['val_acc'])\n",
        "plt.title('Model accuracy')\n",
        "plt.ylabel('Accuracy')\n",
        "plt.xlabel('Epoch')\n",
        "plt.legend(['Train', 'Test'], loc='upper left')\n",
        "plt.show()"
      ],
      "execution_count": 41,
      "outputs": [
        {
          "output_type": "display_data",
          "data": {
            "image/png": "[encoded data removed]",
            "text/plain": [
              "<Figure size 432x288 with 1 Axes>"
            ]
          },
          "metadata": {
            "tags": []
          }
        }
      ]
    },
    {
      "cell_type": "code",
      "metadata": {
        "id": "IM1nuzQZjGo-",
        "colab_type": "code",
        "outputId": "0351867e-30da-4f5a-8892-c061034684b9",
        "colab": {
          "base_uri": "https://localhost:8080/",
          "height": 295
        }
      },
      "source": [
        "# Plot training & validation loss values\n",
        "plt.plot(history.history['loss'])\n",
        "plt.plot(history.history['val_loss'])\n",
        "plt.title('Model loss')\n",
        "plt.ylabel('Loss')\n",
        "plt.xlabel('Epoch')\n",
        "plt.legend(['Train', 'Test'], loc='upper left')\n",
        "plt.show()"
      ],
      "execution_count": 42,
      "outputs": [
        {
          "output_type": "display_data",
          "data": {
            "image/png": "[encoded data removed]",
            "text/plain": [
              "<Figure size 432x288 with 1 Axes>"
            ]
          },
          "metadata": {
            "tags": []
          }
        }
      ]
    },
    {
      "cell_type": "code",
      "metadata": {
        "id": "8W-fL22VmKXG",
        "colab_type": "code",
        "colab": {}
      },
      "source": [
        "from sklearn.metrics import classification_report, confusion_matrix\n"
      ],
      "execution_count": 0,
      "outputs": []
    },
    {
      "cell_type": "code",
      "metadata": {
        "id": "YITgVi40MX5t",
        "colab_type": "code",
        "outputId": "2c2e8d6a-5891-4364-f021-d6298d35353a",
        "colab": {
          "base_uri": "https://localhost:8080/",
          "height": 51
        }
      },
      "source": [
        "conv_model.evaluate(test_x,test_y)"
      ],
      "execution_count": 44,
      "outputs": [
        {
          "output_type": "stream",
          "text": [
            "245760/245760 [==============================] - 24s 99us/sample - loss: 0.1591 - acc: 0.9283\n"
          ],
          "name": "stdout"
        },
        {
          "output_type": "execute_result",
          "data": {
            "text/plain": [
              "[0.1590807584707709, 0.9283407]"
            ]
          },
          "metadata": {
            "tags": []
          },
          "execution_count": 44
        }
      ]
    },
    {
      "cell_type": "code",
      "metadata": {
        "id": "DgSJbaDiw0ql",
        "colab_type": "code",
        "colab": {}
      },
      "source": [
        "import pandas as pd\n",
        "import seaborn as sns\n",
        "from matplotlib import pyplot as plt\n",
        "def print_confusion_matrix(confusion_matrix, class_names, figsize = (10,7), fontsize=14):\n",
        "\n",
        "    df_cm = pd.DataFrame(\n",
        "        confusion_matrix, index=class_names, columns=class_names, \n",
        "    )\n",
        "    fig = plt.figure(figsize=figsize)\n",
        "    try:\n",
        "        heatmap = sns.heatmap(df_cm, annot=True, fmt=\"d\")\n",
        "    except ValueError:\n",
        "        raise ValueError(\"Confusion matrix values must be integers.\")\n",
        "    heatmap.yaxis.set_ticklabels(heatmap.yaxis.get_ticklabels(), rotation=0, ha='right', fontsize=fontsize)\n",
        "    heatmap.xaxis.set_ticklabels(heatmap.xaxis.get_ticklabels(), rotation=45, ha='right', fontsize=fontsize)\n",
        "    plt.ylabel('True label')\n",
        "    plt.xlabel('Predicted label')\n",
        "    return fig"
      ],
      "execution_count": 0,
      "outputs": []
    },
    {
      "cell_type": "code",
      "metadata": {
        "id": "35tESca0tJkg",
        "colab_type": "code",
        "colab": {}
      },
      "source": [
        "y_pred=conv_model.predict(test_x)"
      ],
      "execution_count": 0,
      "outputs": []
    },
    {
      "cell_type": "code",
      "metadata": {
        "id": "kZm4r32mCLKb",
        "colab_type": "code",
        "colab": {}
      },
      "source": [
        "matrix = confusion_matrix(test_y.argmax(axis=1), y_pred.argmax(axis=1))\n"
      ],
      "execution_count": 0,
      "outputs": []
    },
    {
      "cell_type": "code",
      "metadata": {
        "id": "Crh7S1oZbzgH",
        "colab_type": "code",
        "outputId": "cdcc34b6-c3e9-4c62-cb03-ca212ba8bf16",
        "colab": {
          "base_uri": "https://localhost:8080/",
          "height": 511
        }
      },
      "source": [
        "print(print_confusion_matrix(matrix,['VERT900','VERT2450','ANT500']))"
      ],
      "execution_count": 48,
      "outputs": [
        {
          "output_type": "stream",
          "text": [
            "Figure(720x504)\n"
          ],
          "name": "stdout"
        },
        {
          "output_type": "display_data",
          "data": {
            "image/png": "[encoded data removed]",
            "text/plain": [
              "<Figure size 720x504 with 2 Axes>"
            ]
          },
          "metadata": {
            "tags": []
          }
        }
      ]
    },
    {
      "cell_type": "code",
      "metadata": {
        "id": "KBsSP6nH4dI_",
        "colab_type": "code",
        "colab": {}
      },
      "source": [
        ""
      ],
      "execution_count": 0,
      "outputs": []
    }
  ]
}