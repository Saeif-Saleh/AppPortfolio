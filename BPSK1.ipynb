{
  "nbformat": 4,
  "nbformat_minor": 0,
  "metadata": {
    "colab": {
      "name": "BPSK1.ipynb",
      "provenance": [],
      "include_colab_link": true
    },
    "kernelspec": {
      "name": "python3",
      "display_name": "Python 3"
    },
    "accelerator": "GPU"
  },
  "cells": [
    {
      "cell_type": "markdown",
      "metadata": {
        "id": "view-in-github",
        "colab_type": "text"
      },
      "source": [
        "<a href=\"https://colab.research.google.com/github/Saeif-Saleh/AppPortfolio/blob/master/BPSK1.ipynb\" target=\"_parent\"><img src=\"https://colab.research.google.com/assets/colab-badge.svg\" alt=\"Open In Colab\"/></a>"
      ]
    },
    {
      "cell_type": "code",
      "metadata": {
        "id": "8Va4bLWyJJPa",
        "colab_type": "code",
        "colab": {}
      },
      "source": [
        "import numpy as np"
      ],
      "execution_count": 0,
      "outputs": []
    },
    {
      "cell_type": "code",
      "metadata": {
        "id": "WfNUhl6UJfgv",
        "colab_type": "code",
        "outputId": "f4ad68ea-0d80-4504-fc87-120c5ffc036d",
        "colab": {
          "base_uri": "https://localhost:8080/",
          "height": 34
        }
      },
      "source": [
        "from google.colab import drive\n",
        "drive.mount('/content/drive')"
      ],
      "execution_count": 2,
      "outputs": [
        {
          "output_type": "stream",
          "text": [
            "Drive already mounted at /content/drive; to attempt to forcibly remount, call drive.mount(\"/content/drive\", force_remount=True).\n"
          ],
          "name": "stdout"
        }
      ]
    },
    {
      "cell_type": "code",
      "metadata": {
        "id": "mNQvJRW7JsR9",
        "colab_type": "code",
        "colab": {}
      },
      "source": [
        "import scipy.io"
      ],
      "execution_count": 0,
      "outputs": []
    },
    {
      "cell_type": "code",
      "metadata": {
        "id": "G-JJnj-ZKTSB",
        "colab_type": "code",
        "colab": {}
      },
      "source": [
        "first=scipy.io.loadmat('/content/drive/My Drive/first.mat')\n",
        "second=scipy.io.loadmat('/content/drive/My Drive/second.mat')"
      ],
      "execution_count": 0,
      "outputs": []
    },
    {
      "cell_type": "code",
      "metadata": {
        "id": "4LUtOSN4eqik",
        "colab_type": "code",
        "colab": {}
      },
      "source": [
        ""
      ],
      "execution_count": 0,
      "outputs": []
    },
    {
      "cell_type": "code",
      "metadata": {
        "id": "_FBRr1tUKZXT",
        "colab_type": "code",
        "colab": {}
      },
      "source": [
        "nf = np.asarray(first['M'], dtype=np.float64)\n",
        "sf=np.asarray(second['M'], dtype=np.float64)"
      ],
      "execution_count": 0,
      "outputs": []
    },
    {
      "cell_type": "code",
      "metadata": {
        "id": "TI84tT2zeE1l",
        "colab_type": "code",
        "colab": {}
      },
      "source": [
        "import matplotlib.pyplot as plt"
      ],
      "execution_count": 0,
      "outputs": []
    },
    {
      "cell_type": "code",
      "metadata": {
        "id": "BlngajIgjYj0",
        "colab_type": "code",
        "colab": {}
      },
      "source": [
        ""
      ],
      "execution_count": 0,
      "outputs": []
    },
    {
      "cell_type": "code",
      "metadata": {
        "id": "hlVbXpuqh78l",
        "colab_type": "code",
        "colab": {}
      },
      "source": [
        "#/Loading Data\n",
        "hckrf1=nf[100000000:101280000]\n",
        "hckrf2=sf[100000000:101280000]\n"
      ],
      "execution_count": 0,
      "outputs": []
    },
    {
      "cell_type": "code",
      "metadata": {
        "id": "ytjcAbnGlBH0",
        "colab_type": "code",
        "colab": {
          "base_uri": "https://localhost:8080/",
          "height": 265
        },
        "outputId": "8e2b899c-6a0a-4f98-b12f-a492a2b6fae4"
      },
      "source": [
        "\n",
        "plt.scatter(hckrf1[:,0],hckrf1[:,1])\n",
        "plt.show()"
      ],
      "execution_count": 8,
      "outputs": [
        {
          "output_type": "display_data",
          "data": {
            "image/png": "[encoded data removed]",
            "text/plain": [
              "<Figure size 432x288 with 1 Axes>"
            ]
          },
          "metadata": {
            "tags": []
          }
        }
      ]
    },
    {
      "cell_type": "code",
      "metadata": {
        "id": "5-EQv3fQjyQF",
        "colab_type": "code",
        "colab": {
          "base_uri": "https://localhost:8080/",
          "height": 265
        },
        "outputId": "5380a526-d8f9-420e-9224-21d85b43f2f5"
      },
      "source": [
        "plt.scatter(hckrf2[:,0],hckrf2[:,1])\n",
        "plt.show()"
      ],
      "execution_count": 9,
      "outputs": [
        {
          "output_type": "display_data",
          "data": {
            "image/png": "[encoded data removed]",
            "text/plain": [
              "<Figure size 432x288 with 1 Axes>"
            ]
          },
          "metadata": {
            "tags": []
          }
        }
      ]
    },
    {
      "cell_type": "code",
      "metadata": {
        "id": "u8Y3Y_MDnJf0",
        "colab_type": "code",
        "colab": {}
      },
      "source": [
        ""
      ],
      "execution_count": 0,
      "outputs": []
    },
    {
      "cell_type": "code",
      "metadata": {
        "id": "XQ8VwjfnWEha",
        "colab_type": "code",
        "colab": {}
      },
      "source": [
        "hckrf1=hckrf1.reshape(-1,128,2)\n",
        "hckrf2=hckrf2.reshape(-1,128,2)\n"
      ],
      "execution_count": 0,
      "outputs": []
    },
    {
      "cell_type": "code",
      "metadata": {
        "id": "VhPgKazRnIou",
        "colab_type": "code",
        "colab": {
          "base_uri": "https://localhost:8080/",
          "height": 1000
        },
        "outputId": "20519d5f-5f9d-43ef-b9cf-d5b7c4cd1063"
      },
      "source": [
        "print(hckrf1[0])"
      ],
      "execution_count": 11,
      "outputs": [
        {
          "output_type": "stream",
          "text": [
            "[[ 1.05355406e+00 -9.40179825e-03]\n",
            " [-9.98881340e-01  3.25852931e-02]\n",
            " [ 1.04675651e+00 -1.77960992e-02]\n",
            " [-9.79795635e-01 -1.51116550e-02]\n",
            " [-9.69240010e-01 -2.16162205e-03]\n",
            " [ 1.04623532e+00 -4.92411852e-03]\n",
            " [-9.88880038e-01 -1.23164058e-03]\n",
            " [ 1.03559685e+00  9.00286436e-03]\n",
            " [-9.70656753e-01  8.28728080e-03]\n",
            " [-9.63813663e-01 -1.12418830e-02]\n",
            " [ 1.04430437e+00 -9.99450684e-03]\n",
            " [-9.91481185e-01 -1.70778930e-02]\n",
            " [ 1.04565501e+00  9.43619013e-03]\n",
            " [-9.80925977e-01  5.03128767e-03]\n",
            " [-9.74196196e-01 -4.40204144e-03]\n",
            " [ 1.05532479e+00 -2.25326419e-03]\n",
            " [-9.97582018e-01 -3.91837955e-03]\n",
            " [ 1.04485118e+00 -2.59678662e-02]\n",
            " [-9.78060484e-01  2.69618630e-03]\n",
            " [-9.68932748e-01 -4.01985645e-03]\n",
            " [ 1.04244864e+00  6.13403320e-03]\n",
            " [-9.86461043e-01  3.47969532e-02]\n",
            " [ 1.03302169e+00 -8.71935487e-03]\n",
            " [-9.73727286e-01 -2.67207921e-02]\n",
            " [-9.66191053e-01  8.62658024e-04]\n",
            " [ 1.04537296e+00 -4.27553058e-03]\n",
            " [-9.95864153e-01  1.01878047e-02]\n",
            " [ 1.04395711e+00 -1.61651671e-02]\n",
            " [-9.86145258e-01  1.33629143e-02]\n",
            " [-9.75696146e-01  4.63306904e-03]\n",
            " [ 1.05401814e+00 -1.36877596e-03]\n",
            " [-9.97993648e-01  5.61849773e-03]\n",
            " [ 1.04068851e+00 -2.26892382e-02]\n",
            " [-9.75712717e-01  4.55248356e-03]\n",
            " [-9.65130091e-01  4.26417589e-03]\n",
            " [ 1.04409254e+00  1.17127448e-02]\n",
            " [-9.86027300e-01  1.51316002e-02]\n",
            " [ 1.03561008e+00  1.74075514e-02]\n",
            " [-9.73209560e-01 -3.41836438e-02]\n",
            " [-9.64719415e-01 -1.26173720e-03]\n",
            " [ 1.05158305e+00  2.34457068e-02]\n",
            " [-9.95343447e-01 -2.30769515e-02]\n",
            " [ 1.04863834e+00  6.75529242e-03]\n",
            " [-9.82289553e-01 -3.46902050e-02]\n",
            " [-9.73045766e-01 -4.67693992e-02]\n",
            " [ 1.05312574e+00 -2.27164254e-02]\n",
            " [-9.94501472e-01  5.92517853e-03]\n",
            " [ 1.03836787e+00 -1.60261840e-02]\n",
            " [-9.72320199e-01  1.39811635e-03]\n",
            " [-9.64391708e-01 -1.11291111e-02]\n",
            " [ 1.04227340e+00  1.19634122e-02]\n",
            " [-9.86608803e-01  8.75781476e-03]\n",
            " [ 1.03702581e+00 -4.62349355e-02]\n",
            " [-9.77406502e-01 -1.59956217e-02]\n",
            " [-9.71872449e-01  1.07206404e-02]\n",
            " [ 1.05156279e+00 -2.04882622e-02]\n",
            " [-9.99357581e-01 -8.80393386e-03]\n",
            " [ 1.04836440e+00  6.45506382e-03]\n",
            " [-9.82067049e-01 -7.55897164e-03]\n",
            " [-9.74140286e-01  4.71109152e-03]\n",
            " [ 1.04976928e+00 -1.14706755e-02]\n",
            " [-9.90500212e-01 -2.02730298e-02]\n",
            " [ 1.03707850e+00 -2.07618475e-02]\n",
            " [-9.70424652e-01 -1.14243329e-02]\n",
            " [-9.61468339e-01  1.30492449e-03]\n",
            " [ 1.04372036e+00  1.73088014e-02]\n",
            " [-9.87027884e-01 -3.85987759e-02]\n",
            " [ 1.03962934e+00  2.21267343e-03]\n",
            " [-9.77698505e-01 -5.93203306e-03]\n",
            " [-9.71144497e-01 -3.77194285e-02]\n",
            " [ 1.05351019e+00 -3.81905437e-02]\n",
            " [-1.00050318e+00 -4.21792269e-04]\n",
            " [ 1.04699969e+00 -4.81927395e-02]\n",
            " [-9.80249822e-01 -2.34935284e-02]\n",
            " [-9.69336748e-01  1.41208172e-02]\n",
            " [ 1.04735780e+00 -3.13944817e-02]\n",
            " [-9.89626408e-01 -1.02750063e-02]\n",
            " [ 1.03413594e+00 -1.25405788e-02]\n",
            " [-9.69880462e-01  3.96429598e-02]\n",
            " [-9.65079844e-01 -7.69495964e-03]\n",
            " [ 1.04088521e+00 -4.18045521e-02]\n",
            " [-9.92592931e-01 -4.16892767e-03]\n",
            " [ 1.04114103e+00  1.89414024e-02]\n",
            " [-9.82895732e-01 -4.82797623e-06]\n",
            " [-9.75809515e-01 -2.72578299e-02]\n",
            " [ 1.05456102e+00  4.79668379e-03]\n",
            " [-9.97709811e-01 -2.00857222e-02]\n",
            " [ 1.04567909e+00 -4.41108346e-02]\n",
            " [-9.78326857e-01  1.64538622e-04]\n",
            " [-9.68791366e-01  4.84883785e-05]\n",
            " [ 1.04480517e+00 -4.45327163e-03]\n",
            " [-9.84326005e-01 -3.53463888e-02]\n",
            " [ 1.03494418e+00  1.91645324e-02]\n",
            " [-9.70318198e-01 -2.96483338e-02]\n",
            " [-9.64723110e-01 -2.04260945e-02]\n",
            " [ 1.04725027e+00 -2.76178122e-03]\n",
            " [-9.92846310e-01 -3.55996788e-02]\n",
            " [ 1.04613268e+00  1.09790564e-02]\n",
            " [-9.82175827e-01 -1.84899569e-03]\n",
            " [-9.75718856e-01  2.69514322e-03]\n",
            " [ 1.05689371e+00  3.42020392e-03]\n",
            " [-9.94797945e-01 -2.17534304e-02]\n",
            " [ 1.04400408e+00 -1.49949193e-02]\n",
            " [-9.74288583e-01  1.70524120e-02]\n",
            " [-9.64486361e-01 -9.28001106e-03]\n",
            " [ 1.04405534e+00 -3.11240554e-02]\n",
            " [-9.85080659e-01 -2.26830393e-02]\n",
            " [ 1.03341925e+00 -9.26522911e-03]\n",
            " [-9.72947359e-01  2.10583061e-02]\n",
            " [-9.67524648e-01  1.15944296e-02]\n",
            " [ 1.04816854e+00 -1.22094825e-02]\n",
            " [-9.98511493e-01 -4.57989648e-02]\n",
            " [ 1.04526460e+00 -4.10193093e-02]\n",
            " [-9.83079016e-01  4.73704971e-02]\n",
            " [-9.75273550e-01  1.88405588e-02]\n",
            " [ 1.05277812e+00 -3.23017947e-02]\n",
            " [-9.93927121e-01 -8.97608697e-04]\n",
            " [ 1.04089320e+00 -5.58092445e-03]\n",
            " [-9.72325861e-01  6.62081689e-03]\n",
            " [-9.61436629e-01 -3.84713709e-03]\n",
            " [ 1.04394114e+00 -2.98541784e-03]\n",
            " [-9.84122634e-01 -4.29901034e-02]\n",
            " [ 1.03587425e+00  3.36098969e-02]\n",
            " [-9.74369466e-01 -3.88883352e-02]\n",
            " [-9.68257606e-01 -5.44427335e-03]\n",
            " [ 1.05215204e+00 -1.05307996e-02]\n",
            " [-9.97311592e-01  3.22085619e-03]\n",
            " [ 1.04880214e+00 -3.66119444e-02]]\n"
          ],
          "name": "stdout"
        }
      ]
    },
    {
      "cell_type": "code",
      "metadata": {
        "id": "hvxPfLwMWnsy",
        "colab_type": "code",
        "outputId": "6ad65c53-4805-40c0-e02d-4fa76cbedd87",
        "colab": {
          "base_uri": "https://localhost:8080/",
          "height": 50
        }
      },
      "source": [
        "data=np.concatenate((hckrf1,hckrf2),axis=0)\n",
        "print(data.shape)\n",
        "print(len(data))"
      ],
      "execution_count": 12,
      "outputs": [
        {
          "output_type": "stream",
          "text": [
            "(20000, 128, 2)\n",
            "20000\n"
          ],
          "name": "stdout"
        }
      ]
    },
    {
      "cell_type": "code",
      "metadata": {
        "id": "TLTBQ760pn3Z",
        "colab_type": "code",
        "colab": {}
      },
      "source": [
        "data_labels=np.zeros(len(data))\n",
        "data_labels[0:int(len(data_labels)/2)]=0\n",
        "data_labels[int(len(data_labels)/2):]=1\n"
      ],
      "execution_count": 0,
      "outputs": []
    },
    {
      "cell_type": "code",
      "metadata": {
        "id": "ah4L7iQDKl6L",
        "colab_type": "code",
        "outputId": "be6036fb-8874-4ee2-9786-396dedad29a4",
        "colab": {
          "base_uri": "https://localhost:8080/",
          "height": 79
        }
      },
      "source": [
        "from keras.utils import to_categorical\n",
        "data_labels=to_categorical(data_labels)\n"
      ],
      "execution_count": 14,
      "outputs": [
        {
          "output_type": "stream",
          "text": [
            "Using TensorFlow backend.\n"
          ],
          "name": "stderr"
        },
        {
          "output_type": "display_data",
          "data": {
            "text/html": [
              "<p style=\"color: red;\">\n",
              "The default version of TensorFlow in Colab will soon switch to TensorFlow 2.x.<br>\n",
              "We recommend you <a href=\"https://www.tensorflow.org/guide/migrate\" target=\"_blank\">upgrade</a> now \n",
              "or ensure your notebook will continue to use TensorFlow 1.x via the <code>%tensorflow_version 1.x</code> magic:\n",
              "<a href=\"https://colab.research.google.com/notebooks/tensorflow_version.ipynb\" target=\"_blank\">more info</a>.</p>\n"
            ],
            "text/plain": [
              "<IPython.core.display.HTML object>"
            ]
          },
          "metadata": {
            "tags": []
          }
        }
      ]
    },
    {
      "cell_type": "code",
      "metadata": {
        "id": "tvjVgvlYiFR3",
        "colab_type": "code",
        "colab": {}
      },
      "source": [
        ""
      ],
      "execution_count": 0,
      "outputs": []
    },
    {
      "cell_type": "code",
      "metadata": {
        "id": "JugXfTn6iLof",
        "colab_type": "code",
        "outputId": "03663ac8-3a0f-48fb-c3bd-a9bbcd98431b",
        "colab": {
          "base_uri": "https://localhost:8080/",
          "height": 578
        }
      },
      "source": [
        "plt.figure(figsize=(10,10))\n",
        "for i in range(25):\n",
        "    plt.subplot(5,5,i+1)\n",
        "    plt.xticks([])\n",
        "    plt.yticks([])\n",
        "    plt.grid(False)\n",
        "    plt.imshow(data[i], cmap=plt.cm.binary)\n",
        "\n",
        "plt.show()"
      ],
      "execution_count": 15,
      "outputs": [
        {
          "output_type": "display_data",
          "data": {
            "image/png": "[encoded data removed]",
            "text/plain": [
              "<Figure size 720x720 with 25 Axes>"
            ]
          },
          "metadata": {
            "tags": []
          }
        }
      ]
    },
    {
      "cell_type": "code",
      "metadata": {
        "id": "e1wzhGVoXEVm",
        "colab_type": "code",
        "colab": {}
      },
      "source": [
        "\n"
      ],
      "execution_count": 0,
      "outputs": []
    },
    {
      "cell_type": "code",
      "metadata": {
        "id": "Zp9-_diwtFQj",
        "colab_type": "code",
        "colab": {}
      },
      "source": [
        ""
      ],
      "execution_count": 0,
      "outputs": []
    },
    {
      "cell_type": "code",
      "metadata": {
        "id": "oieVc96rpt42",
        "colab_type": "code",
        "colab": {}
      },
      "source": [
        "import keras\n",
        "from keras.models import Sequential\n",
        "from keras.layers import Dense, Dropout, Flatten\n",
        "from keras.layers import Conv2D, MaxPooling2D\n",
        "from keras.optimizers import SGD"
      ],
      "execution_count": 0,
      "outputs": []
    },
    {
      "cell_type": "code",
      "metadata": {
        "id": "W7lfZongWw6g",
        "colab_type": "code",
        "colab": {
          "base_uri": "https://localhost:8080/",
          "height": 222
        },
        "outputId": "826b2505-23d7-4817-bbe7-1f696a34ff24"
      },
      "source": [
        "model = keras.Sequential([\n",
        "    keras.layers.Flatten(input_shape=(128, 2)),\n",
        "    keras.layers.Dense(64, activation='relu'),\n",
        "    keras.layers.Dropout(0.5),\n",
        "     keras.layers.Dense(128, activation='relu'),\n",
        "    keras.layers.Dropout(0.5),\n",
        "     keras.layers.Dense(256, activation='relu'),\n",
        "    keras.layers.Dropout(0.5),\n",
        "    keras.layers.Dense(2, activation='softmax')\n",
        "    \n",
        "])"
      ],
      "execution_count": 17,
      "outputs": [
        {
          "output_type": "stream",
          "text": [
            "WARNING:tensorflow:From /usr/local/lib/python3.6/dist-packages/keras/backend/tensorflow_backend.py:66: The name tf.get_default_graph is deprecated. Please use tf.compat.v1.get_default_graph instead.\n",
            "\n",
            "WARNING:tensorflow:From /usr/local/lib/python3.6/dist-packages/keras/backend/tensorflow_backend.py:541: The name tf.placeholder is deprecated. Please use tf.compat.v1.placeholder instead.\n",
            "\n",
            "WARNING:tensorflow:From /usr/local/lib/python3.6/dist-packages/keras/backend/tensorflow_backend.py:4432: The name tf.random_uniform is deprecated. Please use tf.random.uniform instead.\n",
            "\n",
            "WARNING:tensorflow:From /usr/local/lib/python3.6/dist-packages/keras/backend/tensorflow_backend.py:148: The name tf.placeholder_with_default is deprecated. Please use tf.compat.v1.placeholder_with_default instead.\n",
            "\n",
            "WARNING:tensorflow:From /usr/local/lib/python3.6/dist-packages/keras/backend/tensorflow_backend.py:3733: calling dropout (from tensorflow.python.ops.nn_ops) with keep_prob is deprecated and will be removed in a future version.\n",
            "Instructions for updating:\n",
            "Please use `rate` instead of `keep_prob`. Rate should be set to `rate = 1 - keep_prob`.\n"
          ],
          "name": "stdout"
        }
      ]
    },
    {
      "cell_type": "code",
      "metadata": {
        "id": "f-lojrnimRBk",
        "colab_type": "code",
        "colab": {}
      },
      "source": [
        ""
      ],
      "execution_count": 0,
      "outputs": []
    },
    {
      "cell_type": "code",
      "metadata": {
        "id": "NYe8DZuBrB2Q",
        "colab_type": "code",
        "colab": {}
      },
      "source": [
        "#Creating Validation Data\n",
        "data_test1=nf[110000000:111280000]\n",
        "data_test2=sf[110000000:111280000]\n",
        "data_for_test=np.concatenate((data_test1,data_test2),axis=0)\n",
        "\n",
        "data_for_test=data_for_test.reshape(-1,128,2)"
      ],
      "execution_count": 0,
      "outputs": []
    },
    {
      "cell_type": "code",
      "metadata": {
        "id": "VEbs-A2emS-N",
        "colab_type": "code",
        "outputId": "e8512c91-5570-4d0c-9d8d-b641ce919be3",
        "colab": {
          "base_uri": "https://localhost:8080/",
          "height": 961
        }
      },
      "source": [
        "model.compile(loss='binary_crossentropy', optimizer='adam', metrics=['accuracy'])\n",
        "# Fit the model\n",
        "model.fit(data, data_labels, validation_data=(data_for_test,data_labels), epochs=15)"
      ],
      "execution_count": 19,
      "outputs": [
        {
          "output_type": "stream",
          "text": [
            "WARNING:tensorflow:From /usr/local/lib/python3.6/dist-packages/keras/optimizers.py:793: The name tf.train.Optimizer is deprecated. Please use tf.compat.v1.train.Optimizer instead.\n",
            "\n",
            "WARNING:tensorflow:From /usr/local/lib/python3.6/dist-packages/keras/backend/tensorflow_backend.py:3657: The name tf.log is deprecated. Please use tf.math.log instead.\n",
            "\n",
            "WARNING:tensorflow:From /usr/local/lib/python3.6/dist-packages/tensorflow_core/python/ops/nn_impl.py:183: where (from tensorflow.python.ops.array_ops) is deprecated and will be removed in a future version.\n",
            "Instructions for updating:\n",
            "Use tf.where in 2.0, which has the same broadcast rule as np.where\n",
            "WARNING:tensorflow:From /usr/local/lib/python3.6/dist-packages/keras/backend/tensorflow_backend.py:1033: The name tf.assign_add is deprecated. Please use tf.compat.v1.assign_add instead.\n",
            "\n",
            "WARNING:tensorflow:From /usr/local/lib/python3.6/dist-packages/keras/backend/tensorflow_backend.py:1020: The name tf.assign is deprecated. Please use tf.compat.v1.assign instead.\n",
            "\n",
            "WARNING:tensorflow:From /usr/local/lib/python3.6/dist-packages/keras/backend/tensorflow_backend.py:3005: The name tf.Session is deprecated. Please use tf.compat.v1.Session instead.\n",
            "\n",
            "Train on 20000 samples, validate on 20000 samples\n",
            "Epoch 1/15\n",
            "WARNING:tensorflow:From /usr/local/lib/python3.6/dist-packages/keras/backend/tensorflow_backend.py:190: The name tf.get_default_session is deprecated. Please use tf.compat.v1.get_default_session instead.\n",
            "\n",
            "WARNING:tensorflow:From /usr/local/lib/python3.6/dist-packages/keras/backend/tensorflow_backend.py:197: The name tf.ConfigProto is deprecated. Please use tf.compat.v1.ConfigProto instead.\n",
            "\n",
            "WARNING:tensorflow:From /usr/local/lib/python3.6/dist-packages/keras/backend/tensorflow_backend.py:207: The name tf.global_variables is deprecated. Please use tf.compat.v1.global_variables instead.\n",
            "\n",
            "WARNING:tensorflow:From /usr/local/lib/python3.6/dist-packages/keras/backend/tensorflow_backend.py:216: The name tf.is_variable_initialized is deprecated. Please use tf.compat.v1.is_variable_initialized instead.\n",
            "\n",
            "WARNING:tensorflow:From /usr/local/lib/python3.6/dist-packages/keras/backend/tensorflow_backend.py:223: The name tf.variables_initializer is deprecated. Please use tf.compat.v1.variables_initializer instead.\n",
            "\n",
            "20000/20000 [==============================] - 6s 314us/step - loss: 0.7099 - acc: 0.5013 - val_loss: 0.6917 - val_acc: 0.5000\n",
            "Epoch 2/15\n",
            "20000/20000 [==============================] - 5s 255us/step - loss: 0.5945 - acc: 0.6508 - val_loss: 0.1692 - val_acc: 0.9685\n",
            "Epoch 3/15\n",
            "20000/20000 [==============================] - 5s 250us/step - loss: 0.2426 - acc: 0.9027 - val_loss: 0.0889 - val_acc: 0.9777\n",
            "Epoch 4/15\n",
            "20000/20000 [==============================] - 5s 268us/step - loss: 0.2036 - acc: 0.9176 - val_loss: 0.0752 - val_acc: 0.9773\n",
            "Epoch 5/15\n",
            "20000/20000 [==============================] - 5s 253us/step - loss: 0.1900 - acc: 0.9248 - val_loss: 0.1071 - val_acc: 0.9721\n",
            "Epoch 6/15\n",
            "20000/20000 [==============================] - 5s 253us/step - loss: 0.1886 - acc: 0.9245 - val_loss: 0.1029 - val_acc: 0.9635\n",
            "Epoch 7/15\n",
            "20000/20000 [==============================] - 5s 254us/step - loss: 0.1766 - acc: 0.9274 - val_loss: 0.0719 - val_acc: 0.9749\n",
            "Epoch 8/15\n",
            "20000/20000 [==============================] - 5s 252us/step - loss: 0.1729 - acc: 0.9312 - val_loss: 0.0912 - val_acc: 0.9729\n",
            "Epoch 9/15\n",
            "20000/20000 [==============================] - 5s 252us/step - loss: 0.1708 - acc: 0.9331 - val_loss: 0.0741 - val_acc: 0.9768\n",
            "Epoch 10/15\n",
            "20000/20000 [==============================] - 5s 252us/step - loss: 0.1804 - acc: 0.9236 - val_loss: 0.0912 - val_acc: 0.9756\n",
            "Epoch 11/15\n",
            "20000/20000 [==============================] - 5s 251us/step - loss: 0.1692 - acc: 0.9332 - val_loss: 0.1008 - val_acc: 0.9634\n",
            "Epoch 12/15\n",
            "20000/20000 [==============================] - 5s 253us/step - loss: 0.1650 - acc: 0.9337 - val_loss: 0.0852 - val_acc: 0.9736\n",
            "Epoch 13/15\n",
            "20000/20000 [==============================] - 5s 248us/step - loss: 0.1562 - acc: 0.9410 - val_loss: 0.0762 - val_acc: 0.9765\n",
            "Epoch 14/15\n",
            "20000/20000 [==============================] - 5s 250us/step - loss: 0.1563 - acc: 0.9399 - val_loss: 0.0793 - val_acc: 0.9758\n",
            "Epoch 15/15\n",
            "20000/20000 [==============================] - 5s 251us/step - loss: 0.1596 - acc: 0.9379 - val_loss: 0.0732 - val_acc: 0.9772\n"
          ],
          "name": "stdout"
        },
        {
          "output_type": "execute_result",
          "data": {
            "text/plain": [
              "<keras.callbacks.History at 0x7f685a322cc0>"
            ]
          },
          "metadata": {
            "tags": []
          },
          "execution_count": 19
        }
      ]
    },
    {
      "cell_type": "code",
      "metadata": {
        "id": "vJWr1X0DmnfN",
        "colab_type": "code",
        "colab": {}
      },
      "source": [
        "# #Testing model using normal neural networks\n",
        "new_test=sf[9000000:9128000]\n",
        "# new_test=sf[110000000:111280000]\n",
        "# print(len(new_test))\n",
        "\n",
        "new_test=new_test.reshape(-1,128,2)\n",
        "print(new_test.shape)\n",
        "\n",
        "for img in new_test:\n",
        "  print(model.predict_classes(img.reshape(-1,128,2)))\n"
      ],
      "execution_count": 0,
      "outputs": []
    },
    {
      "cell_type": "code",
      "metadata": {
        "id": "JujjW2tK40t9",
        "colab_type": "code",
        "colab": {}
      },
      "source": [
        "img_rows=128\n",
        "img_cols=2\n",
        "data = data.reshape(data.shape[0], 1, img_rows, img_cols)\n",
        "data_for_test = data_for_test.reshape(data_for_test.shape[0], 1, img_rows, img_cols)\n",
        "input_shape = (1, img_rows, img_cols)"
      ],
      "execution_count": 0,
      "outputs": []
    },
    {
      "cell_type": "code",
      "metadata": {
        "id": "SikEn6D23XGS",
        "colab_type": "code",
        "colab": {
          "base_uri": "https://localhost:8080/",
          "height": 34
        },
        "outputId": "be178a34-d52f-498e-d056-a4a7420c64aa"
      },
      "source": [
        "data = data.reshape(data.shape[0], img_rows, img_cols, 1)\n",
        "data_for_test = data_for_test.reshape(data_for_test.shape[0], img_rows, img_cols, 1)\n",
        "input_shape = (img_rows, img_cols, 1)\n",
        "\n",
        "print('data shape:', data.shape) #data shape: (60000, 28, 28, 1)"
      ],
      "execution_count": 43,
      "outputs": [
        {
          "output_type": "stream",
          "text": [
            "data shape: (20000, 128, 2, 1)\n"
          ],
          "name": "stdout"
        }
      ]
    },
    {
      "cell_type": "code",
      "metadata": {
        "id": "lEa40bKS5dup",
        "colab_type": "code",
        "colab": {
          "base_uri": "https://localhost:8080/",
          "height": 70
        },
        "outputId": "16f3a4ea-2e93-4bd7-9a49-bbd0d05931a4"
      },
      "source": [
        "##model building\n",
        "conv_model = Sequential()\n",
        "#convolutional layer with rectified linear unit activation\n",
        "conv_model.add(Conv2D(32, kernel_size=(3, 3),\n",
        "                 activation='relu',padding=\"same\",\n",
        "                 input_shape=input_shape))\n",
        "#32 convolution filters used each of size 3x3\n",
        "#again\n",
        "conv_model.add(Conv2D(64, (3, 3), padding=\"same\",activation='relu'))\n",
        "#64 convolution filters used each of size 3x3\n",
        "#choose the best features via pooling\n",
        "conv_model.add(MaxPooling2D(pool_size=(2, 2)))\n",
        "#randomly turn neurons on and off to improve convergence\n",
        "conv_model.add(Dropout(0.25))\n",
        "#flatten since too many dimensions, we only want a classification output\n",
        "conv_model.add(Flatten())\n",
        "#fully connected to get all relevant data\n",
        "conv_model.add(Dense(128, activation='relu'))\n",
        "#one more dropout for convergence' sake :) \n",
        "conv_model.add(Dropout(0.5))\n",
        "#output a softmax to squash the matrix into output probabilities\n",
        "conv_model.add(Dense(2, activation='softmax'))"
      ],
      "execution_count": 44,
      "outputs": [
        {
          "output_type": "stream",
          "text": [
            "WARNING:tensorflow:From /usr/local/lib/python3.6/dist-packages/keras/backend/tensorflow_backend.py:4267: The name tf.nn.max_pool is deprecated. Please use tf.nn.max_pool2d instead.\n",
            "\n"
          ],
          "name": "stdout"
        }
      ]
    },
    {
      "cell_type": "code",
      "metadata": {
        "id": "NYvx--SRKpaF",
        "colab_type": "code",
        "colab": {}
      },
      "source": [
        "conv_model.summary()"
      ],
      "execution_count": 0,
      "outputs": []
    },
    {
      "cell_type": "code",
      "metadata": {
        "id": "IwuXn8GfINsQ",
        "colab_type": "code",
        "colab": {
          "base_uri": "https://localhost:8080/",
          "height": 554
        },
        "outputId": "cf189e85-0d6f-4d3e-8142-7cfc2083f6d6"
      },
      "source": [
        "conv_model.compile(loss='binary_crossentropy', optimizer='adam', metrics=['accuracy'])\n",
        "# Fit the model\n",
        "conv_model.fit(data, data_labels, validation_data=(data_for_test,data_labels), epochs=15)"
      ],
      "execution_count": 45,
      "outputs": [
        {
          "output_type": "stream",
          "text": [
            "Train on 20000 samples, validate on 20000 samples\n",
            "Epoch 1/15\n",
            "20000/20000 [==============================] - 9s 458us/step - loss: 0.6947 - acc: 0.4987 - val_loss: 0.6931 - val_acc: 0.5000\n",
            "Epoch 2/15\n",
            "20000/20000 [==============================] - 8s 375us/step - loss: 0.5974 - acc: 0.5996 - val_loss: 0.1080 - val_acc: 0.9571\n",
            "Epoch 3/15\n",
            "20000/20000 [==============================] - 8s 377us/step - loss: 0.0760 - acc: 0.9741 - val_loss: 0.0936 - val_acc: 0.9666\n",
            "Epoch 4/15\n",
            "20000/20000 [==============================] - 8s 377us/step - loss: 0.0562 - acc: 0.9805 - val_loss: 0.0342 - val_acc: 0.9879\n",
            "Epoch 5/15\n",
            "20000/20000 [==============================] - 8s 375us/step - loss: 0.0525 - acc: 0.9816 - val_loss: 0.0814 - val_acc: 0.9708\n",
            "Epoch 6/15\n",
            "20000/20000 [==============================] - 8s 375us/step - loss: 0.0506 - acc: 0.9825 - val_loss: 0.0340 - val_acc: 0.9876\n",
            "Epoch 7/15\n",
            "20000/20000 [==============================] - 8s 378us/step - loss: 0.0442 - acc: 0.9850 - val_loss: 0.0584 - val_acc: 0.9772\n",
            "Epoch 8/15\n",
            "20000/20000 [==============================] - 7s 373us/step - loss: 0.0462 - acc: 0.9846 - val_loss: 0.0333 - val_acc: 0.9879\n",
            "Epoch 9/15\n",
            "20000/20000 [==============================] - 7s 372us/step - loss: 0.0453 - acc: 0.9848 - val_loss: 0.0364 - val_acc: 0.9868\n",
            "Epoch 10/15\n",
            "20000/20000 [==============================] - 8s 376us/step - loss: 0.0414 - acc: 0.9860 - val_loss: 0.0326 - val_acc: 0.9883\n",
            "Epoch 11/15\n",
            "20000/20000 [==============================] - 8s 378us/step - loss: 0.0428 - acc: 0.9854 - val_loss: 0.0322 - val_acc: 0.9882\n",
            "Epoch 12/15\n",
            "20000/20000 [==============================] - 8s 376us/step - loss: 0.0408 - acc: 0.9863 - val_loss: 0.0324 - val_acc: 0.9884\n",
            "Epoch 13/15\n",
            "20000/20000 [==============================] - 8s 378us/step - loss: 0.0374 - acc: 0.9879 - val_loss: 0.0387 - val_acc: 0.9863\n",
            "Epoch 14/15\n",
            "20000/20000 [==============================] - 8s 377us/step - loss: 0.0383 - acc: 0.9858 - val_loss: 0.0324 - val_acc: 0.9885\n",
            "Epoch 15/15\n",
            "20000/20000 [==============================] - 7s 370us/step - loss: 0.0349 - acc: 0.9883 - val_loss: 0.0376 - val_acc: 0.9862\n"
          ],
          "name": "stdout"
        },
        {
          "output_type": "execute_result",
          "data": {
            "text/plain": [
              "<keras.callbacks.History at 0x7f67feb22f98>"
            ]
          },
          "metadata": {
            "tags": []
          },
          "execution_count": 45
        }
      ]
    },
    {
      "cell_type": "code",
      "metadata": {
        "id": "OBQnICfoJb8z",
        "colab_type": "code",
        "colab": {}
      },
      "source": [
        "model.summary()"
      ],
      "execution_count": 0,
      "outputs": []
    },
    {
      "cell_type": "code",
      "metadata": {
        "id": "y-uMSodeJbiN",
        "colab_type": "code",
        "colab": {}
      },
      "source": [
        ""
      ],
      "execution_count": 0,
      "outputs": []
    },
    {
      "cell_type": "code",
      "metadata": {
        "id": "Pf5W3KqHSCt8",
        "colab_type": "code",
        "colab": {}
      },
      "source": [
        "for img in new_test:\n",
        "   print(model_Conv.predict_classes(img.reshape(1,128,2)))"
      ],
      "execution_count": 0,
      "outputs": []
    },
    {
      "cell_type": "code",
      "metadata": {
        "id": "bytHsc6PlUB7",
        "colab_type": "code",
        "colab": {}
      },
      "source": [
        "#Model of paper\n",
        "# model_Conv = Sequential()\n",
        "# model_Conv.add(Conv2D(50, (1, 3), activation='relu',input_shape=input_shape))\n",
        "# model_Conv.add(MaxPooling2D(pool_size=(2, 2)))\n",
        "# model_Conv.add(Dropout(0.25))\n",
        "# model_Conv.add(Conv2D(50, (2, 3), activation='relu'))\n",
        "# model_Conv.add(MaxPooling2D(pool_size=(2, 2)))\n",
        "# model_Conv.add(Dropout(0.25))\n",
        "# model_Conv.add(Flatten())\n",
        "# model_Conv.add(Dense(256, activation='relu'))\n",
        "# model_Conv.add(Dropout(0.5))\n",
        "# model_Conv.add(Dense(2, activation='softmax'))"
      ],
      "execution_count": 0,
      "outputs": []
    },
    {
      "cell_type": "code",
      "metadata": {
        "id": "nE5U72tVmPSW",
        "colab_type": "code",
        "colab": {}
      },
      "source": [
        ""
      ],
      "execution_count": 0,
      "outputs": []
    },
    {
      "cell_type": "code",
      "metadata": {
        "id": "rTuCC7PnURA_",
        "colab_type": "code",
        "colab": {}
      },
      "source": [
        "trial=data_for_test[9888:11100]\n",
        "for img in trial:\n",
        "\n",
        "  img=(np.expand_dims(img,0))\n",
        "  print(model.predict_classes(img))"
      ],
      "execution_count": 0,
      "outputs": []
    },
    {
      "cell_type": "code",
      "metadata": {
        "id": "KPphA-1A9re0",
        "colab_type": "code",
        "colab": {}
      },
      "source": [
        ""
      ],
      "execution_count": 0,
      "outputs": []
    }
  ]
}