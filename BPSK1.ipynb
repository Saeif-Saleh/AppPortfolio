{
  "nbformat": 4,
  "nbformat_minor": 0,
  "metadata": {
    "colab": {
      "name": "BPSK1.ipynb",
      "provenance": [],
      "include_colab_link": true
    },
    "kernelspec": {
      "name": "python3",
      "display_name": "Python 3"
    },
    "accelerator": "GPU"
  },
  "cells": [
    {
      "cell_type": "markdown",
      "metadata": {
        "id": "view-in-github",
        "colab_type": "text"
      },
      "source": [
        "<a href=\"https://colab.research.google.com/github/Saeif-Saleh/AppPortfolio/blob/master/BPSK1.ipynb\" target=\"_parent\"><img src=\"https://colab.research.google.com/assets/colab-badge.svg\" alt=\"Open In Colab\"/></a>"
      ]
    },
    {
      "cell_type": "code",
      "metadata": {
        "id": "8Va4bLWyJJPa",
        "colab_type": "code",
        "colab": {}
      },
      "source": [
        "import numpy as np"
      ],
      "execution_count": 0,
      "outputs": []
    },
    {
      "cell_type": "code",
      "metadata": {
        "id": "WfNUhl6UJfgv",
        "colab_type": "code",
        "outputId": "30c2bf30-dd88-4f5c-b339-c64e84aca779",
        "colab": {
          "base_uri": "https://localhost:8080/",
          "height": 123
        }
      },
      "source": [
        "from google.colab import drive\n",
        "drive.mount('/content/drive')"
      ],
      "execution_count": 2,
      "outputs": [
        {
          "output_type": "stream",
          "text": [
            "Go to this URL in a browser: https://accounts.google.com/o/oauth2/auth?client_id=947318989803-6bn6qk8qdgf4n4g3pfee6491hc0brc4i.apps.googleusercontent.com&redirect_uri=urn%3Aietf%3Awg%3Aoauth%3A2.0%3Aoob&scope=email%20https%3A%2F%2Fwww.googleapis.com%2Fauth%2Fdocs.test%20https%3A%2F%2Fwww.googleapis.com%2Fauth%2Fdrive%20https%3A%2F%2Fwww.googleapis.com%2Fauth%2Fdrive.photos.readonly%20https%3A%2F%2Fwww.googleapis.com%2Fauth%2Fpeopleapi.readonly&response_type=code\n",
            "\n",
            "Enter your authorization code:\n",
            "··········\n",
            "Mounted at /content/drive\n"
          ],
          "name": "stdout"
        }
      ]
    },
    {
      "cell_type": "code",
      "metadata": {
        "id": "mNQvJRW7JsR9",
        "colab_type": "code",
        "colab": {}
      },
      "source": [
        "import scipy.io"
      ],
      "execution_count": 0,
      "outputs": []
    },
    {
      "cell_type": "code",
      "metadata": {
        "id": "G-JJnj-ZKTSB",
        "colab_type": "code",
        "colab": {}
      },
      "source": [
        "#Loading the two Hackrf matlab files using Scipy\n",
        "first=scipy.io.loadmat('/content/drive/My Drive/first.mat')\n",
        "second=scipy.io.loadmat('/content/drive/My Drive/second.mat')"
      ],
      "execution_count": 0,
      "outputs": []
    },
    {
      "cell_type": "code",
      "metadata": {
        "id": "_FBRr1tUKZXT",
        "colab_type": "code",
        "colab": {}
      },
      "source": [
        "#Reading all the IQ values\n",
        "nf = np.asarray(first['M'], dtype=np.float64)\n",
        "sf=np.asarray(second['M'], dtype=np.float64)"
      ],
      "execution_count": 0,
      "outputs": []
    },
    {
      "cell_type": "code",
      "metadata": {
        "id": "nFxcs6lR_m_w",
        "colab_type": "code",
        "outputId": "1cbac913-40d8-4dc5-a655-b574250d95c5",
        "colab": {
          "base_uri": "https://localhost:8080/",
          "height": 51
        }
      },
      "source": [
        "print(len(nf))\n",
        "print(len(sf))"
      ],
      "execution_count": 6,
      "outputs": [
        {
          "output_type": "stream",
          "text": [
            "130982912\n",
            "133454848\n"
          ],
          "name": "stdout"
        }
      ]
    },
    {
      "cell_type": "code",
      "metadata": {
        "id": "TI84tT2zeE1l",
        "colab_type": "code",
        "colab": {}
      },
      "source": [
        "import matplotlib.pyplot as plt"
      ],
      "execution_count": 0,
      "outputs": []
    },
    {
      "cell_type": "code",
      "metadata": {
        "id": "BlngajIgjYj0",
        "colab_type": "code",
        "colab": {}
      },
      "source": [
        ""
      ],
      "execution_count": 0,
      "outputs": []
    },
    {
      "cell_type": "code",
      "metadata": {
        "id": "hlVbXpuqh78l",
        "colab_type": "code",
        "colab": {}
      },
      "source": [
        "#/Loading 1e6 IQ samples for the two hackrf\n",
        "hckrf1=nf[50000000:101280000]\n",
        "hckrf2=sf[50000000:101280000]\n"
      ],
      "execution_count": 0,
      "outputs": []
    },
    {
      "cell_type": "code",
      "metadata": {
        "id": "wf8fJT_u861p",
        "colab_type": "code",
        "colab": {}
      },
      "source": [
        ""
      ],
      "execution_count": 0,
      "outputs": []
    },
    {
      "cell_type": "code",
      "metadata": {
        "id": "ytjcAbnGlBH0",
        "colab_type": "code",
        "outputId": "9eb1df1f-5339-4fdf-a79f-9e49ece1959d",
        "colab": {
          "base_uri": "https://localhost:8080/",
          "height": 182
        }
      },
      "source": [
        "#Visualzing the IQ values of the first hackrf\n",
        "plt.scatter(hckrf1[:,0],hckrf1[:,1])\n",
        "plt.show()"
      ],
      "execution_count": 8,
      "outputs": [
        {
          "output_type": "error",
          "ename": "NameError",
          "evalue": "ignored",
          "traceback": [
            "\u001b[0;31m---------------------------------------------------------------------------\u001b[0m",
            "\u001b[0;31mNameError\u001b[0m                                 Traceback (most recent call last)",
            "\u001b[0;32m<ipython-input-8-8238894d1ade>\u001b[0m in \u001b[0;36m<module>\u001b[0;34m()\u001b[0m\n\u001b[0;32m----> 1\u001b[0;31m \u001b[0mplt\u001b[0m\u001b[0;34m.\u001b[0m\u001b[0mscatter\u001b[0m\u001b[0;34m(\u001b[0m\u001b[0mhckrf1\u001b[0m\u001b[0;34m[\u001b[0m\u001b[0;34m:\u001b[0m\u001b[0;34m,\u001b[0m\u001b[0;36m0\u001b[0m\u001b[0;34m]\u001b[0m\u001b[0;34m,\u001b[0m\u001b[0mhckrf1\u001b[0m\u001b[0;34m[\u001b[0m\u001b[0;34m:\u001b[0m\u001b[0;34m,\u001b[0m\u001b[0;36m1\u001b[0m\u001b[0;34m]\u001b[0m\u001b[0;34m)\u001b[0m\u001b[0;34m\u001b[0m\u001b[0;34m\u001b[0m\u001b[0m\n\u001b[0m\u001b[1;32m      2\u001b[0m \u001b[0mplt\u001b[0m\u001b[0;34m.\u001b[0m\u001b[0mshow\u001b[0m\u001b[0;34m(\u001b[0m\u001b[0;34m)\u001b[0m\u001b[0;34m\u001b[0m\u001b[0;34m\u001b[0m\u001b[0m\n",
            "\u001b[0;31mNameError\u001b[0m: name 'plt' is not defined"
          ]
        }
      ]
    },
    {
      "cell_type": "code",
      "metadata": {
        "id": "5-EQv3fQjyQF",
        "colab_type": "code",
        "outputId": "89fbb116-2a6c-4736-a611-a09741e0ed59",
        "colab": {
          "base_uri": "https://localhost:8080/",
          "height": 265
        }
      },
      "source": [
        "#Visualzing the IQ values of the second hackrf\n",
        "plt.scatter(hckrf2[:,0],hckrf2[:,1])\n",
        "plt.show()"
      ],
      "execution_count": 0,
      "outputs": [
        {
          "output_type": "display_data",
          "data": {
            "image/png": "[encoded data removed]",
            "text/plain": [
              "<Figure size 432x288 with 1 Axes>"
            ]
          },
          "metadata": {
            "tags": []
          }
        }
      ]
    },
    {
      "cell_type": "code",
      "metadata": {
        "id": "u8Y3Y_MDnJf0",
        "colab_type": "code",
        "colab": {}
      },
      "source": [
        ""
      ],
      "execution_count": 0,
      "outputs": []
    },
    {
      "cell_type": "code",
      "metadata": {
        "id": "XQ8VwjfnWEha",
        "colab_type": "code",
        "colab": {}
      },
      "source": [
        "#Reshaping the data to be of vector shape 128x2\n",
        "hckrf1=hckrf1.reshape(-1,128,2)\n",
        "hckrf2=hckrf2.reshape(-1,128,2)\n"
      ],
      "execution_count": 0,
      "outputs": []
    },
    {
      "cell_type": "code",
      "metadata": {
        "id": "VhPgKazRnIou",
        "colab_type": "code",
        "outputId": "3234d050-b601-49be-f697-d1f1bb0f88b3",
        "colab": {
          "base_uri": "https://localhost:8080/",
          "height": 1000
        }
      },
      "source": [
        "print(hckrf1[0])"
      ],
      "execution_count": 0,
      "outputs": [
        {
          "output_type": "stream",
          "text": [
            "[[ 1.05355406e+00 -9.40179825e-03]\n",
            " [-9.98881340e-01  3.25852931e-02]\n",
            " [ 1.04675651e+00 -1.77960992e-02]\n",
            " [-9.79795635e-01 -1.51116550e-02]\n",
            " [-9.69240010e-01 -2.16162205e-03]\n",
            " [ 1.04623532e+00 -4.92411852e-03]\n",
            " [-9.88880038e-01 -1.23164058e-03]\n",
            " [ 1.03559685e+00  9.00286436e-03]\n",
            " [-9.70656753e-01  8.28728080e-03]\n",
            " [-9.63813663e-01 -1.12418830e-02]\n",
            " [ 1.04430437e+00 -9.99450684e-03]\n",
            " [-9.91481185e-01 -1.70778930e-02]\n",
            " [ 1.04565501e+00  9.43619013e-03]\n",
            " [-9.80925977e-01  5.03128767e-03]\n",
            " [-9.74196196e-01 -4.40204144e-03]\n",
            " [ 1.05532479e+00 -2.25326419e-03]\n",
            " [-9.97582018e-01 -3.91837955e-03]\n",
            " [ 1.04485118e+00 -2.59678662e-02]\n",
            " [-9.78060484e-01  2.69618630e-03]\n",
            " [-9.68932748e-01 -4.01985645e-03]\n",
            " [ 1.04244864e+00  6.13403320e-03]\n",
            " [-9.86461043e-01  3.47969532e-02]\n",
            " [ 1.03302169e+00 -8.71935487e-03]\n",
            " [-9.73727286e-01 -2.67207921e-02]\n",
            " [-9.66191053e-01  8.62658024e-04]\n",
            " [ 1.04537296e+00 -4.27553058e-03]\n",
            " [-9.95864153e-01  1.01878047e-02]\n",
            " [ 1.04395711e+00 -1.61651671e-02]\n",
            " [-9.86145258e-01  1.33629143e-02]\n",
            " [-9.75696146e-01  4.63306904e-03]\n",
            " [ 1.05401814e+00 -1.36877596e-03]\n",
            " [-9.97993648e-01  5.61849773e-03]\n",
            " [ 1.04068851e+00 -2.26892382e-02]\n",
            " [-9.75712717e-01  4.55248356e-03]\n",
            " [-9.65130091e-01  4.26417589e-03]\n",
            " [ 1.04409254e+00  1.17127448e-02]\n",
            " [-9.86027300e-01  1.51316002e-02]\n",
            " [ 1.03561008e+00  1.74075514e-02]\n",
            " [-9.73209560e-01 -3.41836438e-02]\n",
            " [-9.64719415e-01 -1.26173720e-03]\n",
            " [ 1.05158305e+00  2.34457068e-02]\n",
            " [-9.95343447e-01 -2.30769515e-02]\n",
            " [ 1.04863834e+00  6.75529242e-03]\n",
            " [-9.82289553e-01 -3.46902050e-02]\n",
            " [-9.73045766e-01 -4.67693992e-02]\n",
            " [ 1.05312574e+00 -2.27164254e-02]\n",
            " [-9.94501472e-01  5.92517853e-03]\n",
            " [ 1.03836787e+00 -1.60261840e-02]\n",
            " [-9.72320199e-01  1.39811635e-03]\n",
            " [-9.64391708e-01 -1.11291111e-02]\n",
            " [ 1.04227340e+00  1.19634122e-02]\n",
            " [-9.86608803e-01  8.75781476e-03]\n",
            " [ 1.03702581e+00 -4.62349355e-02]\n",
            " [-9.77406502e-01 -1.59956217e-02]\n",
            " [-9.71872449e-01  1.07206404e-02]\n",
            " [ 1.05156279e+00 -2.04882622e-02]\n",
            " [-9.99357581e-01 -8.80393386e-03]\n",
            " [ 1.04836440e+00  6.45506382e-03]\n",
            " [-9.82067049e-01 -7.55897164e-03]\n",
            " [-9.74140286e-01  4.71109152e-03]\n",
            " [ 1.04976928e+00 -1.14706755e-02]\n",
            " [-9.90500212e-01 -2.02730298e-02]\n",
            " [ 1.03707850e+00 -2.07618475e-02]\n",
            " [-9.70424652e-01 -1.14243329e-02]\n",
            " [-9.61468339e-01  1.30492449e-03]\n",
            " [ 1.04372036e+00  1.73088014e-02]\n",
            " [-9.87027884e-01 -3.85987759e-02]\n",
            " [ 1.03962934e+00  2.21267343e-03]\n",
            " [-9.77698505e-01 -5.93203306e-03]\n",
            " [-9.71144497e-01 -3.77194285e-02]\n",
            " [ 1.05351019e+00 -3.81905437e-02]\n",
            " [-1.00050318e+00 -4.21792269e-04]\n",
            " [ 1.04699969e+00 -4.81927395e-02]\n",
            " [-9.80249822e-01 -2.34935284e-02]\n",
            " [-9.69336748e-01  1.41208172e-02]\n",
            " [ 1.04735780e+00 -3.13944817e-02]\n",
            " [-9.89626408e-01 -1.02750063e-02]\n",
            " [ 1.03413594e+00 -1.25405788e-02]\n",
            " [-9.69880462e-01  3.96429598e-02]\n",
            " [-9.65079844e-01 -7.69495964e-03]\n",
            " [ 1.04088521e+00 -4.18045521e-02]\n",
            " [-9.92592931e-01 -4.16892767e-03]\n",
            " [ 1.04114103e+00  1.89414024e-02]\n",
            " [-9.82895732e-01 -4.82797623e-06]\n",
            " [-9.75809515e-01 -2.72578299e-02]\n",
            " [ 1.05456102e+00  4.79668379e-03]\n",
            " [-9.97709811e-01 -2.00857222e-02]\n",
            " [ 1.04567909e+00 -4.41108346e-02]\n",
            " [-9.78326857e-01  1.64538622e-04]\n",
            " [-9.68791366e-01  4.84883785e-05]\n",
            " [ 1.04480517e+00 -4.45327163e-03]\n",
            " [-9.84326005e-01 -3.53463888e-02]\n",
            " [ 1.03494418e+00  1.91645324e-02]\n",
            " [-9.70318198e-01 -2.96483338e-02]\n",
            " [-9.64723110e-01 -2.04260945e-02]\n",
            " [ 1.04725027e+00 -2.76178122e-03]\n",
            " [-9.92846310e-01 -3.55996788e-02]\n",
            " [ 1.04613268e+00  1.09790564e-02]\n",
            " [-9.82175827e-01 -1.84899569e-03]\n",
            " [-9.75718856e-01  2.69514322e-03]\n",
            " [ 1.05689371e+00  3.42020392e-03]\n",
            " [-9.94797945e-01 -2.17534304e-02]\n",
            " [ 1.04400408e+00 -1.49949193e-02]\n",
            " [-9.74288583e-01  1.70524120e-02]\n",
            " [-9.64486361e-01 -9.28001106e-03]\n",
            " [ 1.04405534e+00 -3.11240554e-02]\n",
            " [-9.85080659e-01 -2.26830393e-02]\n",
            " [ 1.03341925e+00 -9.26522911e-03]\n",
            " [-9.72947359e-01  2.10583061e-02]\n",
            " [-9.67524648e-01  1.15944296e-02]\n",
            " [ 1.04816854e+00 -1.22094825e-02]\n",
            " [-9.98511493e-01 -4.57989648e-02]\n",
            " [ 1.04526460e+00 -4.10193093e-02]\n",
            " [-9.83079016e-01  4.73704971e-02]\n",
            " [-9.75273550e-01  1.88405588e-02]\n",
            " [ 1.05277812e+00 -3.23017947e-02]\n",
            " [-9.93927121e-01 -8.97608697e-04]\n",
            " [ 1.04089320e+00 -5.58092445e-03]\n",
            " [-9.72325861e-01  6.62081689e-03]\n",
            " [-9.61436629e-01 -3.84713709e-03]\n",
            " [ 1.04394114e+00 -2.98541784e-03]\n",
            " [-9.84122634e-01 -4.29901034e-02]\n",
            " [ 1.03587425e+00  3.36098969e-02]\n",
            " [-9.74369466e-01 -3.88883352e-02]\n",
            " [-9.68257606e-01 -5.44427335e-03]\n",
            " [ 1.05215204e+00 -1.05307996e-02]\n",
            " [-9.97311592e-01  3.22085619e-03]\n",
            " [ 1.04880214e+00 -3.66119444e-02]]\n"
          ],
          "name": "stdout"
        }
      ]
    },
    {
      "cell_type": "code",
      "metadata": {
        "id": "hvxPfLwMWnsy",
        "colab_type": "code",
        "outputId": "a592e763-7bbe-48bf-d047-2d84dad933dc",
        "colab": {
          "base_uri": "https://localhost:8080/",
          "height": 51
        }
      },
      "source": [
        "#Concatenating the two arrays of the two hackrf\n",
        "data=np.concatenate((hckrf1,hckrf2),axis=0)\n",
        "print(data.shape)\n",
        "print(len(data))"
      ],
      "execution_count": 30,
      "outputs": [
        {
          "output_type": "stream",
          "text": [
            "(801250, 128, 2)\n",
            "801250\n"
          ],
          "name": "stdout"
        }
      ]
    },
    {
      "cell_type": "code",
      "metadata": {
        "id": "TLTBQ760pn3Z",
        "colab_type": "code",
        "colab": {
          "base_uri": "https://localhost:8080/",
          "height": 34
        },
        "outputId": "ca7dbc7b-7a98-4d45-bd99-332f69c09680"
      },
      "source": [
        "#Creating label for the classes 0 for the first class and 1 for the second class\n",
        "data_labels=np.zeros(len(data))\n",
        "data_labels[0:int(len(data_labels)/2)]=0\n",
        "data_labels[int(len(data_labels)/2):]=1\n",
        "print(len(data_labels))"
      ],
      "execution_count": 32,
      "outputs": [
        {
          "output_type": "stream",
          "text": [
            "801250\n"
          ],
          "name": "stdout"
        }
      ]
    },
    {
      "cell_type": "code",
      "metadata": {
        "id": "ah4L7iQDKl6L",
        "colab_type": "code",
        "outputId": "6fafe2be-9987-43fa-a8f2-6d986042c9a5",
        "colab": {
          "base_uri": "https://localhost:8080/",
          "height": 103
        }
      },
      "source": [
        "#Using keras to convert training labels values to one hot encoding\n",
        "from keras.utils import to_categorical\n",
        "data_labels=to_categorical(data_labels)\n"
      ],
      "execution_count": 84,
      "outputs": [
        {
          "output_type": "stream",
          "text": [
            "[[[1. 0.]\n",
            "  [0. 1.]]\n",
            "\n",
            " [[0. 1.]\n",
            "  [1. 0.]]]\n"
          ],
          "name": "stdout"
        }
      ]
    },
    {
      "cell_type": "code",
      "metadata": {
        "id": "JugXfTn6iLof",
        "colab_type": "code",
        "outputId": "9c9aa53c-27b4-4d60-8b83-22bc863f09f6",
        "colab": {
          "base_uri": "https://localhost:8080/",
          "height": 578
        }
      },
      "source": [
        "#Visualzing 25 samples of size 128x2\n",
        "plt.figure(figsize=(10,10))\n",
        "for i in range(25):\n",
        "    plt.subplot(5,5,i+1)\n",
        "    plt.xticks([])\n",
        "    plt.yticks([])\n",
        "    plt.grid(False)\n",
        "    plt.imshow(data[i], cmap=plt.cm.binary)\n",
        "\n",
        "plt.show()"
      ],
      "execution_count": 34,
      "outputs": [
        {
          "output_type": "display_data",
          "data": {
            "image/png": "[encoded data removed]",
            "text/plain": [
              "<Figure size 720x720 with 25 Axes>"
            ]
          },
          "metadata": {
            "tags": []
          }
        }
      ]
    },
    {
      "cell_type": "code",
      "metadata": {
        "id": "oieVc96rpt42",
        "colab_type": "code",
        "colab": {}
      },
      "source": [
        "import keras\n",
        "from keras.models import Sequential\n",
        "from keras.layers import Dense, Dropout, Flatten\n",
        "from keras.layers import Conv2D, MaxPooling2D\n",
        "from keras.optimizers import SGD\n"
      ],
      "execution_count": 0,
      "outputs": []
    },
    {
      "cell_type": "code",
      "metadata": {
        "id": "W7lfZongWw6g",
        "colab_type": "code",
        "colab": {}
      },
      "source": [
        "#Buidling a model using regular neural network\n",
        "model = keras.Sequential([\n",
        "    keras.layers.Flatten(input_shape=(128, 2)),\n",
        "    keras.layers.Dense(64, activation='relu'),\n",
        "    keras.layers.Dropout(0.5),\n",
        "     keras.layers.Dense(128, activation='relu'),\n",
        "    keras.layers.Dropout(0.5),\n",
        "     keras.layers.Dense(256, activation='relu'),\n",
        "    keras.layers.Dropout(0.5),\n",
        "    keras.layers.Dense(2, activation='softmax')\n",
        "    \n",
        "])"
      ],
      "execution_count": 0,
      "outputs": []
    },
    {
      "cell_type": "code",
      "metadata": {
        "id": "NYe8DZuBrB2Q",
        "colab_type": "code",
        "colab": {}
      },
      "source": [
        "#Creating Validation Data\n",
        "data_test1=nf[110000000:111280000]\n",
        "data_test2=sf[110000000:111280000]\n",
        "data_for_test=np.concatenate((data_test1,data_test2),axis=0)\n",
        "\n",
        "data_for_test=data_for_test.reshape(-1,128,2)"
      ],
      "execution_count": 0,
      "outputs": []
    },
    {
      "cell_type": "code",
      "metadata": {
        "id": "wOcK10nxA_RU",
        "colab_type": "code",
        "colab": {}
      },
      "source": [
        "#Creating labels for the test 0 for the first class and 1 for the second class\n",
        "test_labels=np.zeros(len(data_for_test))\n",
        "test_labels[0:int(len(data_for_test)/2)]=0\n",
        "test_labels[int(len(data_for_test)/2):]=1\n",
        "test_labels=to_categorical(test_labels)"
      ],
      "execution_count": 0,
      "outputs": []
    },
    {
      "cell_type": "code",
      "metadata": {
        "id": "VEbs-A2emS-N",
        "colab_type": "code",
        "outputId": "3d08b3e4-5052-46f9-8af9-6386eacfb435",
        "colab": {
          "base_uri": "https://localhost:8080/",
          "height": 851
        }
      },
      "source": [
        "model.compile(loss='binary_crossentropy', optimizer='adam', metrics=['accuracy'])\n",
        "# Fit the model\n",
        "history=model.fit(data, data_labels, validation_data=(data_for_test,test_labels), epochs=15)"
      ],
      "execution_count": 41,
      "outputs": [
        {
          "output_type": "stream",
          "text": [
            "WARNING:tensorflow:From /usr/local/lib/python3.6/dist-packages/keras/backend/tensorflow_backend.py:1033: The name tf.assign_add is deprecated. Please use tf.compat.v1.assign_add instead.\n",
            "\n",
            "WARNING:tensorflow:From /usr/local/lib/python3.6/dist-packages/keras/backend/tensorflow_backend.py:1020: The name tf.assign is deprecated. Please use tf.compat.v1.assign instead.\n",
            "\n",
            "WARNING:tensorflow:From /usr/local/lib/python3.6/dist-packages/keras/backend/tensorflow_backend.py:3005: The name tf.Session is deprecated. Please use tf.compat.v1.Session instead.\n",
            "\n",
            "Train on 801250 samples, validate on 20000 samples\n",
            "Epoch 1/15\n",
            "WARNING:tensorflow:From /usr/local/lib/python3.6/dist-packages/keras/backend/tensorflow_backend.py:190: The name tf.get_default_session is deprecated. Please use tf.compat.v1.get_default_session instead.\n",
            "\n",
            "WARNING:tensorflow:From /usr/local/lib/python3.6/dist-packages/keras/backend/tensorflow_backend.py:197: The name tf.ConfigProto is deprecated. Please use tf.compat.v1.ConfigProto instead.\n",
            "\n",
            "WARNING:tensorflow:From /usr/local/lib/python3.6/dist-packages/keras/backend/tensorflow_backend.py:207: The name tf.global_variables is deprecated. Please use tf.compat.v1.global_variables instead.\n",
            "\n",
            "WARNING:tensorflow:From /usr/local/lib/python3.6/dist-packages/keras/backend/tensorflow_backend.py:216: The name tf.is_variable_initialized is deprecated. Please use tf.compat.v1.is_variable_initialized instead.\n",
            "\n",
            "WARNING:tensorflow:From /usr/local/lib/python3.6/dist-packages/keras/backend/tensorflow_backend.py:223: The name tf.variables_initializer is deprecated. Please use tf.compat.v1.variables_initializer instead.\n",
            "\n",
            "801250/801250 [==============================] - 160s 200us/step - loss: 0.0933 - acc: 0.9646 - val_loss: 0.2774 - val_acc: 0.8546\n",
            "Epoch 2/15\n",
            "801250/801250 [==============================] - 155s 194us/step - loss: 0.0612 - acc: 0.9791 - val_loss: 0.0741 - val_acc: 0.9683\n",
            "Epoch 3/15\n",
            "801250/801250 [==============================] - 156s 195us/step - loss: 0.0559 - acc: 0.9808 - val_loss: 0.0765 - val_acc: 0.9768\n",
            "Epoch 4/15\n",
            "801250/801250 [==============================] - 156s 194us/step - loss: 0.0544 - acc: 0.9818 - val_loss: 0.0728 - val_acc: 0.9735\n",
            "Epoch 5/15\n",
            "801250/801250 [==============================] - 157s 196us/step - loss: 0.0532 - acc: 0.9823 - val_loss: 0.0871 - val_acc: 0.9649\n",
            "Epoch 6/15\n",
            "801250/801250 [==============================] - 154s 192us/step - loss: 0.0519 - acc: 0.9827 - val_loss: 0.0692 - val_acc: 0.9762\n",
            "Epoch 7/15\n",
            "801250/801250 [==============================] - 155s 194us/step - loss: 0.0521 - acc: 0.9828 - val_loss: 0.0674 - val_acc: 0.9768\n",
            "Epoch 8/15\n",
            "801250/801250 [==============================] - 153s 191us/step - loss: 0.0521 - acc: 0.9830 - val_loss: 0.0946 - val_acc: 0.9602\n",
            "Epoch 9/15\n",
            "801250/801250 [==============================] - 153s 192us/step - loss: 0.0520 - acc: 0.9830 - val_loss: 0.0664 - val_acc: 0.9738\n",
            "Epoch 10/15\n",
            "801250/801250 [==============================] - 153s 191us/step - loss: 0.0533 - acc: 0.9831 - val_loss: 0.0684 - val_acc: 0.9738\n",
            "Epoch 11/15\n",
            "801250/801250 [==============================] - 153s 191us/step - loss: 0.0563 - acc: 0.9828 - val_loss: 0.0754 - val_acc: 0.9709\n",
            "Epoch 12/15\n",
            "801250/801250 [==============================] - 153s 191us/step - loss: 0.0532 - acc: 0.9829 - val_loss: 0.1630 - val_acc: 0.8998\n",
            "Epoch 13/15\n",
            "801250/801250 [==============================] - 153s 191us/step - loss: 0.0564 - acc: 0.9823 - val_loss: 0.0991 - val_acc: 0.9603\n",
            "Epoch 14/15\n",
            "801250/801250 [==============================] - 153s 191us/step - loss: 0.0603 - acc: 0.9818 - val_loss: 0.0787 - val_acc: 0.9695\n",
            "Epoch 15/15\n",
            "801250/801250 [==============================] - 153s 191us/step - loss: 0.0602 - acc: 0.9814 - val_loss: 0.0835 - val_acc: 0.9689\n"
          ],
          "name": "stdout"
        }
      ]
    },
    {
      "cell_type": "code",
      "metadata": {
        "id": "L3ALwjWdPXOj",
        "colab_type": "code",
        "colab": {
          "base_uri": "https://localhost:8080/",
          "height": 573
        },
        "outputId": "f8cd5922-0c25-454b-f1d5-13cdfe92248b"
      },
      "source": [
        "import matplotlib.pyplot as plt\n",
        "plt.plot(history.history['acc'])\n",
        "plt.plot(history.history['val_acc'])\n",
        "plt.title('Model  Accuracy')\n",
        "plt.xlabel('Epochs')\n",
        "plt.ylabel('Accuracy')\n",
        "plt.legend(['train', 'test'], loc='upper left')\n",
        "plt.show()\n",
        "# summarize history for loss\n",
        "plt.plot(history.history['loss'])\n",
        "plt.plot(history.history['val_loss'])\n",
        "plt.title('model loss')\n",
        "plt.ylabel('loss')\n",
        "plt.xlabel('epoch')\n",
        "plt.legend(['train', 'test'], loc='upper left')\n",
        "plt.show()"
      ],
      "execution_count": 42,
      "outputs": [
        {
          "output_type": "display_data",
          "data": {
            "image/png": "[encoded data removed]",
            "text/plain": [
              "<Figure size 432x288 with 1 Axes>"
            ]
          },
          "metadata": {
            "tags": []
          }
        },
        {
          "output_type": "display_data",
          "data": {
            "image/png": "[encoded data removed]",
            "text/plain": [
              "<Figure size 432x288 with 1 Axes>"
            ]
          },
          "metadata": {
            "tags": []
          }
        }
      ]
    },
    {
      "cell_type": "code",
      "metadata": {
        "id": "FRfOanrTcRh9",
        "colab_type": "code",
        "colab": {}
      },
      "source": [
        "# test_labels=np.zeros(len(data_for_test))\n",
        "# test_labels[0:int(len(data_for_test)/2)]=0\n",
        "# test_labels[int(len(data_for_test)/2):]=1\n",
        "data_for_test=data_for_test.reshape(-1,128,2)\n",
        "y_pred=model.predict_classes(data_for_test)\n",
        "import tensorflow as tf\n",
        "con_mat =  tf.compat.v1.confusion_matrix(labels=test_labels, predictions=y_pred)\n"
      ],
      "execution_count": 0,
      "outputs": []
    },
    {
      "cell_type": "code",
      "metadata": {
        "id": "s7Lu4bR6qf7n",
        "colab_type": "code",
        "colab": {
          "base_uri": "https://localhost:8080/",
          "height": 330
        },
        "outputId": "087511ca-1e67-487a-a11c-0c5a286a68e0"
      },
      "source": [
        "print(con_mat.eval())"
      ],
      "execution_count": 93,
      "outputs": [
        {
          "output_type": "error",
          "ename": "ValueError",
          "evalue": "ignored",
          "traceback": [
            "\u001b[0;31m---------------------------------------------------------------------------\u001b[0m",
            "\u001b[0;31mValueError\u001b[0m                                Traceback (most recent call last)",
            "\u001b[0;32m<ipython-input-93-fe55cf32f010>\u001b[0m in \u001b[0;36m<module>\u001b[0;34m()\u001b[0m\n\u001b[0;32m----> 1\u001b[0;31m \u001b[0mprint\u001b[0m\u001b[0;34m(\u001b[0m\u001b[0mcon_mat\u001b[0m\u001b[0;34m.\u001b[0m\u001b[0meval\u001b[0m\u001b[0;34m(\u001b[0m\u001b[0;34m)\u001b[0m\u001b[0;34m)\u001b[0m\u001b[0;34m\u001b[0m\u001b[0;34m\u001b[0m\u001b[0m\n\u001b[0m",
            "\u001b[0;32m/usr/local/lib/python3.6/dist-packages/tensorflow_core/python/framework/ops.py\u001b[0m in \u001b[0;36meval\u001b[0;34m(self, feed_dict, session)\u001b[0m\n\u001b[1;32m    796\u001b[0m \u001b[0;34m\u001b[0m\u001b[0m\n\u001b[1;32m    797\u001b[0m     \"\"\"\n\u001b[0;32m--> 798\u001b[0;31m     \u001b[0;32mreturn\u001b[0m \u001b[0m_eval_using_default_session\u001b[0m\u001b[0;34m(\u001b[0m\u001b[0mself\u001b[0m\u001b[0;34m,\u001b[0m \u001b[0mfeed_dict\u001b[0m\u001b[0;34m,\u001b[0m \u001b[0mself\u001b[0m\u001b[0;34m.\u001b[0m\u001b[0mgraph\u001b[0m\u001b[0;34m,\u001b[0m \u001b[0msession\u001b[0m\u001b[0;34m)\u001b[0m\u001b[0;34m\u001b[0m\u001b[0;34m\u001b[0m\u001b[0m\n\u001b[0m\u001b[1;32m    799\u001b[0m \u001b[0;34m\u001b[0m\u001b[0m\n\u001b[1;32m    800\u001b[0m   \u001b[0;32mdef\u001b[0m \u001b[0mexperimental_ref\u001b[0m\u001b[0;34m(\u001b[0m\u001b[0mself\u001b[0m\u001b[0;34m)\u001b[0m\u001b[0;34m:\u001b[0m\u001b[0;34m\u001b[0m\u001b[0;34m\u001b[0m\u001b[0m\n",
            "\u001b[0;32m/usr/local/lib/python3.6/dist-packages/tensorflow_core/python/framework/ops.py\u001b[0m in \u001b[0;36m_eval_using_default_session\u001b[0;34m(tensors, feed_dict, graph, session)\u001b[0m\n\u001b[1;32m   5391\u001b[0m     \u001b[0msession\u001b[0m \u001b[0;34m=\u001b[0m \u001b[0mget_default_session\u001b[0m\u001b[0;34m(\u001b[0m\u001b[0;34m)\u001b[0m\u001b[0;34m\u001b[0m\u001b[0;34m\u001b[0m\u001b[0m\n\u001b[1;32m   5392\u001b[0m     \u001b[0;32mif\u001b[0m \u001b[0msession\u001b[0m \u001b[0;32mis\u001b[0m \u001b[0;32mNone\u001b[0m\u001b[0;34m:\u001b[0m\u001b[0;34m\u001b[0m\u001b[0;34m\u001b[0m\u001b[0m\n\u001b[0;32m-> 5393\u001b[0;31m       raise ValueError(\"Cannot evaluate tensor using `eval()`: No default \"\n\u001b[0m\u001b[1;32m   5394\u001b[0m                        \u001b[0;34m\"session is registered. Use `with \"\u001b[0m\u001b[0;34m\u001b[0m\u001b[0;34m\u001b[0m\u001b[0m\n\u001b[1;32m   5395\u001b[0m                        \u001b[0;34m\"sess.as_default()` or pass an explicit session to \"\u001b[0m\u001b[0;34m\u001b[0m\u001b[0;34m\u001b[0m\u001b[0m\n",
            "\u001b[0;31mValueError\u001b[0m: Cannot evaluate tensor using `eval()`: No default session is registered. Use `with sess.as_default()` or pass an explicit session to `eval(session=sess)`"
          ]
        }
      ]
    },
    {
      "cell_type": "code",
      "metadata": {
        "id": "hJU5rLR0ruZN",
        "colab_type": "code",
        "colab": {
          "base_uri": "https://localhost:8080/",
          "height": 328
        },
        "outputId": "f157ec0b-10a1-47b6-9010-9e00ad1f1a91"
      },
      "source": [
        "from sklearn.metrics import classification_report, confusion_matrix\n",
        "import seaborn as sns\n",
        "\n",
        "data_for_test=data_for_test.reshape(-1,128,2)\n",
        "Y_pred =model.predict_classes(data_for_test)\n",
        "classes=['h1','h2']\n",
        "print('Confusion Matrix')\n",
        "con_mat=confusion_matrix(test_labels, Y_pred)\n",
        "\n",
        "con_mat_df = pd.DataFrame(con_mat,\n",
        "                     index = classes, \n",
        "                     columns = classes)\n",
        "figure = plt.figure(figsize=(4, 4))\n",
        "sns.heatmap(con_mat, annot=True,cmap=plt.cm.Blues,fmt='d',center=1)\n",
        "plt.tight_layout()\n",
        "plt.ylabel('True label')\n",
        "plt.xlabel('Predicted label')\n",
        "plt.show()"
      ],
      "execution_count": 112,
      "outputs": [
        {
          "output_type": "stream",
          "text": [
            "Confusion Matrix\n"
          ],
          "name": "stdout"
        },
        {
          "output_type": "display_data",
          "data": {
            "image/png": "[encoded data removed]",
            "text/plain": [
              "<Figure size 288x288 with 2 Axes>"
            ]
          },
          "metadata": {
            "tags": []
          }
        }
      ]
    },
    {
      "cell_type": "code",
      "metadata": {
        "id": "vJWr1X0DmnfN",
        "colab_type": "code",
        "colab": {}
      },
      "source": [
        "# #Testing model using normal neural networks\n",
        "new_test=sf[9000000:9128000]\n",
        "# new_test=sf[110000000:111280000]\n",
        "# print(len(new_test))\n",
        "\n",
        "new_test=new_test.reshape(-1,128,2)\n",
        "print(new_test.shape)\n",
        "\n",
        "for img in new_test:\n",
        "  print(model.predict_classes(img.reshape(-1,128,2)))\n"
      ],
      "execution_count": 0,
      "outputs": []
    },
    {
      "cell_type": "code",
      "metadata": {
        "id": "-9oYwsDeLNc1",
        "colab_type": "code",
        "colab": {}
      },
      "source": [
        "import os\n",
        "# plotting the metrics\n",
        "\n",
        "\n",
        "print(model.history['acc'])\n"
      ],
      "execution_count": 0,
      "outputs": []
    },
    {
      "cell_type": "code",
      "metadata": {
        "id": "rb3EvKj2LVYs",
        "colab_type": "code",
        "outputId": "074f96e4-cbb3-4f60-f595-d8d444d3a175",
        "colab": {
          "base_uri": "https://localhost:8080/",
          "height": 34
        }
      },
      "source": [
        "%tensorboard --logdir logs"
      ],
      "execution_count": 0,
      "outputs": [
        {
          "output_type": "stream",
          "text": [
            "UsageError: Line magic function `%tensorboard` not found.\n"
          ],
          "name": "stderr"
        }
      ]
    },
    {
      "cell_type": "code",
      "metadata": {
        "id": "SikEn6D23XGS",
        "colab_type": "code",
        "outputId": "418f2d36-a8d7-4cf0-e6e6-c44b99967325",
        "colab": {
          "base_uri": "https://localhost:8080/",
          "height": 34
        }
      },
      "source": [
        "#Reshaping data for the convolutional model\n",
        "img_rows=128\n",
        "img_cols=2\n",
        "data = data.reshape(data.shape[0], img_rows, img_cols, 1)\n",
        "data_for_test = data_for_test.reshape(data_for_test.shape[0], img_rows, img_cols, 1)\n",
        "input_shape = (img_rows, img_cols, 1)\n",
        "\n",
        "print('data shape:', data.shape) #data shape: (60000, 28, 28, 1)"
      ],
      "execution_count": 114,
      "outputs": [
        {
          "output_type": "stream",
          "text": [
            "data shape: (801250, 128, 2, 1)\n"
          ],
          "name": "stdout"
        }
      ]
    },
    {
      "cell_type": "code",
      "metadata": {
        "id": "lEa40bKS5dup",
        "colab_type": "code",
        "colab": {
          "base_uri": "https://localhost:8080/",
          "height": 71
        },
        "outputId": "f1aeca22-bff9-44f4-dd47-8f6c193b87bc"
      },
      "source": [
        "##model convolutional model\n",
        "conv_model = Sequential()\n",
        "#convolutional layer with rectified linear unit activation\n",
        "conv_model.add(Conv2D(32, kernel_size=(3, 3),\n",
        "                 activation='relu',padding=\"same\",\n",
        "                 input_shape=input_shape))\n",
        "#32 convolution filters used each of size 3x3\n",
        "#again\n",
        "conv_model.add(Conv2D(64, (3, 3), padding=\"same\",activation='relu'))\n",
        "#64 convolution filters used each of size 3x3\n",
        "#choose the best features via pooling\n",
        "conv_model.add(MaxPooling2D(pool_size=(2, 2)))\n",
        "#randomly turn neurons on and off to improve convergence\n",
        "conv_model.add(Dropout(0.25))\n",
        "#flatten since too many dimensions, we only want a classification output\n",
        "conv_model.add(Flatten())\n",
        "#fully connected to get all relevant data\n",
        "conv_model.add(Dense(128, activation='relu'))\n",
        "#one more dropout for convergence' sake :) \n",
        "conv_model.add(Dropout(0.5))\n",
        "#output a softmax to squash the matrix into output probabilities\n",
        "conv_model.add(Dense(2, activation='softmax'))"
      ],
      "execution_count": 59,
      "outputs": [
        {
          "output_type": "stream",
          "text": [
            "WARNING:tensorflow:From /usr/local/lib/python3.6/dist-packages/keras/backend/tensorflow_backend.py:4267: The name tf.nn.max_pool is deprecated. Please use tf.nn.max_pool2d instead.\n",
            "\n"
          ],
          "name": "stdout"
        }
      ]
    },
    {
      "cell_type": "code",
      "metadata": {
        "id": "NYvx--SRKpaF",
        "colab_type": "code",
        "outputId": "037ef409-dd7e-4be1-f5ec-427c36f2d2c2",
        "colab": {
          "base_uri": "https://localhost:8080/",
          "height": 420
        }
      },
      "source": [
        "conv_model.summary()"
      ],
      "execution_count": 0,
      "outputs": [
        {
          "output_type": "stream",
          "text": [
            "Model: \"sequential_3\"\n",
            "_________________________________________________________________\n",
            "Layer (type)                 Output Shape              Param #   \n",
            "=================================================================\n",
            "conv2d_3 (Conv2D)            (None, 128, 2, 32)        320       \n",
            "_________________________________________________________________\n",
            "conv2d_4 (Conv2D)            (None, 128, 2, 64)        18496     \n",
            "_________________________________________________________________\n",
            "max_pooling2d_2 (MaxPooling2 (None, 64, 1, 64)         0         \n",
            "_________________________________________________________________\n",
            "dropout_6 (Dropout)          (None, 64, 1, 64)         0         \n",
            "_________________________________________________________________\n",
            "flatten_3 (Flatten)          (None, 4096)              0         \n",
            "_________________________________________________________________\n",
            "dense_7 (Dense)              (None, 128)               524416    \n",
            "_________________________________________________________________\n",
            "dropout_7 (Dropout)          (None, 128)               0         \n",
            "_________________________________________________________________\n",
            "dense_8 (Dense)              (None, 2)                 258       \n",
            "=================================================================\n",
            "Total params: 543,490\n",
            "Trainable params: 543,490\n",
            "Non-trainable params: 0\n",
            "_________________________________________________________________\n"
          ],
          "name": "stdout"
        }
      ]
    },
    {
      "cell_type": "code",
      "metadata": {
        "id": "IwuXn8GfINsQ",
        "colab_type": "code",
        "outputId": "6a9a5f57-938e-4b58-b990-04e290a80ff3",
        "colab": {
          "base_uri": "https://localhost:8080/",
          "height": 554
        }
      },
      "source": [
        "conv_model.compile(loss='binary_crossentropy', optimizer='adam', metrics=['accuracy'])\n",
        "# Train the model for 15 epochs\n",
        "history=conv_model.fit(data, data_labels, validation_data=(data_for_test,test_labels), epochs=15)"
      ],
      "execution_count": 62,
      "outputs": [
        {
          "output_type": "stream",
          "text": [
            "Train on 801250 samples, validate on 20000 samples\n",
            "Epoch 1/15\n",
            "801250/801250 [==============================] - 234s 292us/step - loss: 0.0289 - acc: 0.9894 - val_loss: 0.0165 - val_acc: 0.9943\n",
            "Epoch 2/15\n",
            "801250/801250 [==============================] - 229s 286us/step - loss: 0.0125 - acc: 0.9958 - val_loss: 0.0047 - val_acc: 0.9980\n",
            "Epoch 3/15\n",
            "801250/801250 [==============================] - 229s 286us/step - loss: 0.0070 - acc: 0.9977 - val_loss: 0.0024 - val_acc: 0.9992\n",
            "Epoch 4/15\n",
            "801250/801250 [==============================] - 230s 287us/step - loss: 0.0057 - acc: 0.9982 - val_loss: 6.5500e-04 - val_acc: 0.9998\n",
            "Epoch 5/15\n",
            "801250/801250 [==============================] - 230s 287us/step - loss: 0.0030 - acc: 0.9991 - val_loss: 2.7794e-04 - val_acc: 0.9999\n",
            "Epoch 6/15\n",
            "801250/801250 [==============================] - 231s 288us/step - loss: 0.0025 - acc: 0.9992 - val_loss: 1.3747e-04 - val_acc: 1.0000\n",
            "Epoch 7/15\n",
            "801250/801250 [==============================] - 229s 285us/step - loss: 0.0022 - acc: 0.9994 - val_loss: 0.0012 - val_acc: 0.9996\n",
            "Epoch 8/15\n",
            "801250/801250 [==============================] - 230s 287us/step - loss: 0.0022 - acc: 0.9994 - val_loss: 2.6695e-04 - val_acc: 0.9999\n",
            "Epoch 9/15\n",
            "801250/801250 [==============================] - 231s 289us/step - loss: 0.0020 - acc: 0.9995 - val_loss: 4.3142e-05 - val_acc: 1.0000\n",
            "Epoch 10/15\n",
            "801250/801250 [==============================] - 230s 287us/step - loss: 0.0016 - acc: 0.9996 - val_loss: 2.2891e-04 - val_acc: 0.9999\n",
            "Epoch 11/15\n",
            "801250/801250 [==============================] - 229s 285us/step - loss: 0.0017 - acc: 0.9995 - val_loss: 1.0046e-04 - val_acc: 1.0000\n",
            "Epoch 12/15\n",
            "801250/801250 [==============================] - 228s 285us/step - loss: 0.0018 - acc: 0.9996 - val_loss: 1.2561e-04 - val_acc: 1.0000\n",
            "Epoch 13/15\n",
            "801250/801250 [==============================] - 230s 287us/step - loss: 0.0017 - acc: 0.9996 - val_loss: 3.8860e-04 - val_acc: 0.9999\n",
            "Epoch 14/15\n",
            "801250/801250 [==============================] - 228s 285us/step - loss: 0.0018 - acc: 0.9995 - val_loss: 7.3766e-04 - val_acc: 0.9999\n",
            "Epoch 15/15\n",
            "801250/801250 [==============================] - 229s 286us/step - loss: 0.0020 - acc: 0.9995 - val_loss: 2.8932e-04 - val_acc: 0.9999\n"
          ],
          "name": "stdout"
        }
      ]
    },
    {
      "cell_type": "code",
      "metadata": {
        "id": "y-uMSodeJbiN",
        "colab_type": "code",
        "outputId": "c00d2f67-ca5c-4b81-ff9f-81bd1ba104c1",
        "colab": {
          "base_uri": "https://localhost:8080/",
          "height": 573
        }
      },
      "source": [
        "import matplotlib.pyplot as plt\n",
        "plt.plot(history.history['acc'])\n",
        "plt.plot(history.history['val_acc'])\n",
        "plt.title('Model  Accuracy')\n",
        "plt.xlabel('Epochs')\n",
        "plt.ylabel('Accuracy')\n",
        "plt.legend(['train', 'test'], loc='upper left')\n",
        "plt.show()\n",
        "# summarize history for loss\n",
        "plt.plot(history.history['loss'])\n",
        "plt.plot(history.history['val_loss'])\n",
        "plt.title('model loss')\n",
        "plt.ylabel('loss')\n",
        "plt.xlabel('epoch')\n",
        "plt.legend(['train', 'test'], loc='upper left')\n",
        "plt.show()"
      ],
      "execution_count": 63,
      "outputs": [
        {
          "output_type": "display_data",
          "data": {
            "image/png": "[encoded data removed]",
            "text/plain": [
              "<Figure size 432x288 with 1 Axes>"
            ]
          },
          "metadata": {
            "tags": []
          }
        },
        {
          "output_type": "display_data",
          "data": {
            "image/png": "[encoded data removed]",
            "text/plain": [
              "<Figure size 432x288 with 1 Axes>"
            ]
          },
          "metadata": {
            "tags": []
          }
        }
      ]
    },
    {
      "cell_type": "code",
      "metadata": {
        "id": "S_zf7yw1bcox",
        "colab_type": "code",
        "colab": {
          "base_uri": "https://localhost:8080/",
          "height": 328
        },
        "outputId": "b6fb79ac-5d7b-4552-ca4e-7f6fe1c09e96"
      },
      "source": [
        "from sklearn.metrics import classification_report, confusion_matrix\n",
        "import seaborn as sns\n",
        "\n",
        "Y_pred =conv_model.predict_classes(data_for_test)\n",
        "classes=['h1','h2']\n",
        "print('Confusion Matrix')\n",
        "con_mat=confusion_matrix(test_labels, Y_pred)\n",
        "\n",
        "con_mat_df = pd.DataFrame(con_mat,\n",
        "                     index = classes, \n",
        "                     columns = classes)\n",
        "figure = plt.figure(figsize=(4, 4))\n",
        "sns.heatmap(con_mat, annot=True,cmap=plt.cm.Blues,fmt='d',center=1)\n",
        "plt.tight_layout()\n",
        "plt.ylabel('True label')\n",
        "plt.xlabel('Predicted label')\n",
        "plt.show()\n"
      ],
      "execution_count": 115,
      "outputs": [
        {
          "output_type": "stream",
          "text": [
            "Confusion Matrix\n"
          ],
          "name": "stdout"
        },
        {
          "output_type": "display_data",
          "data": {
            "image/png": "[encoded data removed]",
            "text/plain": [
              "<Figure size 288x288 with 2 Axes>"
            ]
          },
          "metadata": {
            "tags": []
          }
        }
      ]
    },
    {
      "cell_type": "code",
      "metadata": {
        "id": "bytHsc6PlUB7",
        "colab_type": "code",
        "colab": {}
      },
      "source": [
        "#Model of paper\n",
        "# model_Conv = Sequential()\n",
        "# model_Conv.add(Conv2D(50, (1, 3), activation='relu',input_shape=input_shape))\n",
        "# model_Conv.add(MaxPooling2D(pool_size=(2, 2)))\n",
        "# model_Conv.add(Dropout(0.25))\n",
        "# model_Conv.add(Conv2D(50, (2, 3), activation='relu'))\n",
        "# model_Conv.add(MaxPooling2D(pool_size=(2, 2)))\n",
        "# model_Conv.add(Dropout(0.25))\n",
        "# model_Conv.add(Flatten())\n",
        "# model_Conv.add(Dense(256, activation='relu'))\n",
        "# model_Conv.add(Dropout(0.5))\n",
        "# model_Conv.add(Dense(2, activation='softmax'))"
      ],
      "execution_count": 0,
      "outputs": []
    },
    {
      "cell_type": "code",
      "metadata": {
        "id": "nE5U72tVmPSW",
        "colab_type": "code",
        "colab": {}
      },
      "source": [
        ""
      ],
      "execution_count": 0,
      "outputs": []
    },
    {
      "cell_type": "code",
      "metadata": {
        "id": "rTuCC7PnURA_",
        "colab_type": "code",
        "colab": {}
      },
      "source": [
        "trial=data_for_test[9888:11100]\n",
        "for img in trial:\n",
        "\n",
        "  img=(np.expand_dims(img,0))\n",
        "  print(model.predict_classes(img))"
      ],
      "execution_count": 0,
      "outputs": []
    },
    {
      "cell_type": "code",
      "metadata": {
        "id": "KPphA-1A9re0",
        "colab_type": "code",
        "colab": {}
      },
      "source": [
        ""
      ],
      "execution_count": 0,
      "outputs": []
    }
  ]
}