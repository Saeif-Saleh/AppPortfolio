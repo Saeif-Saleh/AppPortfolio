{
  "nbformat": 4,
  "nbformat_minor": 0,
  "metadata": {
    "colab": {
      "name": "Classify_different_antennas_2450_175.ipynb",
      "provenance": [],
      "toc_visible": true,
      "machine_shape": "hm",
      "mount_file_id": "1APFTuRe7w0cCUbtP87CVG1Qzg_BwX47t",
      "authorship_tag": "ABX9TyMk7ohhzZV4OA9qNe2MB2y/",
      "include_colab_link": true
    },
    "kernelspec": {
      "name": "python3",
      "display_name": "Python 3"
    },
    "accelerator": "GPU"
  },
  "cells": [
    {
      "cell_type": "markdown",
      "metadata": {
        "id": "view-in-github",
        "colab_type": "text"
      },
      "source": [
        "<a href=\"https://colab.research.google.com/github/Saeif-Saleh/AppPortfolio/blob/master/Classify_different_antennas_2450_175.ipynb\" target=\"_parent\"><img src=\"https://colab.research.google.com/assets/colab-badge.svg\" alt=\"Open In Colab\"/></a>"
      ]
    },
    {
      "cell_type": "code",
      "metadata": {
        "id": "Rggh1H0Ok922",
        "colab_type": "code",
        "outputId": "9a2f487d-b18a-4092-aa27-d827b5a0330c",
        "colab": {
          "base_uri": "https://localhost:8080/",
          "height": 306
        }
      },
      "source": [
        "!nvidia-smi\n",
        "# !pip install --upgrade tensorflow\n"
      ],
      "execution_count": 5,
      "outputs": [
        {
          "output_type": "stream",
          "text": [
            "Mon Feb 24 05:43:01 2020       \n",
            "+-----------------------------------------------------------------------------+\n",
            "| NVIDIA-SMI 440.48.02    Driver Version: 418.67       CUDA Version: 10.1     |\n",
            "|-------------------------------+----------------------+----------------------+\n",
            "| GPU  Name        Persistence-M| Bus-Id        Disp.A | Volatile Uncorr. ECC |\n",
            "| Fan  Temp  Perf  Pwr:Usage/Cap|         Memory-Usage | GPU-Util  Compute M. |\n",
            "|===============================+======================+======================|\n",
            "|   0  Tesla P100-PCIE...  Off  | 00000000:00:04.0 Off |                    0 |\n",
            "| N/A   44C    P0    29W / 250W |      0MiB / 16280MiB |      0%      Default |\n",
            "+-------------------------------+----------------------+----------------------+\n",
            "                                                                               \n",
            "+-----------------------------------------------------------------------------+\n",
            "| Processes:                                                       GPU Memory |\n",
            "|  GPU       PID   Type   Process name                             Usage      |\n",
            "|=============================================================================|\n",
            "|  No running processes found                                                 |\n",
            "+-----------------------------------------------------------------------------+\n"
          ],
          "name": "stdout"
        }
      ]
    },
    {
      "cell_type": "code",
      "metadata": {
        "id": "4mLiQr6FlwAw",
        "colab_type": "code",
        "colab": {}
      },
      "source": [
        "import scipy.io\n",
        "import numpy as np"
      ],
      "execution_count": 0,
      "outputs": []
    },
    {
      "cell_type": "code",
      "metadata": {
        "id": "wjJErQpGl2dh",
        "colab_type": "code",
        "colab": {}
      },
      "source": [
        "matlab_data=scipy.io.loadmat('/content/drive/My Drive/thesis_data/Antenna/R2450_175.mat')"
      ],
      "execution_count": 0,
      "outputs": []
    },
    {
      "cell_type": "code",
      "metadata": {
        "id": "t5zXRcErl-lg",
        "colab_type": "code",
        "outputId": "e3988794-1272-4046-f62b-e7b2dd4fd818",
        "colab": {
          "base_uri": "https://localhost:8080/",
          "height": 34
        }
      },
      "source": [
        "print(list(matlab_data.keys())[3:])"
      ],
      "execution_count": 8,
      "outputs": [
        {
          "output_type": "stream",
          "text": [
            "['R2450_T2450_test', 'R2450_T2450_train', 'R2450_T500_test', 'R2450_T500_train', 'R2450_T900_test', 'R2450_T900_train']\n"
          ],
          "name": "stdout"
        }
      ]
    },
    {
      "cell_type": "code",
      "metadata": {
        "id": "ErDxJVc_mCX-",
        "colab_type": "code",
        "colab": {}
      },
      "source": [
        "train_900=matlab_data['R2450_T900_train']\n",
        "train_2450=matlab_data['R2450_T2450_train']\n",
        "train_500=matlab_data['R2450_T500_train']"
      ],
      "execution_count": 0,
      "outputs": []
    },
    {
      "cell_type": "code",
      "metadata": {
        "id": "gtybbgZsn-VF",
        "colab_type": "code",
        "outputId": "5ee38733-f375-4bb8-df3d-2b5a6c996ace",
        "colab": {
          "base_uri": "https://localhost:8080/",
          "height": 68
        }
      },
      "source": [
        "print(train_900.shape)\n",
        "print(train_2450.shape)\n",
        "print(train_500.shape)"
      ],
      "execution_count": 10,
      "outputs": [
        {
          "output_type": "stream",
          "text": [
            "(67607243, 2)\n",
            "(68196855, 2)\n",
            "(66462243, 2)\n"
          ],
          "name": "stdout"
        }
      ]
    },
    {
      "cell_type": "code",
      "metadata": {
        "id": "FkcmqluJoOaS",
        "colab_type": "code",
        "colab": {}
      },
      "source": [
        "test_900=matlab_data['R2450_T900_test']\n",
        "test_2450=matlab_data['R2450_T2450_test']\n",
        "test_500=matlab_data['R2450_T500_test']"
      ],
      "execution_count": 0,
      "outputs": []
    },
    {
      "cell_type": "code",
      "metadata": {
        "id": "oGlulEazoYhh",
        "colab_type": "code",
        "outputId": "fd22cb84-e416-4c11-e8bf-21945b0a0cd9",
        "colab": {
          "base_uri": "https://localhost:8080/",
          "height": 68
        }
      },
      "source": [
        "print(test_900.shape)\n",
        "print(test_2450.shape)\n",
        "print(test_500.shape)"
      ],
      "execution_count": 12,
      "outputs": [
        {
          "output_type": "stream",
          "text": [
            "(17442871, 2)\n",
            "(14714767, 2)\n",
            "(14282288, 2)\n"
          ],
          "name": "stdout"
        }
      ]
    },
    {
      "cell_type": "code",
      "metadata": {
        "id": "F1Kr_u8u0v8n",
        "colab_type": "code",
        "outputId": "257276a5-a5d2-452b-f564-a1f60e1ad3aa",
        "colab": {
          "base_uri": "https://localhost:8080/",
          "height": 68
        }
      },
      "source": [
        "print(train_900.shape)\n",
        "print(train_2450.shape)\n",
        "print(train_500.shape)"
      ],
      "execution_count": 13,
      "outputs": [
        {
          "output_type": "stream",
          "text": [
            "(67607243, 2)\n",
            "(68196855, 2)\n",
            "(66462243, 2)\n"
          ],
          "name": "stdout"
        }
      ]
    },
    {
      "cell_type": "code",
      "metadata": {
        "id": "QpzINBYLofEo",
        "colab_type": "code",
        "colab": {}
      },
      "source": [
        "#Slicing data to be divisible by 2**n \n",
        "# train_900=train_900[1000000:5194304]\n",
        "# train_2450=train_2450[1000000:5194304]\n",
        "# train_500=train_500[1000000:5194304]\n",
        "\n",
        "train_900=train_900[1000000:34554432]\n",
        "train_2450=train_2450[1000000:34554432]\n",
        "train_500=train_500[1000000:34554432]\n",
        "\n",
        "\n",
        "\n",
        "\n"
      ],
      "execution_count": 0,
      "outputs": []
    },
    {
      "cell_type": "code",
      "metadata": {
        "id": "HjLFd5czapbI",
        "colab_type": "code",
        "colab": {}
      },
      "source": [
        "test_900=test_900[1000000:9388608]\n",
        "test_2450=test_2450[1000000:9388608]\n",
        "test_500=test_500[1000000:9388608]\n"
      ],
      "execution_count": 0,
      "outputs": []
    },
    {
      "cell_type": "code",
      "metadata": {
        "id": "4fLypDHWqf0W",
        "colab_type": "code",
        "outputId": "ee4b0e39-dfac-4672-916a-9b6d05ad95a6",
        "colab": {
          "base_uri": "https://localhost:8080/",
          "height": 51
        }
      },
      "source": [
        "#Concatenate training and test data\n",
        "train_x=np.concatenate((train_900,train_2450,train_500),axis=0)\n",
        "test_x=np.concatenate((test_900,test_2450,test_500),axis=0)\n",
        "print(train_x.shape)\n",
        "print(test_x.shape)\n"
      ],
      "execution_count": 16,
      "outputs": [
        {
          "output_type": "stream",
          "text": [
            "(100663296, 2)\n",
            "(25165824, 2)\n"
          ],
          "name": "stdout"
        }
      ]
    },
    {
      "cell_type": "code",
      "metadata": {
        "id": "Y_fu6zdXpVX5",
        "colab_type": "code",
        "outputId": "c14465b1-415a-411e-df79-e994df987ec6",
        "colab": {
          "base_uri": "https://localhost:8080/",
          "height": 80
        }
      },
      "source": [
        "import tensorflow as tf\n",
        "from tensorflow import keras\n",
        "from tensorflow.keras import layers\n",
        "from keras import regularizers"
      ],
      "execution_count": 17,
      "outputs": [
        {
          "output_type": "display_data",
          "data": {
            "text/html": [
              "<p style=\"color: red;\">\n",
              "The default version of TensorFlow in Colab will soon switch to TensorFlow 2.x.<br>\n",
              "We recommend you <a href=\"https://www.tensorflow.org/guide/migrate\" target=\"_blank\">upgrade</a> now \n",
              "or ensure your notebook will continue to use TensorFlow 1.x via the <code>%tensorflow_version 1.x</code> magic:\n",
              "<a href=\"https://colab.research.google.com/notebooks/tensorflow_version.ipynb\" target=\"_blank\">more info</a>.</p>\n"
            ],
            "text/plain": [
              "<IPython.core.display.HTML object>"
            ]
          },
          "metadata": {
            "tags": []
          }
        },
        {
          "output_type": "stream",
          "text": [
            "Using TensorFlow backend.\n"
          ],
          "name": "stderr"
        }
      ]
    },
    {
      "cell_type": "code",
      "metadata": {
        "id": "oThxJdsGsOav",
        "colab_type": "code",
        "colab": {}
      },
      "source": [
        "n_classes=3\n",
        "sample_size=128"
      ],
      "execution_count": 0,
      "outputs": []
    },
    {
      "cell_type": "code",
      "metadata": {
        "id": "xWUqsrhqsCdT",
        "colab_type": "code",
        "colab": {}
      },
      "source": [
        "train_x=train_x.reshape(-1,2,sample_size)\n",
        "test_x=test_x.reshape(-1,2,sample_size)"
      ],
      "execution_count": 0,
      "outputs": []
    },
    {
      "cell_type": "code",
      "metadata": {
        "id": "M3oOMomesUjH",
        "colab_type": "code",
        "colab": {}
      },
      "source": [
        "#Creating train_y\n",
        "train_y=np.zeros(len(train_x))\n",
        "seprator=int(len(train_y)/n_classes)\n",
        "train_y[0:seprator]=0\n",
        "train_y[seprator:2*seprator]=1\n",
        "train_y[2*seprator:3*seprator]=2\n",
        "#Creating test_y\n",
        "test_y=np.zeros(len(test_x))\n",
        "seprator=int(len(test_y)/n_classes)\n",
        "test_y[0:seprator]=0\n",
        "test_y[seprator:2*seprator]=1\n",
        "test_y[2*seprator:3*seprator]=2\n"
      ],
      "execution_count": 0,
      "outputs": []
    },
    {
      "cell_type": "code",
      "metadata": {
        "id": "5PyB6URgsavB",
        "colab_type": "code",
        "colab": {}
      },
      "source": [
        "train_y=tf.keras.utils.to_categorical(\n",
        "    train_y,\n",
        "    num_classes=n_classes,\n",
        "    dtype='float32'\n",
        ")\n",
        "test_y=tf.keras.utils.to_categorical(\n",
        "    test_y,\n",
        "    num_classes=n_classes,\n",
        "    dtype='float32'\n",
        ")"
      ],
      "execution_count": 0,
      "outputs": []
    },
    {
      "cell_type": "code",
      "metadata": {
        "id": "5X5zkY54oleA",
        "colab_type": "code",
        "outputId": "365b92c5-cdaa-454d-d90b-6aa90fd58296",
        "colab": {
          "base_uri": "https://localhost:8080/",
          "height": 51
        }
      },
      "source": [
        "print(train_x.shape)\n",
        "print(train_y.shape)"
      ],
      "execution_count": 22,
      "outputs": [
        {
          "output_type": "stream",
          "text": [
            "(786432, 2, 128)\n",
            "(786432, 3)\n"
          ],
          "name": "stdout"
        }
      ]
    },
    {
      "cell_type": "code",
      "metadata": {
        "id": "y4T7ZE2lsdfw",
        "colab_type": "code",
        "colab": {}
      },
      "source": [
        "img_rows=sample_size\n",
        "img_cols=2\n",
        "train_x = train_x.reshape(-1, img_rows, img_cols, 1)\n",
        "test_x=test_x.reshape(-1,img_rows,img_cols,1)\n",
        "input_shape = (img_rows, img_cols, 1)"
      ],
      "execution_count": 0,
      "outputs": []
    },
    {
      "cell_type": "code",
      "metadata": {
        "id": "wF8JqJule3QZ",
        "colab_type": "code",
        "outputId": "da9e2aed-3c0a-4308-f57b-426025e1c500",
        "colab": {
          "base_uri": "https://localhost:8080/",
          "height": 51
        }
      },
      "source": [
        "print(train_x.shape)\n",
        "print(train_y.shape)"
      ],
      "execution_count": 24,
      "outputs": [
        {
          "output_type": "stream",
          "text": [
            "(786432, 128, 2, 1)\n",
            "(786432, 3)\n"
          ],
          "name": "stdout"
        }
      ]
    },
    {
      "cell_type": "code",
      "metadata": {
        "id": "Ghu6plYElUTd",
        "colab_type": "code",
        "colab": {}
      },
      "source": [
        "from sklearn.model_selection import train_test_split\n",
        "train_x, valid_x, train_y, valid_y = train_test_split(train_x, train_y, test_size=0.20, shuffle= True)\n"
      ],
      "execution_count": 0,
      "outputs": []
    },
    {
      "cell_type": "code",
      "metadata": {
        "id": "3oJDu4amX-O9",
        "colab_type": "code",
        "outputId": "d3d98ef5-db75-4336-8e40-cf6fb24e311d",
        "colab": {
          "base_uri": "https://localhost:8080/",
          "height": 493
        }
      },
      "source": [
        "   conv_model = tf.keras.models.Sequential()\n",
        "#convolutional layer with rectified linear unit activation\n",
        "   conv_model.add(tf.keras.layers.Conv2D(50, kernel_size=(1, 7),\n",
        "                 activation='relu',padding=\"same\",kernel_regularizer=regularizers.l2(0.0008),\n",
        "                 input_shape=input_shape))\n",
        "   conv_model.add(tf.keras.layers.Dropout(0.50))\n",
        "   conv_model.add(tf.keras.layers.Conv2D(50, (2, 7), padding=\"same\",activation='relu',kernel_regularizer=regularizers.l2(0.0008)))\n",
        "  #  conv_model.add(tf.keras.layers.MaxPooling2D(pool_size=(2, 2)))\n",
        "   conv_model.add(tf.keras.layers.Dropout(0.50))\n",
        "\n",
        "   \n",
        "\n",
        "#64 convolution filters used each of size 3x3\n",
        "#choose the best features via pooling\n",
        "  #  conv_model.add(tf.keras.layers.MaxPooling2D(pool_size=(2, 2),padding='same'))\n",
        "#randomly turn neurons on and off to improve convergence\n",
        "\n",
        "  #  conv_model.add(tf.keras.layers.Conv2D(128, kernel_size=(2,1),\n",
        "  #                activation='relu',padding=\"same\",\n",
        "  #                input_shape=input_shape))\n",
        "  #  conv_model.add(tf.keras.layers.MaxPooling2D(pool_size=(2,2)))\n",
        "#32 convolution filters used each of size 3x3\n",
        "#again\n",
        "#randomly turn neurons on and off to improve convergence\n",
        "  #  conv_model.add(tf.keras.layers.Dropout(0.5))\n",
        "#flatten since too many dimensions, we only want a classification output\n",
        "   conv_model.add(tf.keras.layers.Flatten())\n",
        "#fully connected to get all relevant data\n",
        "   conv_model.add(tf.keras.layers.Dense(256, activation='relu'))\n",
        "   conv_model.add(tf.keras.layers.Dropout(0.5))\n",
        "   conv_model.add(tf.keras.layers.Dense(128, activation='relu'))\n",
        "#one more dropout for convergence' sake :) \n",
        "   conv_model.add(tf.keras.layers.Dropout(0.5))\n",
        "#output a softmax to squash the matrix into output probabilities\n",
        "   conv_model.add(tf.keras.layers.Dense(n_classes, activation='softmax'))\n",
        "   conv_model.compile(loss='categorical_crossentropy', optimizer='adam', metrics=['accuracy'])\n",
        "   conv_model.summary()\n",
        "\n",
        "\n",
        "\n",
        "\n",
        "\t "
      ],
      "execution_count": 42,
      "outputs": [
        {
          "output_type": "stream",
          "text": [
            "Model: \"sequential_2\"\n",
            "_________________________________________________________________\n",
            "Layer (type)                 Output Shape              Param #   \n",
            "=================================================================\n",
            "conv2d_4 (Conv2D)            (None, 128, 2, 50)        400       \n",
            "_________________________________________________________________\n",
            "dropout_8 (Dropout)          (None, 128, 2, 50)        0         \n",
            "_________________________________________________________________\n",
            "conv2d_5 (Conv2D)            (None, 128, 2, 50)        35050     \n",
            "_________________________________________________________________\n",
            "dropout_9 (Dropout)          (None, 128, 2, 50)        0         \n",
            "_________________________________________________________________\n",
            "flatten_2 (Flatten)          (None, 12800)             0         \n",
            "_________________________________________________________________\n",
            "dense_6 (Dense)              (None, 256)               3277056   \n",
            "_________________________________________________________________\n",
            "dropout_10 (Dropout)         (None, 256)               0         \n",
            "_________________________________________________________________\n",
            "dense_7 (Dense)              (None, 128)               32896     \n",
            "_________________________________________________________________\n",
            "dropout_11 (Dropout)         (None, 128)               0         \n",
            "_________________________________________________________________\n",
            "dense_8 (Dense)              (None, 3)                 387       \n",
            "=================================================================\n",
            "Total params: 3,345,789\n",
            "Trainable params: 3,345,789\n",
            "Non-trainable params: 0\n",
            "_________________________________________________________________\n"
          ],
          "name": "stdout"
        }
      ]
    },
    {
      "cell_type": "code",
      "metadata": {
        "id": "aptEWkYSsnqB",
        "colab_type": "code",
        "outputId": "eb2b9802-948b-4447-a9de-865f24674797",
        "colab": {
          "base_uri": "https://localhost:8080/",
          "height": 1000
        }
      },
      "source": [
        "\n",
        "conv_model.compile(loss='categorical_crossentropy', optimizer='adam', metrics=['accuracy'])\n",
        "# Fit the model\n",
        "history=conv_model.fit(train_x, train_y, validation_data=(valid_x,valid_y), epochs=30,shuffle=True)"
      ],
      "execution_count": 43,
      "outputs": [
        {
          "output_type": "stream",
          "text": [
            "Train on 629145 samples, validate on 157287 samples\n",
            "Epoch 1/30\n",
            "629145/629145 [==============================] - 106s 168us/sample - loss: 1.0396 - acc: 0.4682 - val_loss: 1.0369 - val_acc: 0.4680\n",
            "Epoch 2/30\n",
            "629145/629145 [==============================] - 105s 167us/sample - loss: 1.0375 - acc: 0.4691 - val_loss: 1.0109 - val_acc: 0.4611\n",
            "Epoch 3/30\n",
            "629145/629145 [==============================] - 106s 168us/sample - loss: 0.7431 - acc: 0.6917 - val_loss: 0.4417 - val_acc: 0.8195\n",
            "Epoch 4/30\n",
            "629145/629145 [==============================] - 106s 168us/sample - loss: 0.5539 - acc: 0.7907 - val_loss: 0.2815 - val_acc: 0.9086\n",
            "Epoch 5/30\n",
            "629145/629145 [==============================] - 105s 167us/sample - loss: 0.4692 - acc: 0.8313 - val_loss: 0.2381 - val_acc: 0.9299\n",
            "Epoch 6/30\n",
            "629145/629145 [==============================] - 106s 168us/sample - loss: 0.4278 - acc: 0.8485 - val_loss: 0.2188 - val_acc: 0.9314\n",
            "Epoch 7/30\n",
            "629145/629145 [==============================] - 106s 168us/sample - loss: 0.4053 - acc: 0.8594 - val_loss: 0.2045 - val_acc: 0.9476\n",
            "Epoch 8/30\n",
            "629145/629145 [==============================] - 106s 168us/sample - loss: 0.3879 - acc: 0.8663 - val_loss: 0.2084 - val_acc: 0.9442\n",
            "Epoch 9/30\n",
            "629145/629145 [==============================] - 106s 168us/sample - loss: 0.3758 - acc: 0.8721 - val_loss: 0.1943 - val_acc: 0.9494\n",
            "Epoch 10/30\n",
            "629145/629145 [==============================] - 105s 167us/sample - loss: 0.3645 - acc: 0.8765 - val_loss: 0.2283 - val_acc: 0.9317\n",
            "Epoch 11/30\n",
            "629145/629145 [==============================] - 105s 167us/sample - loss: 0.3577 - acc: 0.8792 - val_loss: 0.1941 - val_acc: 0.9438\n",
            "Epoch 12/30\n",
            "629145/629145 [==============================] - 106s 169us/sample - loss: 0.3548 - acc: 0.8812 - val_loss: 0.1957 - val_acc: 0.9477\n",
            "Epoch 13/30\n",
            "629145/629145 [==============================] - 106s 168us/sample - loss: 0.3481 - acc: 0.8843 - val_loss: 0.1474 - val_acc: 0.9709\n",
            "Epoch 14/30\n",
            "629145/629145 [==============================] - 106s 168us/sample - loss: 0.3424 - acc: 0.8862 - val_loss: 0.1587 - val_acc: 0.9654\n",
            "Epoch 15/30\n",
            "629145/629145 [==============================] - 107s 169us/sample - loss: 0.3391 - acc: 0.8885 - val_loss: 0.1654 - val_acc: 0.9593\n",
            "Epoch 16/30\n",
            "629145/629145 [==============================] - 106s 168us/sample - loss: 0.3351 - acc: 0.8904 - val_loss: 0.1912 - val_acc: 0.9500\n",
            "Epoch 17/30\n",
            "629145/629145 [==============================] - 106s 168us/sample - loss: 0.3350 - acc: 0.8912 - val_loss: 0.1851 - val_acc: 0.9519\n",
            "Epoch 18/30\n",
            "629145/629145 [==============================] - 106s 168us/sample - loss: 0.3296 - acc: 0.8927 - val_loss: 0.1413 - val_acc: 0.9676\n",
            "Epoch 19/30\n",
            "629145/629145 [==============================] - 105s 167us/sample - loss: 0.3263 - acc: 0.8941 - val_loss: 0.1850 - val_acc: 0.9511\n",
            "Epoch 20/30\n",
            "629145/629145 [==============================] - 106s 168us/sample - loss: 0.3268 - acc: 0.8948 - val_loss: 0.1378 - val_acc: 0.9730\n",
            "Epoch 21/30\n",
            "629145/629145 [==============================] - 105s 168us/sample - loss: 0.3215 - acc: 0.8955 - val_loss: 0.1839 - val_acc: 0.9589\n",
            "Epoch 22/30\n",
            "629145/629145 [==============================] - 105s 167us/sample - loss: 0.3224 - acc: 0.8962 - val_loss: 0.1637 - val_acc: 0.9586\n",
            "Epoch 23/30\n",
            "629145/629145 [==============================] - 106s 168us/sample - loss: 0.3186 - acc: 0.8982 - val_loss: 0.1468 - val_acc: 0.9673\n",
            "Epoch 24/30\n",
            "629145/629145 [==============================] - 105s 167us/sample - loss: 0.3213 - acc: 0.8977 - val_loss: 0.1576 - val_acc: 0.9694\n",
            "Epoch 25/30\n",
            "629145/629145 [==============================] - 105s 168us/sample - loss: 0.3146 - acc: 0.8989 - val_loss: 0.1615 - val_acc: 0.9605\n",
            "Epoch 26/30\n",
            "629145/629145 [==============================] - 106s 168us/sample - loss: 0.3141 - acc: 0.8996 - val_loss: 0.1694 - val_acc: 0.9538\n",
            "Epoch 27/30\n",
            "629145/629145 [==============================] - 106s 168us/sample - loss: 0.3141 - acc: 0.8992 - val_loss: 0.1535 - val_acc: 0.9683\n",
            "Epoch 28/30\n",
            "629145/629145 [==============================] - 105s 167us/sample - loss: 0.3135 - acc: 0.9006 - val_loss: 0.1348 - val_acc: 0.9730\n",
            "Epoch 29/30\n",
            "629145/629145 [==============================] - 106s 168us/sample - loss: 0.3136 - acc: 0.8997 - val_loss: 0.1485 - val_acc: 0.9703\n",
            "Epoch 30/30\n",
            "629145/629145 [==============================] - 106s 169us/sample - loss: 0.3106 - acc: 0.9006 - val_loss: 0.1666 - val_acc: 0.9576\n"
          ],
          "name": "stdout"
        }
      ]
    },
    {
      "cell_type": "code",
      "metadata": {
        "id": "_sFnZnM7fcKs",
        "colab_type": "code",
        "outputId": "e8e9146a-958a-471d-ace7-47897f0f7130",
        "colab": {
          "base_uri": "https://localhost:8080/",
          "height": 295
        }
      },
      "source": [
        "import matplotlib.pyplot as plt\n",
        "plt.plot(history.history['acc'])\n",
        "plt.plot(history.history['val_acc'])\n",
        "plt.title('Model accuracy')\n",
        "plt.ylabel('Accuracy')\n",
        "plt.xlabel('Epoch')\n",
        "plt.legend(['Train', 'Test'], loc='upper left')\n",
        "plt.show()"
      ],
      "execution_count": 44,
      "outputs": [
        {
          "output_type": "display_data",
          "data": {
            "image/png": "[encoded data removed]",
            "text/plain": [
              "<Figure size 432x288 with 1 Axes>"
            ]
          },
          "metadata": {
            "tags": []
          }
        }
      ]
    },
    {
      "cell_type": "code",
      "metadata": {
        "id": "98T85eYcfgU5",
        "colab_type": "code",
        "outputId": "429308cf-ffa0-4706-ffec-a68577908499",
        "colab": {
          "base_uri": "https://localhost:8080/",
          "height": 295
        }
      },
      "source": [
        "# Plot training & validation loss values\n",
        "plt.plot(history.history['loss'])\n",
        "plt.plot(history.history['val_loss'])\n",
        "plt.title('Model loss')\n",
        "plt.ylabel('Loss')\n",
        "plt.xlabel('Epoch')\n",
        "plt.legend(['Train', 'Test'], loc='upper left')\n",
        "plt.show()"
      ],
      "execution_count": 45,
      "outputs": [
        {
          "output_type": "display_data",
          "data": {
            "image/png": "[encoded data removed]",
            "text/plain": [
              "<Figure size 432x288 with 1 Axes>"
            ]
          },
          "metadata": {
            "tags": []
          }
        }
      ]
    },
    {
      "cell_type": "code",
      "metadata": {
        "id": "8W-fL22VmKXG",
        "colab_type": "code",
        "colab": {}
      },
      "source": [
        "from sklearn.metrics import classification_report, confusion_matrix\n"
      ],
      "execution_count": 0,
      "outputs": []
    },
    {
      "cell_type": "code",
      "metadata": {
        "id": "YITgVi40MX5t",
        "colab_type": "code",
        "outputId": "f79e4223-2a22-4771-9565-42e2c457dc5d",
        "colab": {
          "base_uri": "https://localhost:8080/",
          "height": 51
        }
      },
      "source": [
        "conv_model.evaluate(test_x,test_y)"
      ],
      "execution_count": 47,
      "outputs": [
        {
          "output_type": "stream",
          "text": [
            "196608/196608 [==============================] - 16s 80us/sample - loss: 0.4547 - acc: 0.8395\n"
          ],
          "name": "stdout"
        },
        {
          "output_type": "execute_result",
          "data": {
            "text/plain": [
              "[0.4547386578572817, 0.8394623]"
            ]
          },
          "metadata": {
            "tags": []
          },
          "execution_count": 47
        }
      ]
    },
    {
      "cell_type": "code",
      "metadata": {
        "id": "tZTigMT-fpcc",
        "colab_type": "code",
        "colab": {}
      },
      "source": [
        "import pandas as pd\n",
        "import seaborn as sns\n",
        "def print_confusion_matrix(confusion_matrix, class_names, figsize = (10,7), fontsize=14):\n",
        "\n",
        "    df_cm = pd.DataFrame(\n",
        "        confusion_matrix, index=class_names, columns=class_names, \n",
        "    )\n",
        "    fig = plt.figure(figsize=figsize)\n",
        "    try:\n",
        "        heatmap = sns.heatmap(df_cm, annot=True, fmt=\"d\")\n",
        "    except ValueError:\n",
        "        raise ValueError(\"Confusion matrix values must be integers.\")\n",
        "    heatmap.yaxis.set_ticklabels(heatmap.yaxis.get_ticklabels(), rotation=0, ha='right', fontsize=fontsize)\n",
        "    heatmap.xaxis.set_ticklabels(heatmap.xaxis.get_ticklabels(), rotation=45, ha='right', fontsize=fontsize)\n",
        "    plt.ylabel('True label')\n",
        "    plt.xlabel('Predicted label')\n",
        "    return fig"
      ],
      "execution_count": 0,
      "outputs": []
    },
    {
      "cell_type": "code",
      "metadata": {
        "id": "35tESca0tJkg",
        "colab_type": "code",
        "colab": {}
      },
      "source": [
        "y_pred=conv_model.predict(test_x)"
      ],
      "execution_count": 0,
      "outputs": []
    },
    {
      "cell_type": "code",
      "metadata": {
        "id": "kZm4r32mCLKb",
        "colab_type": "code",
        "colab": {}
      },
      "source": [
        "matrix = confusion_matrix(test_y.argmax(axis=1), y_pred.argmax(axis=1))\n"
      ],
      "execution_count": 0,
      "outputs": []
    },
    {
      "cell_type": "code",
      "metadata": {
        "id": "Crh7S1oZbzgH",
        "colab_type": "code",
        "outputId": "07d1d063-197f-4942-ce3f-38b073c79753",
        "colab": {
          "base_uri": "https://localhost:8080/",
          "height": 510
        }
      },
      "source": [
        "print(print_confusion_matrix(matrix,['VERT900','VERT2450','ANT500']))"
      ],
      "execution_count": 51,
      "outputs": [
        {
          "output_type": "stream",
          "text": [
            "Figure(720x504)\n"
          ],
          "name": "stdout"
        },
        {
          "output_type": "display_data",
          "data": {
            "image/png": "[encoded data removed]",
            "text/plain": [
              "<Figure size 720x504 with 2 Axes>"
            ]
          },
          "metadata": {
            "tags": []
          }
        }
      ]
    },
    {
      "cell_type": "code",
      "metadata": {
        "id": "QfWQ7mGuQzIJ",
        "colab_type": "code",
        "colab": {}
      },
      "source": [
        ""
      ],
      "execution_count": 0,
      "outputs": []
    }
  ]
}