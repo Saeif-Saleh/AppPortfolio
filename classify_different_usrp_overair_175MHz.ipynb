{
  "nbformat": 4,
  "nbformat_minor": 0,
  "metadata": {
    "colab": {
      "name": " classify_different_usrp_overair_175MHz.ipynb",
      "provenance": [],
      "toc_visible": true,
      "machine_shape": "hm",
      "mount_file_id": "1BkQm90R3ITHRgCeOl6icGChg7-ppUp3e",
      "authorship_tag": "ABX9TyNU3MofAIyUIm9m/YU6dWNi",
      "include_colab_link": true
    },
    "kernelspec": {
      "name": "python3",
      "display_name": "Python 3"
    },
    "accelerator": "GPU"
  },
  "cells": [
    {
      "cell_type": "markdown",
      "metadata": {
        "id": "view-in-github",
        "colab_type": "text"
      },
      "source": [
        "<a href=\"https://colab.research.google.com/github/Saeif-Saleh/AppPortfolio/blob/master/classify_different_usrp_overair_175MHz.ipynb\" target=\"_parent\"><img src=\"https://colab.research.google.com/assets/colab-badge.svg\" alt=\"Open In Colab\"/></a>"
      ]
    },
    {
      "cell_type": "code",
      "metadata": {
        "id": "ryuxsVZ1HN13",
        "colab_type": "code",
        "outputId": "36188b57-416f-4702-e2c4-47880a7de6a2",
        "colab": {
          "base_uri": "https://localhost:8080/",
          "height": 306
        }
      },
      "source": [
        "!nvidia-smi\n",
        "# !pip install --upgrade tensorflow"
      ],
      "execution_count": 1,
      "outputs": [
        {
          "output_type": "stream",
          "text": [
            "Fri Mar  6 01:40:48 2020       \n",
            "+-----------------------------------------------------------------------------+\n",
            "| NVIDIA-SMI 440.59       Driver Version: 418.67       CUDA Version: 10.1     |\n",
            "|-------------------------------+----------------------+----------------------+\n",
            "| GPU  Name        Persistence-M| Bus-Id        Disp.A | Volatile Uncorr. ECC |\n",
            "| Fan  Temp  Perf  Pwr:Usage/Cap|         Memory-Usage | GPU-Util  Compute M. |\n",
            "|===============================+======================+======================|\n",
            "|   0  Tesla P100-PCIE...  Off  | 00000000:00:04.0 Off |                    0 |\n",
            "| N/A   40C    P0    28W / 250W |      0MiB / 16280MiB |      0%      Default |\n",
            "+-------------------------------+----------------------+----------------------+\n",
            "                                                                               \n",
            "+-----------------------------------------------------------------------------+\n",
            "| Processes:                                                       GPU Memory |\n",
            "|  GPU       PID   Type   Process name                             Usage      |\n",
            "|=============================================================================|\n",
            "|  No running processes found                                                 |\n",
            "+-----------------------------------------------------------------------------+\n"
          ],
          "name": "stdout"
        }
      ]
    },
    {
      "cell_type": "code",
      "metadata": {
        "id": "srGmbh3UH-9C",
        "colab_type": "code",
        "colab": {}
      },
      "source": [
        "import scipy.io\n",
        "import numpy as np"
      ],
      "execution_count": 0,
      "outputs": []
    },
    {
      "cell_type": "code",
      "metadata": {
        "id": "pmAM90B7IEtp",
        "colab_type": "code",
        "colab": {}
      },
      "source": [
        "matlab_data=scipy.io.loadmat('/content/drive/My Drive/thesis_data/Usrps_in_175.mat')"
      ],
      "execution_count": 0,
      "outputs": []
    },
    {
      "cell_type": "code",
      "metadata": {
        "id": "rDhGQ3vQIKHo",
        "colab_type": "code",
        "outputId": "f98a2a18-5138-4a2b-daa6-6a82c4496d26",
        "colab": {
          "base_uri": "https://localhost:8080/",
          "height": 34
        }
      },
      "source": [
        "print(list(matlab_data.keys())[3:])"
      ],
      "execution_count": 4,
      "outputs": [
        {
          "output_type": "stream",
          "text": [
            "['R2_T3_test', 'R2_T3_train', 'R2_T4_test', 'R2_T4_train', 'R2_T5_test', 'T5_train']\n"
          ],
          "name": "stdout"
        }
      ]
    },
    {
      "cell_type": "code",
      "metadata": {
        "id": "SHD8OGE6IP2x",
        "colab_type": "code",
        "colab": {}
      },
      "source": [
        "usrp3_train=matlab_data['R2_T3_train']\n",
        "usrp4_train=matlab_data['R2_T4_train']\n",
        "usrp5_train=matlab_data['T5_train']"
      ],
      "execution_count": 0,
      "outputs": []
    },
    {
      "cell_type": "code",
      "metadata": {
        "id": "i5-KtwnvIgRx",
        "colab_type": "code",
        "outputId": "d8e5d4cc-fa1c-49c9-8528-0afcd9650800",
        "colab": {
          "base_uri": "https://localhost:8080/",
          "height": 68
        }
      },
      "source": [
        "print(usrp3_train.shape)\n",
        "print(usrp4_train.shape)\n",
        "print(usrp5_train.shape)"
      ],
      "execution_count": 6,
      "outputs": [
        {
          "output_type": "stream",
          "text": [
            "(42227312, 2)\n",
            "(44468039, 2)\n",
            "(47525497, 2)\n"
          ],
          "name": "stdout"
        }
      ]
    },
    {
      "cell_type": "code",
      "metadata": {
        "id": "wCtzuPBLp1Yl",
        "colab_type": "code",
        "colab": {}
      },
      "source": [
        "# usrp3_train=usrp3_train.reshape(-1,2)\n",
        "# usrp4_train=usrp4_train.reshape(-1,2)\n",
        "# usrp5_train=usrp5_train.reshape(-1,2)\n",
        "# print(usrp3_train.shape)\n",
        "# print(usrp4_train.shape)\n",
        "# print(usrp5_train.shape)"
      ],
      "execution_count": 0,
      "outputs": []
    },
    {
      "cell_type": "code",
      "metadata": {
        "id": "GQ8asRi5IjJR",
        "colab_type": "code",
        "colab": {}
      },
      "source": [
        "usrp3_test=matlab_data['R2_T3_test']\n",
        "usrp4_test=matlab_data['R2_T4_test']\n",
        "usrp5_test=matlab_data['R2_T5_test']"
      ],
      "execution_count": 0,
      "outputs": []
    },
    {
      "cell_type": "code",
      "metadata": {
        "id": "V_0Ps642I0c3",
        "colab_type": "code",
        "outputId": "324b651c-88ca-43a5-e7d1-5a9888bc30d8",
        "colab": {
          "base_uri": "https://localhost:8080/",
          "height": 68
        }
      },
      "source": [
        "print(usrp5_test.shape)\n",
        "print(usrp4_test.shape)\n",
        "print(usrp3_test.shape)"
      ],
      "execution_count": 9,
      "outputs": [
        {
          "output_type": "stream",
          "text": [
            "(14201866, 2)\n",
            "(15826335, 2)\n",
            "(15493411, 2)\n"
          ],
          "name": "stdout"
        }
      ]
    },
    {
      "cell_type": "code",
      "metadata": {
        "id": "tYs5aVZeI4uZ",
        "colab_type": "code",
        "colab": {}
      },
      "source": [
        "usrp3_train=usrp3_train[1000000:17777216]\n",
        "usrp4_train=usrp4_train[1000000:17777216]\n",
        "usrp5_train=usrp5_train[1000000:17777216]"
      ],
      "execution_count": 0,
      "outputs": []
    },
    {
      "cell_type": "code",
      "metadata": {
        "id": "qwtbTMT7JYTp",
        "colab_type": "code",
        "colab": {}
      },
      "source": [
        "usrp3_test=usrp3_test[1000000:5194304]\n",
        "usrp4_test=usrp4_test[1000000:5194304]\n",
        "usrp5_test=usrp5_test[1000000:5194304]"
      ],
      "execution_count": 0,
      "outputs": []
    },
    {
      "cell_type": "code",
      "metadata": {
        "id": "Y1F_-SdZJgqR",
        "colab_type": "code",
        "outputId": "37694ada-5d88-4018-8df7-d03991be0131",
        "colab": {
          "base_uri": "https://localhost:8080/",
          "height": 51
        }
      },
      "source": [
        "train_x=np.concatenate((usrp3_train,usrp4_train,usrp5_train),axis=0)\n",
        "test_x=np.concatenate((usrp3_test,usrp4_test,usrp5_test),axis=0)\n",
        "print(train_x.shape)\n",
        "print(test_x.shape)\n"
      ],
      "execution_count": 12,
      "outputs": [
        {
          "output_type": "stream",
          "text": [
            "(50331648, 2)\n",
            "(12582912, 2)\n"
          ],
          "name": "stdout"
        }
      ]
    },
    {
      "cell_type": "code",
      "metadata": {
        "id": "_n9LUgJ2JkOI",
        "colab_type": "code",
        "outputId": "d39ed27e-6660-4a6e-8598-5ea0875df97f",
        "colab": {
          "base_uri": "https://localhost:8080/",
          "height": 63
        }
      },
      "source": [
        "import tensorflow as tf\n",
        "from tensorflow import keras\n",
        "from tensorflow.keras import layers"
      ],
      "execution_count": 13,
      "outputs": [
        {
          "output_type": "display_data",
          "data": {
            "text/html": [
              "<p style=\"color: red;\">\n",
              "The default version of TensorFlow in Colab will soon switch to TensorFlow 2.x.<br>\n",
              "We recommend you <a href=\"https://www.tensorflow.org/guide/migrate\" target=\"_blank\">upgrade</a> now \n",
              "or ensure your notebook will continue to use TensorFlow 1.x via the <code>%tensorflow_version 1.x</code> magic:\n",
              "<a href=\"https://colab.research.google.com/notebooks/tensorflow_version.ipynb\" target=\"_blank\">more info</a>.</p>\n"
            ],
            "text/plain": [
              "<IPython.core.display.HTML object>"
            ]
          },
          "metadata": {
            "tags": []
          }
        }
      ]
    },
    {
      "cell_type": "code",
      "metadata": {
        "id": "q2Wl_D1cJwkQ",
        "colab_type": "code",
        "colab": {}
      },
      "source": [
        "n_classes=3\n",
        "sample_size=128"
      ],
      "execution_count": 0,
      "outputs": []
    },
    {
      "cell_type": "code",
      "metadata": {
        "id": "JB_J3X8pJxdA",
        "colab_type": "code",
        "colab": {}
      },
      "source": [
        "train_x=train_x.reshape(-1,2,sample_size)\n",
        "test_x=test_x.reshape(-1,2,sample_size)"
      ],
      "execution_count": 0,
      "outputs": []
    },
    {
      "cell_type": "code",
      "metadata": {
        "id": "4ClQ42wLJybe",
        "colab_type": "code",
        "outputId": "d30f9863-0aea-4db7-d500-1ac70699aca7",
        "colab": {
          "base_uri": "https://localhost:8080/",
          "height": 34
        }
      },
      "source": [
        "#Creating train_y\n",
        "train_y=np.zeros(len(train_x))\n",
        "seprator=int(len(train_y)/n_classes)\n",
        "print(seprator)\n",
        "train_y[0:seprator]=0\n",
        "train_y[seprator:2*seprator]=1\n",
        "train_y[2*seprator:]=2\n",
        "# Creating test_y\n",
        "test_y=np.zeros(len(test_x))\n",
        "seprator=int(len(test_y)/n_classes)\n",
        "test_y[0:seprator]=0\n",
        "test_y[seprator:2*seprator]=1\n",
        "test_y[2*seprator:]=2\n"
      ],
      "execution_count": 16,
      "outputs": [
        {
          "output_type": "stream",
          "text": [
            "131072\n"
          ],
          "name": "stdout"
        }
      ]
    },
    {
      "cell_type": "code",
      "metadata": {
        "id": "eFrSfh-UJ35g",
        "colab_type": "code",
        "colab": {}
      },
      "source": [
        "train_y=tf.keras.utils.to_categorical(\n",
        "    train_y,\n",
        "    num_classes=n_classes,\n",
        "    dtype='float32'\n",
        ")\n",
        "test_y=tf.keras.utils.to_categorical(\n",
        "    test_y,\n",
        "    num_classes=n_classes,\n",
        "    dtype='float32'\n",
        ")"
      ],
      "execution_count": 0,
      "outputs": []
    },
    {
      "cell_type": "code",
      "metadata": {
        "id": "bJylsv9AJ6SZ",
        "colab_type": "code",
        "outputId": "d9a8fcaa-6d7b-4619-f043-8c825d6740ad",
        "colab": {
          "base_uri": "https://localhost:8080/",
          "height": 51
        }
      },
      "source": [
        "print(train_x.shape)\n",
        "print(train_y.shape)"
      ],
      "execution_count": 18,
      "outputs": [
        {
          "output_type": "stream",
          "text": [
            "(393216, 2, 128)\n",
            "(393216, 3)\n"
          ],
          "name": "stdout"
        }
      ]
    },
    {
      "cell_type": "code",
      "metadata": {
        "id": "30V3cs0nK6hZ",
        "colab_type": "code",
        "colab": {}
      },
      "source": [
        "from sklearn.model_selection import train_test_split\n",
        "train_x, valid_x, train_y, valid_y = train_test_split(train_x, train_y, test_size=0.20, shuffle= True)\n"
      ],
      "execution_count": 0,
      "outputs": []
    },
    {
      "cell_type": "code",
      "metadata": {
        "id": "mSehzUEygF0b",
        "colab_type": "code",
        "colab": {}
      },
      "source": [
        "img_rows=sample_size\n",
        "img_cols=2\n",
        "train_x = train_x.reshape(-1, img_rows, img_cols, 1)\n",
        "valid_x = valid_x.reshape(-1, img_rows, img_cols, 1)\n",
        "test_x=test_x.reshape(-1,img_rows,img_cols,1)\n",
        "input_shape = (img_rows, img_cols, 1)"
      ],
      "execution_count": 0,
      "outputs": []
    },
    {
      "cell_type": "code",
      "metadata": {
        "id": "70sRjREjAMwY",
        "colab_type": "code",
        "outputId": "6dd7d7ba-5bc6-469b-c926-f4593aa9eaa1",
        "colab": {
          "base_uri": "https://localhost:8080/",
          "height": 51
        }
      },
      "source": [
        "print(len(train_x))\n",
        "print(len(valid_x))"
      ],
      "execution_count": 21,
      "outputs": [
        {
          "output_type": "stream",
          "text": [
            "314572\n",
            "78644\n"
          ],
          "name": "stdout"
        }
      ]
    },
    {
      "cell_type": "code",
      "metadata": {
        "id": "VUHFjkfNJ9wp",
        "colab_type": "code",
        "outputId": "1e11e41a-bcb3-4a63-963e-713ddfd1e8b7",
        "colab": {
          "base_uri": "https://localhost:8080/",
          "height": 34
        }
      },
      "source": [
        "train_x.shape"
      ],
      "execution_count": 22,
      "outputs": [
        {
          "output_type": "execute_result",
          "data": {
            "text/plain": [
              "(314572, 128, 2, 1)"
            ]
          },
          "metadata": {
            "tags": []
          },
          "execution_count": 22
        }
      ]
    },
    {
      "cell_type": "code",
      "metadata": {
        "id": "ig3xNeOyU5Jf",
        "colab_type": "code",
        "colab": {}
      },
      "source": [
        "def create_model():\n",
        "  model = tf.keras.models.Sequential()\n",
        "  model.add(tf.keras.layers.BatchNormalization(input_shape=input_shape))\n",
        "  model.add(tf.keras.layers.Conv2D(64, (1, 2), padding='same', activation='elu'))\n",
        "\n",
        "  model.add(tf.keras.layers.Dropout(0.25))\n",
        "\n",
        "  model.add(tf.keras.layers.BatchNormalization(input_shape=input_shape))\n",
        "  model.add(tf.keras.layers.Conv2D(128, (1, 2), padding='same', activation='elu'))\n",
        "\n",
        "  model.add(tf.keras.layers.Dropout(0.25))\n",
        "\n",
        "  model.add(tf.keras.layers.BatchNormalization(input_shape=input_shape))\n",
        "  model.add(tf.keras.layers.Conv2D(256, (1, 2), padding='same', activation='elu'))\n",
        "\n",
        "  model.add(tf.keras.layers.Dropout(0.25))\n",
        "\n",
        "  model.add(tf.keras.layers.Flatten())\n",
        "  model.add(tf.keras.layers.Dense(256))\n",
        "  model.add(tf.keras.layers.Activation('elu'))\n",
        "  model.add(tf.keras.layers.Dropout(0.5))\n",
        "  model.add(tf.keras.layers.Dense(3))\n",
        "  model.add(tf.keras.layers.Activation('softmax'))\n",
        "  return model"
      ],
      "execution_count": 0,
      "outputs": []
    },
    {
      "cell_type": "code",
      "metadata": {
        "id": "oGOT5fQM83XM",
        "colab_type": "code",
        "outputId": "e3ecc0e4-8d59-45e3-e775-cdca922df016",
        "colab": {
          "base_uri": "https://localhost:8080/",
          "height": 445
        }
      },
      "source": [
        "conv_model=create_model()\n",
        "conv_model.compile(loss='categorical_crossentropy', optimizer='adam', metrics=['accuracy'])\n",
        "# Fit the model\n",
        "history=conv_model.fit(train_x, train_y, validation_data=(valid_x,valid_y), epochs=10)"
      ],
      "execution_count": 24,
      "outputs": [
        {
          "output_type": "stream",
          "text": [
            "WARNING:tensorflow:From /usr/local/lib/python3.6/dist-packages/tensorflow_core/python/ops/resource_variable_ops.py:1630: calling BaseResourceVariable.__init__ (from tensorflow.python.ops.resource_variable_ops) with constraint is deprecated and will be removed in a future version.\n",
            "Instructions for updating:\n",
            "If using Keras pass *_constraint arguments to layers.\n",
            "Train on 314572 samples, validate on 78644 samples\n",
            "Epoch 1/10\n",
            "314572/314572 [==============================] - 93s 296us/sample - loss: 0.2636 - acc: 0.9063 - val_loss: 0.3476 - val_acc: 0.9557\n",
            "Epoch 2/10\n",
            "314572/314572 [==============================] - 91s 289us/sample - loss: 0.0973 - acc: 0.9797 - val_loss: 0.0133 - val_acc: 0.9982\n",
            "Epoch 3/10\n",
            "314572/314572 [==============================] - 91s 291us/sample - loss: 0.0746 - acc: 0.9857 - val_loss: 0.0202 - val_acc: 0.9975\n",
            "Epoch 4/10\n",
            "314572/314572 [==============================] - 91s 290us/sample - loss: 0.0679 - acc: 0.9881 - val_loss: 0.0123 - val_acc: 0.9984\n",
            "Epoch 5/10\n",
            "314572/314572 [==============================] - 91s 288us/sample - loss: 0.0595 - acc: 0.9894 - val_loss: 0.0413 - val_acc: 0.9912\n",
            "Epoch 6/10\n",
            "314572/314572 [==============================] - 91s 288us/sample - loss: 0.0578 - acc: 0.9901 - val_loss: 0.0196 - val_acc: 0.9986\n",
            "Epoch 7/10\n",
            "314572/314572 [==============================] - 91s 289us/sample - loss: 0.0543 - acc: 0.9904 - val_loss: 0.4475 - val_acc: 0.9121\n",
            "Epoch 8/10\n",
            "314572/314572 [==============================] - 91s 289us/sample - loss: 0.0499 - acc: 0.9914 - val_loss: 0.0434 - val_acc: 0.9865\n",
            "Epoch 9/10\n",
            "314572/314572 [==============================] - 91s 288us/sample - loss: 0.0509 - acc: 0.9912 - val_loss: 0.1347 - val_acc: 0.9540\n",
            "Epoch 10/10\n",
            "314572/314572 [==============================] - 91s 290us/sample - loss: 0.0473 - acc: 0.9920 - val_loss: 0.0323 - val_acc: 0.9988\n"
          ],
          "name": "stdout"
        }
      ]
    },
    {
      "cell_type": "code",
      "metadata": {
        "id": "KxEOV7epgz4U",
        "colab_type": "code",
        "colab": {}
      },
      "source": [
        "from sklearn.utils import shuffle\n",
        "test_x,test_y=shuffle(test_x,test_y)"
      ],
      "execution_count": 0,
      "outputs": []
    },
    {
      "cell_type": "code",
      "metadata": {
        "id": "yxk3pAfbKKAQ",
        "colab_type": "code",
        "outputId": "58a6837c-b1ae-4eb4-b273-a493e9eb3012",
        "colab": {
          "base_uri": "https://localhost:8080/",
          "height": 51
        }
      },
      "source": [
        "conv_model.evaluate(test_x,test_y)"
      ],
      "execution_count": 26,
      "outputs": [
        {
          "output_type": "stream",
          "text": [
            "98304/98304 [==============================] - 9s 95us/sample - loss: 0.0375 - acc: 0.9926\n"
          ],
          "name": "stdout"
        },
        {
          "output_type": "execute_result",
          "data": {
            "text/plain": [
              "[0.037497711338047766, 0.9925639]"
            ]
          },
          "metadata": {
            "tags": []
          },
          "execution_count": 26
        }
      ]
    },
    {
      "cell_type": "code",
      "metadata": {
        "id": "jvTe9n6h5ZKr",
        "colab_type": "code",
        "colab": {}
      },
      "source": [
        "import pandas as pd\n",
        "import seaborn as sns\n",
        "import matplotlib.pyplot as plt\n",
        "\n",
        "def print_confusion_matrix(confusion_matrix, class_names, figsize = (10,7), fontsize=14):\n",
        "\n",
        "    df_cm = pd.DataFrame(\n",
        "        confusion_matrix, index=class_names, columns=class_names, \n",
        "    )\n",
        "    fig = plt.figure(figsize=figsize)\n",
        "    try:\n",
        "        heatmap = sns.heatmap(df_cm, annot=True, fmt=\"d\")\n",
        "    except ValueError:\n",
        "        raise ValueError(\"Confusion matrix values must be integers.\")\n",
        "    heatmap.yaxis.set_ticklabels(heatmap.yaxis.get_ticklabels(), rotation=0, ha='right', fontsize=fontsize)\n",
        "    heatmap.xaxis.set_ticklabels(heatmap.xaxis.get_ticklabels(), rotation=45, ha='right', fontsize=fontsize)\n",
        "    plt.ylabel('True label')\n",
        "    plt.xlabel('Predicted label')"
      ],
      "execution_count": 0,
      "outputs": []
    },
    {
      "cell_type": "code",
      "metadata": {
        "id": "cCtggfHUJFz9",
        "colab_type": "code",
        "colab": {}
      },
      "source": [
        "from sklearn.metrics import classification_report, confusion_matrix"
      ],
      "execution_count": 0,
      "outputs": []
    },
    {
      "cell_type": "code",
      "metadata": {
        "id": "WtIiQJk0QF6H",
        "colab_type": "code",
        "colab": {}
      },
      "source": [
        "y_pred=conv_model.predict(test_x)"
      ],
      "execution_count": 0,
      "outputs": []
    },
    {
      "cell_type": "code",
      "metadata": {
        "id": "OEedv-_Yx9uN",
        "colab_type": "code",
        "colab": {}
      },
      "source": [
        "matrix = confusion_matrix(test_y.argmax(axis=1), y_pred.argmax(axis=1))"
      ],
      "execution_count": 0,
      "outputs": []
    },
    {
      "cell_type": "code",
      "metadata": {
        "id": "TxnsfpTTyJBj",
        "colab_type": "code",
        "outputId": "9340db7a-03e7-4500-c3e4-8ba300758a56",
        "colab": {
          "base_uri": "https://localhost:8080/",
          "height": 492
        }
      },
      "source": [
        "print(print_confusion_matrix(matrix,['USRP1','USRP2','USRP3']))"
      ],
      "execution_count": 31,
      "outputs": [
        {
          "output_type": "stream",
          "text": [
            "None\n"
          ],
          "name": "stdout"
        },
        {
          "output_type": "display_data",
          "data": {
            "image/png": "[encoded data removed]",
            "text/plain": [
              "<Figure size 720x504 with 2 Axes>"
            ]
          },
          "metadata": {
            "tags": []
          }
        }
      ]
    },
    {
      "cell_type": "code",
      "metadata": {
        "id": "DI8UY_4yCreM",
        "colab_type": "code",
        "colab": {}
      },
      "source": [
        ""
      ],
      "execution_count": 0,
      "outputs": []
    }
  ]
}