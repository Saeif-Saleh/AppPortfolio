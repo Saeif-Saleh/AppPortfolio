{
  "nbformat": 4,
  "nbformat_minor": 0,
  "metadata": {
    "colab": {
      "name": "Classify_different_antennas_2450_175_v4.ipynb",
      "provenance": [],
      "toc_visible": true,
      "machine_shape": "hm",
      "mount_file_id": "1sEuS_Sk-XFnZbSzY0cBC8KLS6LPB_-CT",
      "authorship_tag": "ABX9TyNbI7lpRo6YpLn1OK26Wh+J",
      "include_colab_link": true
    },
    "kernelspec": {
      "name": "python3",
      "display_name": "Python 3"
    },
    "accelerator": "GPU"
  },
  "cells": [
    {
      "cell_type": "markdown",
      "metadata": {
        "id": "view-in-github",
        "colab_type": "text"
      },
      "source": [
        "<a href=\"https://colab.research.google.com/github/Saeif-Saleh/AppPortfolio/blob/master/Classify_different_antennas_2450_175_v4.ipynb\" target=\"_parent\"><img src=\"https://colab.research.google.com/assets/colab-badge.svg\" alt=\"Open In Colab\"/></a>"
      ]
    },
    {
      "cell_type": "code",
      "metadata": {
        "id": "Rggh1H0Ok922",
        "colab_type": "code",
        "outputId": "4ddb4a5b-f033-4475-87ca-af046de79b97",
        "colab": {
          "base_uri": "https://localhost:8080/",
          "height": 289
        }
      },
      "source": [
        "!nvidia-smi\n",
        "# !pip install --upgrade tensorflow\n"
      ],
      "execution_count": 39,
      "outputs": [
        {
          "output_type": "stream",
          "text": [
            "Tue Mar  3 17:13:44 2020       \n",
            "+-----------------------------------------------------------------------------+\n",
            "| NVIDIA-SMI 440.48.02    Driver Version: 418.67       CUDA Version: 10.1     |\n",
            "|-------------------------------+----------------------+----------------------+\n",
            "| GPU  Name        Persistence-M| Bus-Id        Disp.A | Volatile Uncorr. ECC |\n",
            "| Fan  Temp  Perf  Pwr:Usage/Cap|         Memory-Usage | GPU-Util  Compute M. |\n",
            "|===============================+======================+======================|\n",
            "|   0  Tesla P100-PCIE...  Off  | 00000000:00:04.0 Off |                    0 |\n",
            "| N/A   46C    P0    33W / 250W |   3365MiB / 16280MiB |      0%      Default |\n",
            "+-------------------------------+----------------------+----------------------+\n",
            "                                                                               \n",
            "+-----------------------------------------------------------------------------+\n",
            "| Processes:                                                       GPU Memory |\n",
            "|  GPU       PID   Type   Process name                             Usage      |\n",
            "|=============================================================================|\n",
            "+-----------------------------------------------------------------------------+\n"
          ],
          "name": "stdout"
        }
      ]
    },
    {
      "cell_type": "code",
      "metadata": {
        "id": "4mLiQr6FlwAw",
        "colab_type": "code",
        "colab": {}
      },
      "source": [
        "import scipy.io\n",
        "import numpy as np"
      ],
      "execution_count": 0,
      "outputs": []
    },
    {
      "cell_type": "code",
      "metadata": {
        "id": "wjJErQpGl2dh",
        "colab_type": "code",
        "colab": {}
      },
      "source": [
        "matlab_data=scipy.io.loadmat('/content/drive/My Drive/thesis_data/R2450_175_4.mat')"
      ],
      "execution_count": 0,
      "outputs": []
    },
    {
      "cell_type": "code",
      "metadata": {
        "id": "t5zXRcErl-lg",
        "colab_type": "code",
        "outputId": "410908ce-5989-4474-9d53-293c2c02a344",
        "colab": {
          "base_uri": "https://localhost:8080/",
          "height": 34
        }
      },
      "source": [
        "print(list(matlab_data.keys())[3:])"
      ],
      "execution_count": 45,
      "outputs": [
        {
          "output_type": "stream",
          "text": [
            "['R2450_T2450_test', 'R2450_T2450_train', 'R2450_T500_test', 'R2450_T500_train', 'R2450_T900_test', 'R2450_T900_train', 'R2450_Tlime_test', 'R2450_Tlime_train']\n"
          ],
          "name": "stdout"
        }
      ]
    },
    {
      "cell_type": "code",
      "metadata": {
        "id": "ErDxJVc_mCX-",
        "colab_type": "code",
        "colab": {}
      },
      "source": [
        "train_900=matlab_data['R2450_T900_train']\n",
        "train_2450=matlab_data['R2450_T2450_train']\n",
        "train_500=matlab_data['R2450_T500_train']\n",
        "train_lime=matlab_data['R2450_Tlime_train']\n"
      ],
      "execution_count": 0,
      "outputs": []
    },
    {
      "cell_type": "code",
      "metadata": {
        "id": "gtybbgZsn-VF",
        "colab_type": "code",
        "outputId": "c6c79390-d79f-418d-f550-391def51ca24",
        "colab": {
          "base_uri": "https://localhost:8080/",
          "height": 68
        }
      },
      "source": [
        "print(train_900.shape)\n",
        "print(train_2450.shape)\n",
        "print(train_500.shape)"
      ],
      "execution_count": 48,
      "outputs": [
        {
          "output_type": "stream",
          "text": [
            "(80964360, 2)\n",
            "(81362077, 2)\n",
            "(79670780, 2)\n"
          ],
          "name": "stdout"
        }
      ]
    },
    {
      "cell_type": "code",
      "metadata": {
        "id": "FkcmqluJoOaS",
        "colab_type": "code",
        "colab": {}
      },
      "source": [
        "# test_900=matlab_data['R2450_T900_test']\n",
        "# test_2450=matlab_data['R2450_T2450_test']\n",
        "# test_500=matlab_data['R2450_T500_test']"
      ],
      "execution_count": 0,
      "outputs": []
    },
    {
      "cell_type": "code",
      "metadata": {
        "id": "oGlulEazoYhh",
        "colab_type": "code",
        "colab": {}
      },
      "source": [
        "# print(test_900.shape)\n",
        "# print(test_2450.shape)\n",
        "# print(test_500.shape)"
      ],
      "execution_count": 0,
      "outputs": []
    },
    {
      "cell_type": "code",
      "metadata": {
        "id": "F1Kr_u8u0v8n",
        "colab_type": "code",
        "outputId": "03325ffd-bc02-4b3e-fbae-0509136a4f66",
        "colab": {
          "base_uri": "https://localhost:8080/",
          "height": 68
        }
      },
      "source": [
        "print(train_900.shape)\n",
        "print(train_2450.shape)\n",
        "print(train_500.shape)"
      ],
      "execution_count": 9,
      "outputs": [
        {
          "output_type": "stream",
          "text": [
            "(71610571, 2)\n",
            "(71274850, 2)\n",
            "(66748034, 2)\n"
          ],
          "name": "stdout"
        }
      ]
    },
    {
      "cell_type": "code",
      "metadata": {
        "id": "QpzINBYLofEo",
        "colab_type": "code",
        "colab": {}
      },
      "source": [
        "#Slicing data to be divisible by 2**n \n",
        "# train_900=train_900[1000000:5194304]\n",
        "# train_2450=train_2450[1000000:5194304]\n",
        "# train_500=train_500[1000000:5194304]\n",
        "\n",
        "train_900=train_900[:41943040]\n",
        "train_2450=train_2450[:41943040]\n",
        "train_500=train_500[:41943040]\n",
        "train_lime=train_lime[:41943040]\n",
        "\n",
        "\n",
        "\n",
        "\n",
        "\n"
      ],
      "execution_count": 0,
      "outputs": []
    },
    {
      "cell_type": "code",
      "metadata": {
        "id": "HjLFd5czapbI",
        "colab_type": "code",
        "colab": {}
      },
      "source": [
        ""
      ],
      "execution_count": 0,
      "outputs": []
    },
    {
      "cell_type": "code",
      "metadata": {
        "id": "4fLypDHWqf0W",
        "colab_type": "code",
        "outputId": "db21d737-d140-482e-8075-50e5e97fca0d",
        "colab": {
          "base_uri": "https://localhost:8080/",
          "height": 34
        }
      },
      "source": [
        "#Concatenate training and test data\n",
        "train_x=np.concatenate((train_900,train_2450,train_500),axis=0)\n",
        "\n",
        "print(train_x.shape)\n",
        "\n"
      ],
      "execution_count": 50,
      "outputs": [
        {
          "output_type": "stream",
          "text": [
            "(125829120, 2)\n"
          ],
          "name": "stdout"
        }
      ]
    },
    {
      "cell_type": "code",
      "metadata": {
        "id": "wyOxPJ6Hbq1y",
        "colab_type": "code",
        "colab": {}
      },
      "source": [
        "# test_900=test_900[1000000:9388608]\n",
        "# test_2450=test_2450[1000000:9388608]\n",
        "# test_500=test_500[1000000:9388608]\n",
        "\n",
        "# test_x=np.concatenate((test_900,test_2450,test_500),axis=0)\n",
        "# print(test_x.shape)"
      ],
      "execution_count": 0,
      "outputs": []
    },
    {
      "cell_type": "code",
      "metadata": {
        "id": "Y_fu6zdXpVX5",
        "colab_type": "code",
        "colab": {}
      },
      "source": [
        "import tensorflow as tf\n",
        "from tensorflow import keras\n",
        "from tensorflow.keras import layers\n",
        "from keras import regularizers"
      ],
      "execution_count": 0,
      "outputs": []
    },
    {
      "cell_type": "code",
      "metadata": {
        "id": "oThxJdsGsOav",
        "colab_type": "code",
        "colab": {}
      },
      "source": [
        "n_classes=4\n",
        "sample_size=128"
      ],
      "execution_count": 0,
      "outputs": []
    },
    {
      "cell_type": "code",
      "metadata": {
        "id": "xWUqsrhqsCdT",
        "colab_type": "code",
        "colab": {}
      },
      "source": [
        "train_x=train_x.reshape(-1,2,sample_size)\n",
        "# test_x=test_x.reshape(-1,2,sample_size)"
      ],
      "execution_count": 0,
      "outputs": []
    },
    {
      "cell_type": "code",
      "metadata": {
        "id": "M3oOMomesUjH",
        "colab_type": "code",
        "colab": {}
      },
      "source": [
        "#Creating train_y\n",
        "train_y=np.zeros(len(train_x))\n",
        "seprator=int(len(train_y)/n_classes)\n",
        "train_y[0:seprator]=0\n",
        "train_y[seprator:2*seprator]=1\n",
        "train_y[2*seprator:3*seprator]=2\n",
        "train_y[3*seprator:]=3\n",
        "#Creating test_y\n",
        "# test_y=np.zeros(len(test_x))\n",
        "# seprator=int(len(test_y)/n_classes)\n",
        "# test_y[0:seprator]=0\n",
        "# test_y[seprator:2*seprator]=1\n",
        "# test_y[2*seprator:3*seprator]=2\n"
      ],
      "execution_count": 0,
      "outputs": []
    },
    {
      "cell_type": "code",
      "metadata": {
        "id": "wk-E6TRZhvE-",
        "colab_type": "code",
        "outputId": "67530a2d-5a38-41bf-9b80-1cbf59fe6238",
        "colab": {
          "base_uri": "https://localhost:8080/",
          "height": 51
        }
      },
      "source": [
        "print(train_x.shape)\n",
        "print(train_y.shape)"
      ],
      "execution_count": 55,
      "outputs": [
        {
          "output_type": "stream",
          "text": [
            "(983040, 2, 128)\n",
            "(983040,)\n"
          ],
          "name": "stdout"
        }
      ]
    },
    {
      "cell_type": "code",
      "metadata": {
        "id": "5PyB6URgsavB",
        "colab_type": "code",
        "colab": {}
      },
      "source": [
        "train_y=tf.keras.utils.to_categorical(\n",
        "    train_y,\n",
        "    num_classes=n_classes,\n",
        "    dtype='float32'\n",
        ")\n",
        "# test_y=tf.keras.utils.to_categorical(\n",
        "#     test_y,\n",
        "#     num_classes=n_classes,\n",
        "#     dtype='float32'\n",
        "# )"
      ],
      "execution_count": 0,
      "outputs": []
    },
    {
      "cell_type": "code",
      "metadata": {
        "id": "5X5zkY54oleA",
        "colab_type": "code",
        "outputId": "f2ac720f-866a-4011-e9eb-d8d2a10ead76",
        "colab": {
          "base_uri": "https://localhost:8080/",
          "height": 51
        }
      },
      "source": [
        "print(train_x.shape)\n",
        "print(train_y.shape)"
      ],
      "execution_count": 57,
      "outputs": [
        {
          "output_type": "stream",
          "text": [
            "(983040, 2, 128)\n",
            "(983040, 4)\n"
          ],
          "name": "stdout"
        }
      ]
    },
    {
      "cell_type": "code",
      "metadata": {
        "id": "y4T7ZE2lsdfw",
        "colab_type": "code",
        "colab": {}
      },
      "source": [
        "img_rows=sample_size\n",
        "img_cols=2\n",
        "train_x = train_x.reshape(-1, img_rows, img_cols, 1)\n",
        "# test_x=test_x.reshape(-1,img_rows,img_cols,1)\n",
        "input_shape = (img_rows, img_cols, 1)"
      ],
      "execution_count": 0,
      "outputs": []
    },
    {
      "cell_type": "code",
      "metadata": {
        "id": "wF8JqJule3QZ",
        "colab_type": "code",
        "outputId": "7b2f0d06-42ac-4322-bd52-96fa49aafa37",
        "colab": {
          "base_uri": "https://localhost:8080/",
          "height": 51
        }
      },
      "source": [
        "print(train_x.shape)\n",
        "print(train_y.shape)"
      ],
      "execution_count": 59,
      "outputs": [
        {
          "output_type": "stream",
          "text": [
            "(983040, 128, 2, 1)\n",
            "(983040, 4)\n"
          ],
          "name": "stdout"
        }
      ]
    },
    {
      "cell_type": "code",
      "metadata": {
        "id": "Ghu6plYElUTd",
        "colab_type": "code",
        "colab": {}
      },
      "source": [
        "from sklearn.model_selection import train_test_split\n",
        "train_x, test_x, train_y, test_y = train_test_split(train_x, train_y, test_size=0.25, shuffle= True)\n"
      ],
      "execution_count": 0,
      "outputs": []
    },
    {
      "cell_type": "code",
      "metadata": {
        "id": "wUTu0_4Hgprf",
        "colab_type": "code",
        "outputId": "f116c94d-63c3-4b82-ac5c-17f2656e28d2",
        "colab": {
          "base_uri": "https://localhost:8080/",
          "height": 34
        }
      },
      "source": [
        "train_x.shape"
      ],
      "execution_count": 61,
      "outputs": [
        {
          "output_type": "execute_result",
          "data": {
            "text/plain": [
              "(737280, 128, 2, 1)"
            ]
          },
          "metadata": {
            "tags": []
          },
          "execution_count": 61
        }
      ]
    },
    {
      "cell_type": "code",
      "metadata": {
        "id": "a2vGA8oIiAaF",
        "colab_type": "code",
        "outputId": "724e41cc-1e10-4054-accd-2855b7d59d15",
        "colab": {
          "base_uri": "https://localhost:8080/",
          "height": 34
        }
      },
      "source": [
        "test_x.shape"
      ],
      "execution_count": 62,
      "outputs": [
        {
          "output_type": "execute_result",
          "data": {
            "text/plain": [
              "(245760, 128, 2, 1)"
            ]
          },
          "metadata": {
            "tags": []
          },
          "execution_count": 62
        }
      ]
    },
    {
      "cell_type": "code",
      "metadata": {
        "id": "Cx_34Wv9gcLc",
        "colab_type": "code",
        "colab": {}
      },
      "source": [
        "train_x, valid_x, train_y,valid_y = train_test_split(train_x, train_y, test_size=0.20, shuffle= True)"
      ],
      "execution_count": 0,
      "outputs": []
    },
    {
      "cell_type": "code",
      "metadata": {
        "id": "Q1FZSWaWhNhn",
        "colab_type": "code",
        "outputId": "182cc5ab-b565-4608-cadb-be16bea2be34",
        "colab": {
          "base_uri": "https://localhost:8080/",
          "height": 119
        }
      },
      "source": [
        "print(train_x.shape)\n",
        "print(train_y.shape)\n",
        "print(valid_x.shape)\n",
        "print(valid_y.shape)\n",
        "print(test_x.shape)\n",
        "print(test_y.shape)"
      ],
      "execution_count": 64,
      "outputs": [
        {
          "output_type": "stream",
          "text": [
            "(589824, 128, 2, 1)\n",
            "(589824, 4)\n",
            "(147456, 128, 2, 1)\n",
            "(147456, 4)\n",
            "(245760, 128, 2, 1)\n",
            "(245760, 4)\n"
          ],
          "name": "stdout"
        }
      ]
    },
    {
      "cell_type": "code",
      "metadata": {
        "id": "oqsoFnhAIEAl",
        "colab_type": "code",
        "colab": {}
      },
      "source": [
        "def create_model():\n",
        "  model = tf.keras.models.Sequential()\n",
        "  model.add(tf.keras.layers.BatchNormalization(input_shape=input_shape))\n",
        "  model.add(tf.keras.layers.Conv2D(64, (1, 2), padding='same', activation='elu'))\n",
        "\n",
        "  model.add(tf.keras.layers.Dropout(0.25))\n",
        "\n",
        "  model.add(tf.keras.layers.BatchNormalization(input_shape=input_shape))\n",
        "  model.add(tf.keras.layers.Conv2D(128, (1, 2), padding='same', activation='elu'))\n",
        "\n",
        "  model.add(tf.keras.layers.Dropout(0.25))\n",
        "\n",
        "  model.add(tf.keras.layers.BatchNormalization(input_shape=input_shape))\n",
        "  model.add(tf.keras.layers.Conv2D(256, (1, 2), padding='same', activation='elu'))\n",
        "\n",
        "  model.add(tf.keras.layers.Dropout(0.25))\n",
        "\n",
        "  model.add(tf.keras.layers.Flatten())\n",
        "  model.add(tf.keras.layers.Dense(256))\n",
        "  model.add(tf.keras.layers.Activation('elu'))\n",
        "  model.add(tf.keras.layers.Dropout(0.5))\n",
        "  model.add(tf.keras.layers.Dense(4))\n",
        "  model.add(tf.keras.layers.Activation('softmax'))\n",
        "  return model"
      ],
      "execution_count": 0,
      "outputs": []
    },
    {
      "cell_type": "code",
      "metadata": {
        "id": "PFydwibriLcd",
        "colab_type": "code",
        "outputId": "2bf269d5-2847-45cd-9d2b-8a71d6d54836",
        "colab": {
          "base_uri": "https://localhost:8080/",
          "height": 680
        }
      },
      "source": [
        "conv_model=create_model()\n",
        "conv_model.compile(loss='categorical_crossentropy', optimizer='adam', metrics=['accuracy'])\n",
        "# Fit the model\n",
        "history=conv_model.fit(train_x, train_y, validation_data=(valid_x,valid_y), epochs=50)"
      ],
      "execution_count": 69,
      "outputs": [
        {
          "output_type": "stream",
          "text": [
            "Train on 589824 samples, validate on 147456 samples\n",
            "Epoch 1/50\n",
            "589824/589824 [==============================] - 185s 314us/sample - loss: 1.2760 - acc: 0.3911 - val_loss: 1.2074 - val_acc: 0.4392\n",
            "Epoch 2/50\n",
            "589824/589824 [==============================] - 184s 312us/sample - loss: 1.2374 - acc: 0.4064 - val_loss: 1.2117 - val_acc: 0.4378\n",
            "Epoch 3/50\n",
            "589824/589824 [==============================] - 184s 312us/sample - loss: 0.7216 - acc: 0.6792 - val_loss: 0.4573 - val_acc: 0.8005\n",
            "Epoch 4/50\n",
            "589824/589824 [==============================] - 185s 313us/sample - loss: 0.5550 - acc: 0.7585 - val_loss: 0.4732 - val_acc: 0.8039\n",
            "Epoch 5/50\n",
            "589824/589824 [==============================] - 184s 312us/sample - loss: 0.5407 - acc: 0.7647 - val_loss: 0.5305 - val_acc: 0.7872\n",
            "Epoch 6/50\n",
            "589824/589824 [==============================] - 183s 310us/sample - loss: 0.5316 - acc: 0.7681 - val_loss: 0.5329 - val_acc: 0.7988\n",
            "Epoch 7/50\n",
            "589824/589824 [==============================] - 183s 310us/sample - loss: 0.5235 - acc: 0.7712 - val_loss: 0.5238 - val_acc: 0.7750\n",
            "Epoch 8/50\n",
            "589824/589824 [==============================] - 184s 312us/sample - loss: 0.5181 - acc: 0.7738 - val_loss: 0.4992 - val_acc: 0.8090\n",
            "Epoch 9/50\n",
            "589824/589824 [==============================] - 185s 314us/sample - loss: 0.5130 - acc: 0.7757 - val_loss: 0.5066 - val_acc: 0.8147\n",
            "Epoch 10/50\n",
            "589824/589824 [==============================] - 185s 314us/sample - loss: 0.5074 - acc: 0.7778 - val_loss: 0.5647 - val_acc: 0.7749\n",
            "Epoch 11/50\n",
            "589824/589824 [==============================] - 184s 312us/sample - loss: 0.5050 - acc: 0.7793 - val_loss: 0.5736 - val_acc: 0.8026\n",
            "Epoch 12/50\n",
            "589824/589824 [==============================] - 184s 312us/sample - loss: 0.5045 - acc: 0.7792 - val_loss: 0.5434 - val_acc: 0.8168\n",
            "Epoch 13/50\n",
            "589824/589824 [==============================] - 198s 336us/sample - loss: 0.5017 - acc: 0.7806 - val_loss: 0.5625 - val_acc: 0.8028\n",
            "Epoch 14/50\n",
            "589824/589824 [==============================] - 202s 342us/sample - loss: 0.5014 - acc: 0.7812 - val_loss: 0.6236 - val_acc: 0.7917\n",
            "Epoch 15/50\n",
            "589824/589824 [==============================] - 184s 311us/sample - loss: 0.5000 - acc: 0.7823 - val_loss: 0.5054 - val_acc: 0.8073\n",
            "Epoch 16/50\n",
            "589824/589824 [==============================] - 184s 312us/sample - loss: 0.4983 - acc: 0.7834 - val_loss: 0.5142 - val_acc: 0.8036\n",
            "Epoch 17/50\n",
            "589824/589824 [==============================] - 183s 310us/sample - loss: 0.4974 - acc: 0.7840 - val_loss: 0.4848 - val_acc: 0.8173\n",
            "Epoch 18/50\n",
            "589824/589824 [==============================] - 182s 309us/sample - loss: 0.4929 - acc: 0.7875 - val_loss: 0.6335 - val_acc: 0.7592\n",
            "Epoch 19/50\n",
            "430368/589824 [====================>.........] - ETA: 44s - loss: 0.4880 - acc: 0.7907Buffered data was truncated after reaching the output size limit."
          ],
          "name": "stdout"
        }
      ]
    },
    {
      "cell_type": "code",
      "metadata": {
        "id": "_sFnZnM7fcKs",
        "colab_type": "code",
        "colab": {
          "base_uri": "https://localhost:8080/",
          "height": 295
        },
        "outputId": "0ac37950-802d-4379-e07b-b02212a9632b"
      },
      "source": [
        "import matplotlib.pyplot as plt\n",
        "plt.plot(history.history['acc'])\n",
        "plt.plot(history.history['val_acc'])\n",
        "plt.title('Model accuracy')\n",
        "plt.ylabel('Accuracy')\n",
        "plt.xlabel('Epoch')\n",
        "plt.legend(['Train', 'Test'], loc='upper left')\n",
        "plt.show()"
      ],
      "execution_count": 70,
      "outputs": [
        {
          "output_type": "display_data",
          "data": {
            "image/png": "[encoded data removed]",
            "text/plain": [
              "<Figure size 432x288 with 1 Axes>"
            ]
          },
          "metadata": {
            "tags": []
          }
        }
      ]
    },
    {
      "cell_type": "code",
      "metadata": {
        "id": "98T85eYcfgU5",
        "colab_type": "code",
        "colab": {
          "base_uri": "https://localhost:8080/",
          "height": 295
        },
        "outputId": "b6ead03b-25ff-4fcf-a853-b5b562a2235f"
      },
      "source": [
        "# Plot training & validation loss values\n",
        "plt.plot(history.history['loss'])\n",
        "plt.plot(history.history['val_loss'])\n",
        "plt.title('Model loss')\n",
        "plt.ylabel('Loss')\n",
        "plt.xlabel('Epoch')\n",
        "plt.legend(['Train', 'Test'], loc='upper left')\n",
        "plt.show()"
      ],
      "execution_count": 71,
      "outputs": [
        {
          "output_type": "display_data",
          "data": {
            "image/png": "[encoded data removed]",
            "text/plain": [
              "<Figure size 432x288 with 1 Axes>"
            ]
          },
          "metadata": {
            "tags": []
          }
        }
      ]
    },
    {
      "cell_type": "code",
      "metadata": {
        "id": "8W-fL22VmKXG",
        "colab_type": "code",
        "colab": {}
      },
      "source": [
        "from sklearn.metrics import classification_report, confusion_matrix\n"
      ],
      "execution_count": 0,
      "outputs": []
    },
    {
      "cell_type": "code",
      "metadata": {
        "id": "YITgVi40MX5t",
        "colab_type": "code",
        "colab": {
          "base_uri": "https://localhost:8080/",
          "height": 51
        },
        "outputId": "f70e87ba-c528-4f23-c027-b25a5c265679"
      },
      "source": [
        "conv_model.evaluate(test_x,test_y)"
      ],
      "execution_count": 73,
      "outputs": [
        {
          "output_type": "stream",
          "text": [
            "245760/245760 [==============================] - 28s 115us/sample - loss: 0.9284 - acc: 0.8334\n"
          ],
          "name": "stdout"
        },
        {
          "output_type": "execute_result",
          "data": {
            "text/plain": [
              "[0.9283831673266831, 0.83338624]"
            ]
          },
          "metadata": {
            "tags": []
          },
          "execution_count": 73
        }
      ]
    },
    {
      "cell_type": "code",
      "metadata": {
        "id": "tZTigMT-fpcc",
        "colab_type": "code",
        "colab": {}
      },
      "source": [
        "import pandas as pd\n",
        "import seaborn as sns\n",
        "import matplotlib.pyplot as plt\n",
        "\n",
        "def print_confusion_matrix(confusion_matrix, class_names, figsize = (10,7), fontsize=14):\n",
        "\n",
        "    df_cm = pd.DataFrame(\n",
        "        confusion_matrix, index=class_names, columns=class_names, \n",
        "    )\n",
        "    fig = plt.figure(figsize=figsize)\n",
        "    try:\n",
        "        heatmap = sns.heatmap(df_cm, annot=True, fmt=\"d\")\n",
        "    except ValueError:\n",
        "        raise ValueError(\"Confusion matrix values must be integers.\")\n",
        "    heatmap.yaxis.set_ticklabels(heatmap.yaxis.get_ticklabels(), rotation=0, ha='right', fontsize=fontsize)\n",
        "    heatmap.xaxis.set_ticklabels(heatmap.xaxis.get_ticklabels(), rotation=45, ha='right', fontsize=fontsize)\n",
        "    plt.ylabel('True label')\n",
        "    plt.xlabel('Predicted label')\n",
        "    return fig"
      ],
      "execution_count": 0,
      "outputs": []
    },
    {
      "cell_type": "code",
      "metadata": {
        "id": "35tESca0tJkg",
        "colab_type": "code",
        "colab": {}
      },
      "source": [
        "y_pred=conv_model.predict(test_x)"
      ],
      "execution_count": 0,
      "outputs": []
    },
    {
      "cell_type": "code",
      "metadata": {
        "id": "kZm4r32mCLKb",
        "colab_type": "code",
        "colab": {}
      },
      "source": [
        "matrix = confusion_matrix(test_y.argmax(axis=1), y_pred.argmax(axis=1))\n"
      ],
      "execution_count": 0,
      "outputs": []
    },
    {
      "cell_type": "code",
      "metadata": {
        "id": "QfWQ7mGuQzIJ",
        "colab_type": "code",
        "colab": {
          "base_uri": "https://localhost:8080/",
          "height": 510
        },
        "outputId": "df17c23b-c7ba-4cc9-eba0-19b79f3702df"
      },
      "source": [
        "print(print_confusion_matrix(matrix,['VERT900','VERT2450','ANT500','Lime']))"
      ],
      "execution_count": 77,
      "outputs": [
        {
          "output_type": "stream",
          "text": [
            "Figure(720x504)\n"
          ],
          "name": "stdout"
        },
        {
          "output_type": "display_data",
          "data": {
            "image/png": "[encoded data removed]",
            "text/plain": [
              "<Figure size 720x504 with 2 Axes>"
            ]
          },
          "metadata": {
            "tags": []
          }
        }
      ]
    },
    {
      "cell_type": "code",
      "metadata": {
        "id": "yYRfwXeNajtq",
        "colab_type": "code",
        "colab": {}
      },
      "source": [
        ""
      ],
      "execution_count": 0,
      "outputs": []
    }
  ]
}